{
 "cells": [
  {
   "cell_type": "markdown",
   "id": "d5471dc8",
   "metadata": {},
   "source": [
    "# Object Oriented "
   ]
  },
  {
   "cell_type": "markdown",
   "id": "1b281203",
   "metadata": {},
   "source": [
    "Definisikan class Karyawan berikut dengan attribut dan fungsinya"
   ]
  },
  {
   "cell_type": "code",
   "execution_count": 1,
   "id": "33c1b290",
   "metadata": {},
   "outputs": [],
   "source": [
    "class Karyawan:\n",
    "    nama_perusahaan = 'ABC'\n",
    "    insentif_lembur = 250000\n",
    "    def __init__(self, nama, usia, pendapatan):\n",
    "        self.nama = nama\n",
    "        self.usia = usia\n",
    "        self.pendapatan = pendapatan\n",
    "        self.pendapatan_tambahan = 0\n",
    "    def lembur(self):\n",
    "        self.pendapatan_tambahan += self.insentif_lembur\n",
    "    def tambahan_proyek(self, insentif_proyek):\n",
    "    \tself.pendapatan_tambahan += insentif_proyek\n",
    "    def total_pendapatan(self):\n",
    "    \treturn self.pendapatan + self.pendapatan_tambahan"
   ]
  },
  {
   "cell_type": "markdown",
   "id": "c02cff06",
   "metadata": {},
   "source": [
    "Buat object dari karwayan bernama Aksara dan Senja"
   ]
  },
  {
   "cell_type": "code",
   "execution_count": 2,
   "id": "158ff7ab",
   "metadata": {},
   "outputs": [],
   "source": [
    "aksara = Karyawan('Aksara', 25, 8500000)\n",
    "senja = Karyawan('Senja', 28, 12500000)"
   ]
  },
  {
   "cell_type": "markdown",
   "id": "27a9b1c5",
   "metadata": {},
   "source": [
    "Aksara melaksanakan lembur"
   ]
  },
  {
   "cell_type": "code",
   "execution_count": 3,
   "id": "58532267",
   "metadata": {},
   "outputs": [],
   "source": [
    "aksara.lembur()"
   ]
  },
  {
   "cell_type": "markdown",
   "id": "ce877076",
   "metadata": {},
   "source": [
    "Senja memiliki proyek tambahan"
   ]
  },
  {
   "cell_type": "code",
   "execution_count": 4,
   "id": "26a349c8",
   "metadata": {},
   "outputs": [],
   "source": [
    "senja.tambahan_proyek(2500000)"
   ]
  },
  {
   "cell_type": "markdown",
   "id": "b8697c8f",
   "metadata": {},
   "source": [
    "Cetak pendapatan total Aksara dan Senja"
   ]
  },
  {
   "cell_type": "code",
   "execution_count": 5,
   "id": "3f3b694e",
   "metadata": {},
   "outputs": [
    {
     "name": "stdout",
     "output_type": "stream",
     "text": [
      "Pendapatan Total Aksara: 8750000\n",
      "Pendapatan Total Senja: 15000000\n"
     ]
    }
   ],
   "source": [
    "print('Pendapatan Total Aksara: ' + str(aksara.total_pendapatan()))\n",
    "print('Pendapatan Total Senja: ' +str(senja.total_pendapatan()))"
   ]
  },
  {
   "cell_type": "code",
   "execution_count": 6,
   "id": "a9be87ee",
   "metadata": {},
   "outputs": [],
   "source": [
    "# Definisikan class Karyawan\n",
    "class Karyawan:\n",
    "    def __init__(self, nama, usia, pendapatan, insentif_lembur): \n",
    "        self.nama = nama\n",
    "        self.usia = usia\n",
    "        self.pendapatan = pendapatan \n",
    "        self.pendapatan_tambahan = 0\n",
    "        self.insentif_lembur = insentif_lembur \n",
    "    def lembur(self):\n",
    "        self.pendapatan_tambahan += self.insentif_lembur \n",
    "    def tambahan_proyek(self, jumlah_tambahan):\n",
    "        self.pendapatan_tambahan += jumlah_tambahan \n",
    "    def total_pendapatan(self):\n",
    "        return self.pendapatan + self.pendapatan_tambahan\n",
    "# Definisikan class Perusahaan\n",
    "class Perusahaan:\n",
    "    def __init__(self, nama, alamat, nomor_telepon): \n",
    "        self.nama = nama\n",
    "        self.alamat = alamat \n",
    "        self.nomor_telepon = nomor_telepon\n",
    "        self.list_karyawan = []\n",
    "    def aktifkan_karyawan(self, karyawan): \n",
    "        self.list_karyawan.append(karyawan)\n",
    "    def nonaktifkan_karyawan(self, nama_karyawan): \n",
    "        karyawan_nonaktif = None\n",
    "        for karyawan in self.list_karyawan:\n",
    "            if karyawan.nama == nama_karyawan: \n",
    "                karyawan_nonaktif = karyawan\n",
    "                break\n",
    "        if karyawan_nonaktif is not None: \n",
    "            self.list_karyawan.remove(karyawan_nonaktif)"
   ]
  },
  {
   "cell_type": "code",
   "execution_count": 7,
   "id": "a0aa8236",
   "metadata": {},
   "outputs": [],
   "source": [
    "aksara = Karyawan('Aksara', 25, 8500000, 100000)"
   ]
  },
  {
   "cell_type": "code",
   "execution_count": 8,
   "id": "d74457a7",
   "metadata": {},
   "outputs": [
    {
     "data": {
      "text/plain": [
       "8500000"
      ]
     },
     "execution_count": 8,
     "metadata": {},
     "output_type": "execute_result"
    }
   ],
   "source": [
    "aksara.total_pendapatan()"
   ]
  },
  {
   "cell_type": "code",
   "execution_count": 9,
   "id": "e5ac9670",
   "metadata": {},
   "outputs": [],
   "source": [
    "aksara.lembur()"
   ]
  },
  {
   "cell_type": "code",
   "execution_count": 10,
   "id": "d3e32a67",
   "metadata": {},
   "outputs": [
    {
     "data": {
      "text/plain": [
       "8600000"
      ]
     },
     "execution_count": 10,
     "metadata": {},
     "output_type": "execute_result"
    }
   ],
   "source": [
    "aksara.total_pendapatan()"
   ]
  },
  {
   "cell_type": "code",
   "execution_count": 11,
   "id": "d1b6010a",
   "metadata": {},
   "outputs": [],
   "source": [
    "aksara.tambahan_proyek(5000)"
   ]
  },
  {
   "cell_type": "code",
   "execution_count": 12,
   "id": "2af47769",
   "metadata": {},
   "outputs": [
    {
     "data": {
      "text/plain": [
       "8605000"
      ]
     },
     "execution_count": 12,
     "metadata": {},
     "output_type": "execute_result"
    }
   ],
   "source": [
    "aksara.total_pendapatan()"
   ]
  },
  {
   "cell_type": "code",
   "execution_count": 13,
   "id": "eec56a19",
   "metadata": {},
   "outputs": [],
   "source": [
    "aksara = Perusahaan('Aksara', 25, 12345)"
   ]
  },
  {
   "cell_type": "code",
   "execution_count": 14,
   "id": "fb0fc3c8",
   "metadata": {},
   "outputs": [],
   "source": [
    "aksara.aktifkan_karyawan('aksara')"
   ]
  },
  {
   "cell_type": "code",
   "execution_count": 15,
   "id": "2b7ebf0c",
   "metadata": {},
   "outputs": [
    {
     "data": {
      "text/plain": [
       "['aksara']"
      ]
     },
     "execution_count": 15,
     "metadata": {},
     "output_type": "execute_result"
    }
   ],
   "source": [
    "aksara.list_karyawan"
   ]
  },
  {
   "cell_type": "code",
   "execution_count": 16,
   "id": "81a0f716",
   "metadata": {},
   "outputs": [],
   "source": [
    "# Definisikan perusahaan\n",
    "perusahaan = Perusahaan('ABC', 'Jl. Jendral Sudirman, Blok 11', '(021) 95205XX')\n",
    "# Definisikan nama-nama karyawan\n",
    "karyawan_1 = Karyawan('Ani', 25, 8500000, 100000)\n",
    "karyawan_2 = Karyawan('Budi', 28, 12000000, 150000)\n",
    "karyawan_3 = Karyawan('Cici', 30, 15000000, 200000)\n",
    "# Aktifkan karyawan di perusahaan ABC\n",
    "perusahaan.aktifkan_karyawan(karyawan_1.nama) \n",
    "perusahaan.aktifkan_karyawan(karyawan_2.nama) \n",
    "perusahaan.aktifkan_karyawan(karyawan_3.nama)"
   ]
  },
  {
   "cell_type": "code",
   "execution_count": 17,
   "id": "72814e3c",
   "metadata": {},
   "outputs": [
    {
     "data": {
      "text/plain": [
       "['Ani', 'Budi', 'Cici']"
      ]
     },
     "execution_count": 17,
     "metadata": {},
     "output_type": "execute_result"
    }
   ],
   "source": [
    "perusahaan.list_karyawan"
   ]
  },
  {
   "cell_type": "markdown",
   "id": "fbbadedb",
   "metadata": {},
   "source": [
    "# Encapsulation & Inheritance"
   ]
  },
  {
   "cell_type": "code",
   "execution_count": 18,
   "id": "2eda0d12",
   "metadata": {},
   "outputs": [],
   "source": [
    "class Karyawan:\n",
    "    nama_perusahaan = 'ABC'\n",
    "    insentif_lembur = 250000\n",
    "    def __init__(self, nama, usia, pendapatan):\n",
    "        self.__nama = nama\n",
    "        self.__usia = usia\n",
    "        self.__pendapatan = pendapatan\n",
    "        self.__pendapatan_tambahan = 0\n",
    "    def lembur(self):\n",
    "        insentif_lembur = self.__insentif_lembur\n",
    "        if usia > 30:\n",
    "            insentif_lembur *= 2\n",
    "        self.__pendapatan_tambahan += insentif_lembur\n",
    "    def tambahan_proyek(self, insentif_proyek):\n",
    "        self.__pendapatan_tambahan += insentif_proyek\n",
    "    def total_pendapatan(self):\n",
    "        return self.__pendapatan + self.__pendapatan_tambahan"
   ]
  },
  {
   "cell_type": "code",
   "execution_count": 20,
   "id": "c837ba25",
   "metadata": {},
   "outputs": [
    {
     "name": "stdout",
     "output_type": "stream",
     "text": [
      "16000000\n"
     ]
    }
   ],
   "source": [
    "karyawan_1 = Karyawan('Kiki', 35, 8000000)\n",
    "#karyawan_1.lembur() # akan error karena memanggil kelas enkapsulasi\n",
    "karyawan_1.tambahan_proyek(karyawan_1.total_pendapatan())\n",
    "print(karyawan_1.total_pendapatan()) "
   ]
  },
  {
   "cell_type": "code",
   "execution_count": 21,
   "id": "f66b8534",
   "metadata": {},
   "outputs": [
    {
     "name": "stdout",
     "output_type": "stream",
     "text": [
      "8750000\n",
      "15000000\n"
     ]
    }
   ],
   "source": [
    "# Definisikan class Karyawan (sebagai base class)\n",
    "class Karyawan: \n",
    "    nama_perusahaan = 'ABC' \n",
    "    insentif_lembur = 250000\n",
    "    def __init__(self, nama, usia, pendapatan): \n",
    "        self.nama = nama\n",
    "        self.usia = usia \n",
    "        self.pendapatan = pendapatan \n",
    "        self.pendapatan_tambahan = 0\n",
    "    def lembur(self):\n",
    "        self.pendapatan_tambahan += self.insentif_lembur \n",
    "    def tambahan_proyek(self, insentif_proyek):\n",
    "        self.pendapatan_tambahan += insentif_proyek \n",
    "    def total_pendapatan(self):\n",
    "        return self.pendapatan + self.pendapatan_tambahan\n",
    "# Buat class turunan (sebagai inherit class) dari class karyawan, \n",
    "# yaitu class AnalisData\n",
    "class AnalisData(Karyawan):\n",
    "    def __init__(self, nama, usia, pendapatan):\n",
    "    # melakukan pemanggilan konstruktur class Karyawan \n",
    "        super().__init__(nama, usia, pendapatan)\n",
    "# Buat kembali class turunan (sebagai inherit class) dari class karyawan,  \n",
    "# yaitu class IlmuwanData\n",
    "class IlmuwanData(Karyawan):\n",
    "    def __init__(self, nama, usia, pendapatan):\n",
    "        # melakukan pemanggilan konstruktur class Karyawan \n",
    "        super().__init__(nama, usia, pendapatan)\n",
    "# Buat objek karyawan yang bekerja sebagai AnalisData\n",
    "aksara = AnalisData('Aksara', 25, 8500000)\n",
    "aksara.lembur()\n",
    "print(aksara.total_pendapatan())\n",
    "# Buat objek karyawan yang bekerja sebagai IlmuwanData\n",
    "senja = IlmuwanData('Senja', 28, 13000000)\n",
    "senja.tambahan_proyek(2000000)\n",
    "print(senja.total_pendapatan())"
   ]
  },
  {
   "cell_type": "code",
   "execution_count": 22,
   "id": "1365f296",
   "metadata": {},
   "outputs": [
    {
     "name": "stdout",
     "output_type": "stream",
     "text": [
      "8750000\n",
      "13500000\n"
     ]
    }
   ],
   "source": [
    "# Definisikan class Karyawan (sebagai base class)\n",
    "class Karyawan: \n",
    "    nama_perusahaan = 'ABC' \n",
    "    insentif_lembur = 250000\n",
    "    def __init__(self, nama, usia, pendapatan): \n",
    "        self.nama = nama\n",
    "        self.usia = usia \n",
    "        self.pendapatan = pendapatan \n",
    "        self.pendapatan_tambahan = 0\n",
    "    def lembur(self):\n",
    "        self.pendapatan_tambahan += self.insentif_lembur \n",
    "    def tambahan_proyek(self, insentif_proyek):\n",
    "        self.pendapatan_tambahan += insentif_proyek \n",
    "    def total_pendapatan(self):\n",
    "        return self.pendapatan + self.pendapatan_tambahan\n",
    "# Buat class turunan (sebagai inherit class) dari class karyawan, \n",
    "# yaitu class AnalisData\n",
    "class AnalisData(Karyawan):\n",
    "    def __init__(self, nama, usia, pendapatan):\n",
    "    # melakukan pemanggilan konstruktur class Karyawan \n",
    "        super().__init__(nama, usia, pendapatan)\n",
    "# Buat kembali class turunan (sebagai inherit class) dari class karyawan,  \n",
    "# yaitu class IlmuwanData\n",
    "class IlmuwanData(Karyawan):\n",
    "    # mengubah atribut insentif_lembur yang digunakan pada fungsi lembur()\n",
    "    insentif_lembur = 500000\n",
    "    def __init__(self, nama, usia, pendapatan): \n",
    "        super().__init__(nama, usia, pendapatan)\n",
    "# Buat objek karyawan yang bekerja sebagai AnalisData\n",
    "aksara = AnalisData('Aksara', 25, 8500000)\n",
    "aksara.lembur()\n",
    "print(aksara.total_pendapatan())\n",
    "# Buat objek karyawan yang bekerja sebagai IlmuwanData\n",
    "senja = IlmuwanData('Senja', 28, 13000000)\n",
    "senja.lembur()\n",
    "print(senja.total_pendapatan())"
   ]
  },
  {
   "cell_type": "markdown",
   "id": "f17d3836",
   "metadata": {},
   "source": [
    "# Polymorphism & Overloading"
   ]
  },
  {
   "cell_type": "markdown",
   "id": "225ee122",
   "metadata": {},
   "source": [
    "mendefinisikan kembali fungsi yang telah diwarisi oleh parent class"
   ]
  },
  {
   "cell_type": "code",
   "execution_count": 24,
   "id": "8a52039f",
   "metadata": {},
   "outputs": [
    {
     "name": "stdout",
     "output_type": "stream",
     "text": [
      "9350000\n"
     ]
    }
   ],
   "source": [
    "# Definisikan class Karyawan (sebagai base class)\n",
    "class Karyawan: \n",
    "    nama_perusahaan = 'ABC' \n",
    "    insentif_lembur = 250000\n",
    "    def __init__(self, nama, usia, pendapatan): \n",
    "        self.nama = nama\n",
    "        self.usia = usia \n",
    "        self.pendapatan = pendapatan \n",
    "        self.pendapatan_tambahan = 0\n",
    "    def lembur(self):\n",
    "        self.pendapatan_tambahan += self.insentif_lembur \n",
    "    def tambahan_proyek(self, insentif_proyek):\n",
    "        self.pendapatan_tambahan += insentif_proyek \n",
    "    def total_pendapatan(self):\n",
    "        return self.pendapatan + self.pendapatan_tambahan\n",
    "# Buat class turunan (sebagai inherit class) dari class karyawan, \n",
    "# yaitu class AnalisData\n",
    "class AnalisData(Karyawan):\n",
    "    def __init__(self, nama, usia, pendapatan):\n",
    "    # melakukan pemanggilan konstruktur class Karyawan \n",
    "        super().__init__(nama, usia, pendapatan)\n",
    "    # menerapkan polymorphism dengan mendefinisikan kembali fungsi \n",
    "    # lembur() pada class AnalisData \n",
    "    def lembur(self):\n",
    "        # pendapatan tambahan pada class AnalisData sebesar\n",
    "        # 10 % dari pendapatannya.\n",
    "        self.pendapatan_tambahan += int(self.pendapatan * 0.1)\n",
    "# Buat objek karyawan yang bekerja sebagai AnalisData\n",
    "aksara = AnalisData('Aksara', 25, 8500000)\n",
    "aksara.lembur()\n",
    "print(aksara.total_pendapatan())"
   ]
  },
  {
   "cell_type": "code",
   "execution_count": 23,
   "id": "bc281ba6",
   "metadata": {},
   "outputs": [
    {
     "name": "stdout",
     "output_type": "stream",
     "text": [
      "Budi\n",
      "21\n",
      "5000000\n",
      "Didi\n",
      "25\n",
      "5000000\n",
      "Hadi\n",
      "21\n",
      "8000000\n"
     ]
    }
   ],
   "source": [
    "class Karyawan: \n",
    "    nama_perusahaan = 'ABC' \n",
    "    insentif_lembur = 250000\n",
    "    # usia akan di-set nilainya menjadi 21 saat tidak\n",
    "    # dispesifikasikan dan pendapatan akan di-set nilainya\n",
    "    # menjadi 5000000 saat tidak dispesifikasikan\n",
    "    def __init__(self, nama, usia=21, pendapatan=5000000): \n",
    "        self.nama = nama\n",
    "        self.usia = usia\n",
    "        self.pendapatan = pendapatan\n",
    "        self.pendapatan_tambahan = 0\n",
    "    def lembur(self):\n",
    "        self.pendapatan_tambahan += self.insentif_lembur \n",
    "    def tambahan_proyek(self, insentif_proyek):\n",
    "        self.pendapatan_tambahan += insentif_proyek \n",
    "    def total_pendapatan(self):\n",
    "        return self.pendapatan + self.pendapatan_tambahan\n",
    "# Karyawan baru pertama yang bernama Budi\n",
    "karyawan_baru1 = Karyawan('Budi')\n",
    "print(karyawan_baru1.nama)\n",
    "print(karyawan_baru1.usia)\n",
    "print(karyawan_baru1.total_pendapatan())\n",
    "# Karyawan baru ke-2 yang bernama Didi, umur 25\n",
    "karyawan_baru2 = Karyawan('Didi', 25)\n",
    "print(karyawan_baru2.nama)\n",
    "print(karyawan_baru2.usia)\n",
    "print(karyawan_baru2.total_pendapatan())\n",
    "# Karyawan baru ke-3 yang bernama Hadi, pendapatan 8000000\n",
    "karyawan_baru3 = Karyawan('Hadi', pendapatan = 8000000)\n",
    "print(karyawan_baru3.nama)\n",
    "print(karyawan_baru3.usia)\n",
    "print(karyawan_baru3.total_pendapatan())"
   ]
  },
  {
   "cell_type": "code",
   "execution_count": null,
   "id": "3467854a",
   "metadata": {},
   "outputs": [],
   "source": []
  }
 ],
 "metadata": {
  "kernelspec": {
   "display_name": "Python 3",
   "language": "python",
   "name": "python3"
  },
  "language_info": {
   "codemirror_mode": {
    "name": "ipython",
    "version": 3
   },
   "file_extension": ".py",
   "mimetype": "text/x-python",
   "name": "python",
   "nbconvert_exporter": "python",
   "pygments_lexer": "ipython3",
   "version": "3.8.8"
  }
 },
 "nbformat": 4,
 "nbformat_minor": 5
}
