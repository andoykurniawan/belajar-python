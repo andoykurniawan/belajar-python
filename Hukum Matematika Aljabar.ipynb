{
 "cells": [
  {
   "cell_type": "code",
   "execution_count": 1,
   "id": "2977794a",
   "metadata": {},
   "outputs": [],
   "source": [
    "import sympy as sym\n",
    "from IPython.display import Math"
   ]
  },
  {
   "cell_type": "code",
   "execution_count": 2,
   "id": "7c6d538d",
   "metadata": {},
   "outputs": [],
   "source": [
    "x, y, z = sym.symbols('x,y,z')"
   ]
  },
  {
   "cell_type": "code",
   "execution_count": 4,
   "id": "11b9a507",
   "metadata": {},
   "outputs": [],
   "source": [
    "p1 = x**y * x**z"
   ]
  },
  {
   "cell_type": "code",
   "execution_count": 5,
   "id": "8d1c0845",
   "metadata": {},
   "outputs": [
    {
     "data": {
      "text/latex": [
       "$\\displaystyle x^{y} x^{z}$"
      ],
      "text/plain": [
       "x**y*x**z"
      ]
     },
     "metadata": {},
     "output_type": "display_data"
    }
   ],
   "source": [
    "display(p1)"
   ]
  },
  {
   "cell_type": "code",
   "execution_count": 6,
   "id": "760f2a0f",
   "metadata": {},
   "outputs": [
    {
     "data": {
      "text/latex": [
       "$\\displaystyle x^{y + z}$"
      ],
      "text/plain": [
       "x**(y + z)"
      ]
     },
     "metadata": {},
     "output_type": "display_data"
    }
   ],
   "source": [
    "display(sym.simplify(p1))"
   ]
  },
  {
   "cell_type": "code",
   "execution_count": 8,
   "id": "920b43cc",
   "metadata": {},
   "outputs": [
    {
     "data": {
      "text/latex": [
       "$\\displaystyle x^{y} x^{- z}$"
      ],
      "text/plain": [
       "x**y*x**(-z)"
      ]
     },
     "metadata": {},
     "output_type": "display_data"
    },
    {
     "data": {
      "text/latex": [
       "$\\displaystyle x^{y} x^{- z}$"
      ],
      "text/plain": [
       "<IPython.core.display.Math object>"
      ]
     },
     "metadata": {},
     "output_type": "display_data"
    }
   ],
   "source": [
    "p2 = x**y / x**z\n",
    "display(p2)\n",
    "display(Math(sym.latex(p2)))"
   ]
  },
  {
   "cell_type": "code",
   "execution_count": 9,
   "id": "4641e91f",
   "metadata": {},
   "outputs": [
    {
     "data": {
      "text/latex": [
       "$\\displaystyle x^{y - z}$"
      ],
      "text/plain": [
       "x**(y - z)"
      ]
     },
     "metadata": {},
     "output_type": "display_data"
    }
   ],
   "source": [
    "display(sym.simplify(p2))"
   ]
  },
  {
   "cell_type": "code",
   "execution_count": 11,
   "id": "1b62f8ed",
   "metadata": {},
   "outputs": [
    {
     "data": {
      "text/latex": [
       "$\\displaystyle x^{y} y^{z}$"
      ],
      "text/plain": [
       "x**y*y**z"
      ]
     },
     "metadata": {},
     "output_type": "display_data"
    },
    {
     "data": {
      "text/latex": [
       "$\\displaystyle x^{y} y^{z}$"
      ],
      "text/plain": [
       "<IPython.core.display.Math object>"
      ]
     },
     "metadata": {},
     "output_type": "display_data"
    }
   ],
   "source": [
    "p3 = x**y * y**z\n",
    "display(p3)\n",
    "display(Math(sym.latex(p3)))"
   ]
  },
  {
   "cell_type": "code",
   "execution_count": 12,
   "id": "bafe8d7a",
   "metadata": {},
   "outputs": [
    {
     "data": {
      "text/latex": [
       "$\\displaystyle x^{y} y^{z}$"
      ],
      "text/plain": [
       "x**y*y**z"
      ]
     },
     "metadata": {},
     "output_type": "display_data"
    }
   ],
   "source": [
    "display(sym.simplify(p3))"
   ]
  },
  {
   "cell_type": "code",
   "execution_count": 14,
   "id": "b53870d6",
   "metadata": {},
   "outputs": [],
   "source": [
    "p1 = x*(x+1)\n",
    "p2 = x"
   ]
  },
  {
   "cell_type": "code",
   "execution_count": 16,
   "id": "adf554d2",
   "metadata": {},
   "outputs": [
    {
     "data": {
      "text/latex": [
       "$\\displaystyle x^{2} \\left(x + 1\\right)$"
      ],
      "text/plain": [
       "x**2*(x + 1)"
      ]
     },
     "metadata": {},
     "output_type": "display_data"
    }
   ],
   "source": [
    "display(p1*p2)"
   ]
  },
  {
   "cell_type": "code",
   "execution_count": 17,
   "id": "13bb55e0",
   "metadata": {},
   "outputs": [
    {
     "data": {
      "text/latex": [
       "$\\displaystyle x^{3} + x^{2}$"
      ],
      "text/plain": [
       "x**3 + x**2"
      ]
     },
     "metadata": {},
     "output_type": "display_data"
    }
   ],
   "source": [
    "display(sym.expand(p1*p2))"
   ]
  },
  {
   "cell_type": "code",
   "execution_count": 18,
   "id": "ae982190",
   "metadata": {},
   "outputs": [],
   "source": [
    "p3 = y**12 + x**8"
   ]
  },
  {
   "cell_type": "code",
   "execution_count": 19,
   "id": "bc3f48bb",
   "metadata": {},
   "outputs": [
    {
     "data": {
      "text/latex": [
       "$\\displaystyle x^{8} + y^{12}$"
      ],
      "text/plain": [
       "x**8 + y**12"
      ]
     },
     "execution_count": 19,
     "metadata": {},
     "output_type": "execute_result"
    }
   ],
   "source": [
    "p3"
   ]
  },
  {
   "cell_type": "code",
   "execution_count": 20,
   "id": "09830616",
   "metadata": {},
   "outputs": [
    {
     "data": {
      "text/latex": [
       "$\\displaystyle x^{2} \\left(x + 1\\right) \\left(x^{8} + y^{12}\\right)$"
      ],
      "text/plain": [
       "x**2*(x + 1)*(x**8 + y**12)"
      ]
     },
     "metadata": {},
     "output_type": "display_data"
    }
   ],
   "source": [
    "display(p1*p2*p3)"
   ]
  },
  {
   "cell_type": "code",
   "execution_count": 21,
   "id": "b80ccf99",
   "metadata": {},
   "outputs": [
    {
     "data": {
      "text/latex": [
       "$\\displaystyle x^{11} + x^{10} + x^{3} y^{12} + x^{2} y^{12}$"
      ],
      "text/plain": [
       "x**11 + x**10 + x**3*y**12 + x**2*y**12"
      ]
     },
     "metadata": {},
     "output_type": "display_data"
    }
   ],
   "source": [
    "display(sym.expand(p1*p2*p3))"
   ]
  },
  {
   "cell_type": "code",
   "execution_count": 22,
   "id": "4f9e8128",
   "metadata": {},
   "outputs": [],
   "source": [
    "p4 = sym.sqrt(y)"
   ]
  },
  {
   "cell_type": "code",
   "execution_count": 23,
   "id": "7b35dcb2",
   "metadata": {},
   "outputs": [
    {
     "data": {
      "text/latex": [
       "$\\displaystyle \\sqrt{y}$"
      ],
      "text/plain": [
       "sqrt(y)"
      ]
     },
     "execution_count": 23,
     "metadata": {},
     "output_type": "execute_result"
    }
   ],
   "source": [
    "p4"
   ]
  },
  {
   "cell_type": "code",
   "execution_count": 24,
   "id": "3a838366",
   "metadata": {},
   "outputs": [
    {
     "data": {
      "text/latex": [
       "$\\displaystyle \\frac{x^{11}}{\\sqrt{y}} + \\frac{x^{10}}{\\sqrt{y}} + x^{3} y^{\\frac{23}{2}} + x^{2} y^{\\frac{23}{2}}$"
      ],
      "text/plain": [
       "x**11/sqrt(y) + x**10/sqrt(y) + x**3*y**(23/2) + x**2*y**(23/2)"
      ]
     },
     "metadata": {},
     "output_type": "display_data"
    }
   ],
   "source": [
    "display(sym.expand((p1*p2*p3)/p4))"
   ]
  },
  {
   "cell_type": "code",
   "execution_count": 26,
   "id": "786a1a8a",
   "metadata": {},
   "outputs": [
    {
     "data": {
      "text/latex": [
       "$\\displaystyle \\frac{x^{2} \\left(x + 1\\right) \\left(x^{8} + y^{12}\\right)}{\\sqrt{y}}$"
      ],
      "text/plain": [
       "x**2*(x + 1)*(x**8 + y**12)/sqrt(y)"
      ]
     },
     "metadata": {},
     "output_type": "display_data"
    }
   ],
   "source": [
    "display((p1*p2*p3)/p4)"
   ]
  },
  {
   "cell_type": "code",
   "execution_count": 31,
   "id": "cf748537",
   "metadata": {},
   "outputs": [
    {
     "data": {
      "text/latex": [
       "$\\displaystyle \\frac{x^{2} \\left(x + 1\\right) \\left(x^{8} + y^{12}\\right)}{\\sqrt{y}}$"
      ],
      "text/plain": [
       "x**2*(x + 1)*(x**8 + y**12)/sqrt(y)"
      ]
     },
     "metadata": {},
     "output_type": "display_data"
    }
   ],
   "source": [
    "display(sym.simplify((p1*p2*p3)/p4))"
   ]
  },
  {
   "cell_type": "code",
   "execution_count": 32,
   "id": "f3423ead",
   "metadata": {},
   "outputs": [
    {
     "name": "stdout",
     "output_type": "stream",
     "text": [
      "Variable   Type      Data/Info\n",
      "------------------------------\n",
      "Math       type      <class 'IPython.core.display.Math'>\n",
      "p1         Mul       x*(x + 1)\n",
      "p2         Symbol    x\n",
      "p3         Add       x**8 + y**12\n",
      "p4         Pow       sqrt(y)\n",
      "sym        module    <module 'sympy' from 'D:\\<...>ges\\\\sympy\\\\__init__.py'>\n",
      "x          Symbol    x\n",
      "y          Symbol    y\n",
      "z          Symbol    z\n"
     ]
    }
   ],
   "source": [
    "%whos"
   ]
  },
  {
   "cell_type": "code",
   "execution_count": 43,
   "id": "e224276f",
   "metadata": {},
   "outputs": [],
   "source": [
    "p1 = 5*(x*y)\n",
    "p2 = (5*x)*y"
   ]
  },
  {
   "cell_type": "code",
   "execution_count": 34,
   "id": "97262c39",
   "metadata": {},
   "outputs": [
    {
     "data": {
      "text/latex": [
       "$\\displaystyle 0$"
      ],
      "text/plain": [
       "0"
      ]
     },
     "execution_count": 34,
     "metadata": {},
     "output_type": "execute_result"
    }
   ],
   "source": [
    "p1 - p2"
   ]
  },
  {
   "cell_type": "code",
   "execution_count": 35,
   "id": "e121de40",
   "metadata": {},
   "outputs": [
    {
     "data": {
      "text/plain": [
       "True"
      ]
     },
     "execution_count": 35,
     "metadata": {},
     "output_type": "execute_result"
    }
   ],
   "source": [
    "p1 == p2"
   ]
  },
  {
   "cell_type": "code",
   "execution_count": 36,
   "id": "08469e88",
   "metadata": {},
   "outputs": [
    {
     "data": {
      "text/latex": [
       "$\\displaystyle 5 x y$"
      ],
      "text/plain": [
       "5*x*y"
      ]
     },
     "metadata": {},
     "output_type": "display_data"
    },
    {
     "data": {
      "text/latex": [
       "$\\displaystyle 5 x y$"
      ],
      "text/plain": [
       "5*x*y"
      ]
     },
     "metadata": {},
     "output_type": "display_data"
    }
   ],
   "source": [
    "display(p1)\n",
    "display(p2)"
   ]
  },
  {
   "cell_type": "code",
   "execution_count": 39,
   "id": "6b5f21d0",
   "metadata": {},
   "outputs": [
    {
     "name": "stdout",
     "output_type": "stream",
     "text": [
      "200\n",
      "200\n"
     ]
    }
   ],
   "source": [
    "print(p1.subs({x:5,y:8}))\n",
    "print(p2.subs({x:5,y:8}))"
   ]
  },
  {
   "cell_type": "code",
   "execution_count": 41,
   "id": "35244898",
   "metadata": {},
   "outputs": [],
   "source": [
    "p3 = 5*(x*y)\n",
    "p4 = x*y*5\n",
    "p5 = y*5*x"
   ]
  },
  {
   "cell_type": "code",
   "execution_count": 42,
   "id": "6470181e",
   "metadata": {},
   "outputs": [
    {
     "data": {
      "text/plain": [
       "True"
      ]
     },
     "execution_count": 42,
     "metadata": {},
     "output_type": "execute_result"
    }
   ],
   "source": [
    "p3 == p4 == p5"
   ]
  },
  {
   "cell_type": "code",
   "execution_count": 44,
   "id": "ee19b2e7",
   "metadata": {},
   "outputs": [
    {
     "name": "stdout",
     "output_type": "stream",
     "text": [
      "200\n",
      "200\n",
      "200\n"
     ]
    }
   ],
   "source": [
    "print(p3.subs({x:5,y:8}))\n",
    "print(p4.subs({x:5,y:8}))\n",
    "print(p5.subs({x:5,y:8}))"
   ]
  },
  {
   "cell_type": "code",
   "execution_count": 45,
   "id": "321cdcf5",
   "metadata": {},
   "outputs": [],
   "source": [
    "a = sym.symbols('a')"
   ]
  },
  {
   "cell_type": "code",
   "execution_count": 52,
   "id": "f322e1c3",
   "metadata": {},
   "outputs": [],
   "source": [
    "x = a*(67-a) + 1/a**2 * (16+a)"
   ]
  },
  {
   "cell_type": "code",
   "execution_count": 55,
   "id": "d44a22e1",
   "metadata": {},
   "outputs": [
    {
     "data": {
      "text/latex": [
       "$\\displaystyle a \\left(67 - a\\right) + \\frac{a + 16}{a^{2}}$"
      ],
      "text/plain": [
       "a*(67 - a) + (a + 16)/a**2"
      ]
     },
     "metadata": {},
     "output_type": "display_data"
    }
   ],
   "source": [
    "display(x)"
   ]
  },
  {
   "cell_type": "code",
   "execution_count": 56,
   "id": "3e8f739e",
   "metadata": {},
   "outputs": [],
   "source": [
    "p6 = x*(y+z)\n",
    "p7 = 3/x+ x**2"
   ]
  },
  {
   "cell_type": "code",
   "execution_count": 57,
   "id": "18f3d021",
   "metadata": {},
   "outputs": [
    {
     "data": {
      "text/latex": [
       "$\\displaystyle \\left(y + z\\right) \\left(a \\left(67 - a\\right) + \\frac{a + 16}{a^{2}}\\right)$"
      ],
      "text/plain": [
       "(y + z)*(a*(67 - a) + (a + 16)/a**2)"
      ]
     },
     "metadata": {},
     "output_type": "display_data"
    },
    {
     "data": {
      "text/latex": [
       "$\\displaystyle \\left(a \\left(67 - a\\right) + \\frac{a + 16}{a^{2}}\\right)^{2} + \\frac{3}{a \\left(67 - a\\right) + \\frac{a + 16}{a^{2}}}$"
      ],
      "text/plain": [
       "(a*(67 - a) + (a + 16)/a**2)**2 + 3/(a*(67 - a) + (a + 16)/a**2)"
      ]
     },
     "metadata": {},
     "output_type": "display_data"
    }
   ],
   "source": [
    "display(p6)\n",
    "display(p7)"
   ]
  },
  {
   "cell_type": "code",
   "execution_count": 58,
   "id": "8a56bf90",
   "metadata": {},
   "outputs": [
    {
     "data": {
      "text/latex": [
       "$\\displaystyle \\left(y + z\\right) \\left(a \\left(67 - a\\right) + \\frac{a + 16}{a^{2}}\\right) \\left(\\left(a \\left(67 - a\\right) + \\frac{a + 16}{a^{2}}\\right)^{2} + \\frac{3}{a \\left(67 - a\\right) + \\frac{a + 16}{a^{2}}}\\right)$"
      ],
      "text/plain": [
       "(y + z)*(a*(67 - a) + (a + 16)/a**2)*((a*(67 - a) + (a + 16)/a**2)**2 + 3/(a*(67 - a) + (a + 16)/a**2))"
      ]
     },
     "metadata": {},
     "output_type": "display_data"
    }
   ],
   "source": [
    "display(p6*p7)"
   ]
  },
  {
   "cell_type": "code",
   "execution_count": 60,
   "id": "3d12d5ea",
   "metadata": {},
   "outputs": [
    {
     "data": {
      "text/latex": [
       "$\\displaystyle - a^{6} y - a^{6} z + 201 a^{5} y + 201 a^{5} z - 13467 a^{4} y - 13467 a^{4} z + 300766 a^{3} y + 300766 a^{3} z - 354 a^{2} y - \\frac{3 a^{2} y}{- a^{2} + 67 a + \\frac{1}{a} + \\frac{16}{a^{2}}} - 354 a^{2} z - \\frac{3 a^{2} z}{- a^{2} + 67 a + \\frac{1}{a} + \\frac{16}{a^{2}}} + 7035 a y + \\frac{201 a y}{- a^{2} + 67 a + \\frac{1}{a} + \\frac{16}{a^{2}}} + 7035 a z + \\frac{201 a z}{- a^{2} + 67 a + \\frac{1}{a} + \\frac{16}{a^{2}}} + 215469 y + \\frac{48 y}{- a^{4} + 67 a^{3} + a + 16} + \\frac{3 y}{- a^{3} + 67 a^{2} + 1 + \\frac{16}{a}} + 215469 z + \\frac{48 z}{- a^{4} + 67 a^{3} + a + 16} + \\frac{3 z}{- a^{3} + 67 a^{2} + 1 + \\frac{16}{a}} + \\frac{105 y}{a} + \\frac{105 z}{a} + \\frac{5664 y}{a^{2}} + \\frac{5664 z}{a^{2}} + \\frac{51457 y}{a^{3}} + \\frac{51457 z}{a^{3}} + \\frac{48 y}{a^{4}} + \\frac{48 z}{a^{4}} + \\frac{768 y}{a^{5}} + \\frac{768 z}{a^{5}} + \\frac{4096 y}{a^{6}} + \\frac{4096 z}{a^{6}}$"
      ],
      "text/plain": [
       "-a**6*y - a**6*z + 201*a**5*y + 201*a**5*z - 13467*a**4*y - 13467*a**4*z + 300766*a**3*y + 300766*a**3*z - 354*a**2*y - 3*a**2*y/(-a**2 + 67*a + 1/a + 16/a**2) - 354*a**2*z - 3*a**2*z/(-a**2 + 67*a + 1/a + 16/a**2) + 7035*a*y + 201*a*y/(-a**2 + 67*a + 1/a + 16/a**2) + 7035*a*z + 201*a*z/(-a**2 + 67*a + 1/a + 16/a**2) + 215469*y + 48*y/(-a**4 + 67*a**3 + a + 16) + 3*y/(-a**3 + 67*a**2 + 1 + 16/a) + 215469*z + 48*z/(-a**4 + 67*a**3 + a + 16) + 3*z/(-a**3 + 67*a**2 + 1 + 16/a) + 105*y/a + 105*z/a + 5664*y/a**2 + 5664*z/a**2 + 51457*y/a**3 + 51457*z/a**3 + 48*y/a**4 + 48*z/a**4 + 768*y/a**5 + 768*z/a**5 + 4096*y/a**6 + 4096*z/a**6"
      ]
     },
     "metadata": {},
     "output_type": "display_data"
    }
   ],
   "source": [
    "display(sym.expand(p6*p7))"
   ]
  },
  {
   "cell_type": "code",
   "execution_count": 61,
   "id": "bad8e97d",
   "metadata": {},
   "outputs": [
    {
     "data": {
      "text/latex": [
       "$\\displaystyle 0$"
      ],
      "text/plain": [
       "0"
      ]
     },
     "metadata": {},
     "output_type": "display_data"
    }
   ],
   "source": [
    "display(p6*p7 - p7*p6)"
   ]
  },
  {
   "cell_type": "code",
   "execution_count": 66,
   "id": "9a934c31",
   "metadata": {},
   "outputs": [
    {
     "name": "stdout",
     "output_type": "stream",
     "text": [
      "3*y + 3*z\n",
      "1747*y/9 + 1747*z/9\n",
      "128/5\n"
     ]
    }
   ],
   "source": [
    "print(p6.subs(x,3))\n",
    "print(p6.subs(a,3))\n",
    "print(p7.subs({x:5,y:8}))"
   ]
  },
  {
   "cell_type": "code",
   "execution_count": null,
   "id": "2ec8334a",
   "metadata": {},
   "outputs": [],
   "source": []
  }
 ],
 "metadata": {
  "kernelspec": {
   "display_name": "Python 3",
   "language": "python",
   "name": "python3"
  },
  "language_info": {
   "codemirror_mode": {
    "name": "ipython",
    "version": 3
   },
   "file_extension": ".py",
   "mimetype": "text/x-python",
   "name": "python",
   "nbconvert_exporter": "python",
   "pygments_lexer": "ipython3",
   "version": "3.8.8"
  }
 },
 "nbformat": 4,
 "nbformat_minor": 5
}
