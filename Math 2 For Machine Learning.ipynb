{
 "cells": [
  {
   "cell_type": "code",
   "execution_count": 1,
   "id": "9e668b37",
   "metadata": {},
   "outputs": [
    {
     "name": "stdout",
     "output_type": "stream",
     "text": [
      "22\n",
      "54\n"
     ]
    }
   ],
   "source": [
    "print(3 * 4 + 5 * 2)\n",
    "print(3 * (4 + 5) * 2)"
   ]
  },
  {
   "cell_type": "code",
   "execution_count": 2,
   "id": "4a81f224",
   "metadata": {},
   "outputs": [],
   "source": [
    "# urutan aritmatika\n",
    "# 1. Tanda Kurung\n",
    "# 2. Pangkat\n",
    "# 3. Perkalian & Pembagian \n",
    "# 4. Penjumlahan & Pengurangan"
   ]
  },
  {
   "cell_type": "code",
   "execution_count": 3,
   "id": "a4f14bc5",
   "metadata": {},
   "outputs": [
    {
     "name": "stdout",
     "output_type": "stream",
     "text": [
      "3.75\n"
     ]
    }
   ],
   "source": [
    "print(3 / 4 * 5)"
   ]
  },
  {
   "cell_type": "code",
   "execution_count": 5,
   "id": "74543739",
   "metadata": {},
   "outputs": [
    {
     "name": "stdout",
     "output_type": "stream",
     "text": [
      "0.15\n"
     ]
    }
   ],
   "source": [
    "print(3 / (4 * 5))"
   ]
  },
  {
   "cell_type": "markdown",
   "id": "4d6f508d",
   "metadata": {},
   "source": [
    "# Menulis Formula Matematis di Python"
   ]
  },
  {
   "cell_type": "code",
   "execution_count": 6,
   "id": "7bd22362",
   "metadata": {},
   "outputs": [
    {
     "name": "stdout",
     "output_type": "stream",
     "text": [
      "4 + 5 = 9\n"
     ]
    }
   ],
   "source": [
    "print('4 + 5 = 9')"
   ]
  },
  {
   "cell_type": "code",
   "execution_count": 7,
   "id": "cca536a8",
   "metadata": {},
   "outputs": [],
   "source": [
    "from IPython.display import display, Math"
   ]
  },
  {
   "cell_type": "code",
   "execution_count": 8,
   "id": "e523a437",
   "metadata": {},
   "outputs": [
    {
     "data": {
      "text/plain": [
       "'4 + 3 = 7'"
      ]
     },
     "metadata": {},
     "output_type": "display_data"
    }
   ],
   "source": [
    "display('4 + 3 = 7')"
   ]
  },
  {
   "cell_type": "code",
   "execution_count": 9,
   "id": "2a165830",
   "metadata": {},
   "outputs": [
    {
     "data": {
      "text/latex": [
       "$\\displaystyle 4 + 3 = 7$"
      ],
      "text/plain": [
       "<IPython.core.display.Math object>"
      ]
     },
     "metadata": {},
     "output_type": "display_data"
    }
   ],
   "source": [
    "display(Math('4 + 3 = 7'))"
   ]
  },
  {
   "cell_type": "code",
   "execution_count": 11,
   "id": "d78eba78",
   "metadata": {},
   "outputs": [
    {
     "data": {
      "text/latex": [
       "$\\displaystyle 10 + 5 = 15 $"
      ],
      "text/plain": [
       "<IPython.core.display.Math object>"
      ]
     },
     "metadata": {},
     "output_type": "display_data"
    },
    {
     "data": {
      "text/latex": [
       "$\\displaystyle 10 + 5 = 15 $"
      ],
      "text/plain": [
       "<IPython.core.display.Math object>"
      ]
     },
     "metadata": {},
     "output_type": "display_data"
    }
   ],
   "source": [
    "x = 10\n",
    "y = 5\n",
    "display(Math(f'{x} + {y} = {x+y} '))\n",
    "display(Math('{} + {} = {} '.format(x, y, x+y)))"
   ]
  },
  {
   "cell_type": "code",
   "execution_count": 12,
   "id": "968a099c",
   "metadata": {},
   "outputs": [
    {
     "data": {
      "text/latex": [
       "$\\displaystyle 10/5 = 2.0$"
      ],
      "text/plain": [
       "<IPython.core.display.Math object>"
      ]
     },
     "metadata": {},
     "output_type": "display_data"
    }
   ],
   "source": [
    "display(Math(f'{x}/{y} = {x/y}'))"
   ]
  },
  {
   "cell_type": "code",
   "execution_count": 15,
   "id": "b0e3f4c0",
   "metadata": {},
   "outputs": [
    {
     "data": {
      "text/latex": [
       "$\\displaystyle \\frac45 = 0.8$"
      ],
      "text/plain": [
       "<IPython.core.display.Math object>"
      ]
     },
     "metadata": {},
     "output_type": "display_data"
    }
   ],
   "source": [
    "display(Math(f'\\\\frac{4}{5} = {4/5}'))"
   ]
  },
  {
   "cell_type": "code",
   "execution_count": 16,
   "id": "8cbf8d6a",
   "metadata": {},
   "outputs": [
    {
     "data": {
      "text/latex": [
       "$\\displaystyle 10\\times5 = 50$"
      ],
      "text/plain": [
       "<IPython.core.display.Math object>"
      ]
     },
     "metadata": {},
     "output_type": "display_data"
    }
   ],
   "source": [
    "display(Math(f'{x}\\\\times{5} = {x*y}'))"
   ]
  },
  {
   "cell_type": "code",
   "execution_count": 70,
   "id": "5d0be2d0",
   "metadata": {},
   "outputs": [],
   "source": [
    "x = 5\n",
    "y = 10\n",
    "z = 2\n",
    "\n",
    "jawaban1 = 5*x*(5+y)\n",
    "jawaban2 = -y-(x-2)/z"
   ]
  },
  {
   "cell_type": "code",
   "execution_count": 65,
   "id": "98f44192",
   "metadata": {},
   "outputs": [
    {
     "data": {
      "text/latex": [
       "$\\displaystyle 5\\times(5 + y) =  375$"
      ],
      "text/plain": [
       "<IPython.core.display.Math object>"
      ]
     },
     "metadata": {},
     "output_type": "display_data"
    }
   ],
   "source": [
    "display(Math(f'{5}\\\\times({5} + y) =  {jawaban1}'))"
   ]
  },
  {
   "cell_type": "code",
   "execution_count": 67,
   "id": "4f8f65b0",
   "metadata": {},
   "outputs": [
    {
     "data": {
      "text/latex": [
       "$\\displaystyle 5x(5+y) =  375$"
      ],
      "text/plain": [
       "<IPython.core.display.Math object>"
      ]
     },
     "metadata": {},
     "output_type": "display_data"
    }
   ],
   "source": [
    "display(Math(f'5x(5+y) =  {jawaban1}'))"
   ]
  },
  {
   "cell_type": "code",
   "execution_count": 68,
   "id": "9ed84da6",
   "metadata": {},
   "outputs": [
    {
     "data": {
      "text/latex": [
       "$\\displaystyle -y - \\frac32 = -11.5$"
      ],
      "text/plain": [
       "<IPython.core.display.Math object>"
      ]
     },
     "metadata": {},
     "output_type": "display_data"
    }
   ],
   "source": [
    "display(Math(f'-y - \\\\frac{x-2}{z} = {-y-((x-2)/z)}'))"
   ]
  },
  {
   "cell_type": "code",
   "execution_count": 71,
   "id": "c54b1c31",
   "metadata": {},
   "outputs": [
    {
     "data": {
      "text/latex": [
       "$\\displaystyle -y-\\frac 32 = -11.5$"
      ],
      "text/plain": [
       "<IPython.core.display.Math object>"
      ]
     },
     "metadata": {},
     "output_type": "display_data"
    }
   ],
   "source": [
    "display(Math(f'-y-\\\\frac{x-2}{z} = {jawaban2}'))"
   ]
  },
  {
   "cell_type": "code",
   "execution_count": 72,
   "id": "d4dd2d02",
   "metadata": {},
   "outputs": [
    {
     "data": {
      "text/latex": [
       "$\\displaystyle -y-\\frac{x-2}{z} = -11.5$"
      ],
      "text/plain": [
       "<IPython.core.display.Math object>"
      ]
     },
     "metadata": {},
     "output_type": "display_data"
    }
   ],
   "source": [
    "display(Math('-y-\\\\frac{x-2}{z} = %g' %jawaban2))"
   ]
  },
  {
   "cell_type": "code",
   "execution_count": 74,
   "id": "89e51dd6",
   "metadata": {},
   "outputs": [
    {
     "name": "stdout",
     "output_type": "stream",
     "text": [
      "Penulisan Formatting versi lama coba 23 45.800000 67.987\n"
     ]
    }
   ],
   "source": [
    "print('Penulisan Formatting versi lama %s %d %f %g' %('coba', 23, 45.8, 67.987))"
   ]
  },
  {
   "cell_type": "markdown",
   "id": "022a307e",
   "metadata": {},
   "source": [
    "# Pangkat (power)"
   ]
  },
  {
   "cell_type": "code",
   "execution_count": 75,
   "id": "491dda64",
   "metadata": {},
   "outputs": [
    {
     "data": {
      "text/plain": [
       "9"
      ]
     },
     "execution_count": 75,
     "metadata": {},
     "output_type": "execute_result"
    }
   ],
   "source": [
    "3**2"
   ]
  },
  {
   "cell_type": "code",
   "execution_count": 76,
   "id": "22b13af2",
   "metadata": {},
   "outputs": [
    {
     "data": {
      "text/latex": [
       "$\\displaystyle 3^2 = 9$"
      ],
      "text/plain": [
       "<IPython.core.display.Math object>"
      ]
     },
     "metadata": {},
     "output_type": "display_data"
    }
   ],
   "source": [
    "display(Math(f'3^2 = {3**2}'))"
   ]
  },
  {
   "cell_type": "code",
   "execution_count": 79,
   "id": "6451ae2c",
   "metadata": {},
   "outputs": [
    {
     "data": {
      "text/latex": [
       "$\\displaystyle 3^2 \\times 3^5 = 3^7 $"
      ],
      "text/plain": [
       "<IPython.core.display.Math object>"
      ]
     },
     "metadata": {},
     "output_type": "display_data"
    }
   ],
   "source": [
    "display(Math(f'3^2 \\\\times 3^5 = 3^7 '))"
   ]
  },
  {
   "cell_type": "code",
   "execution_count": 131,
   "id": "ccc773ea",
   "metadata": {},
   "outputs": [],
   "source": [
    "x = 5\n",
    "y = 5.1\n",
    "\n",
    "jawaban1 = x**(3/4) * 4**y\n",
    "jawaban2 = 3**3/x**y\n",
    "jawaban3 = 10**(x-4)"
   ]
  },
  {
   "cell_type": "code",
   "execution_count": 133,
   "id": "52b2b101",
   "metadata": {},
   "outputs": [
    {
     "name": "stdout",
     "output_type": "stream",
     "text": [
      "3933.086147822751\n",
      "0.007355576930579584\n",
      "10\n"
     ]
    }
   ],
   "source": [
    "print(jawaban1)\n",
    "print(jawaban2)\n",
    "print(jawaban3)"
   ]
  },
  {
   "cell_type": "code",
   "execution_count": 134,
   "id": "7852316c",
   "metadata": {},
   "outputs": [
    {
     "data": {
      "text/latex": [
       "$\\displaystyle x^3/4 \\times 4^y = 3933.086147822751$"
      ],
      "text/plain": [
       "<IPython.core.display.Math object>"
      ]
     },
     "metadata": {},
     "output_type": "display_data"
    }
   ],
   "source": [
    "display(Math(f'x^3/4 \\\\times 4^y = {jawaban1}'))"
   ]
  },
  {
   "cell_type": "code",
   "execution_count": 136,
   "id": "1096fbfc",
   "metadata": {},
   "outputs": [
    {
     "data": {
      "text/latex": [
       "$\\displaystyle x^{3/4} \\times 4^y = 3933.09$"
      ],
      "text/plain": [
       "<IPython.core.display.Math object>"
      ]
     },
     "metadata": {},
     "output_type": "display_data"
    }
   ],
   "source": [
    "display(Math('x^{3/4} \\\\times 4^y = %g' %jawaban1))"
   ]
  },
  {
   "cell_type": "code",
   "execution_count": 137,
   "id": "77228f28",
   "metadata": {},
   "outputs": [
    {
     "data": {
      "text/latex": [
       "$\\displaystyle  \\frac {3^3} {x^y} = 0.00735558$"
      ],
      "text/plain": [
       "<IPython.core.display.Math object>"
      ]
     },
     "metadata": {},
     "output_type": "display_data"
    }
   ],
   "source": [
    "display(Math(' \\\\frac {3^3} {x^y} = %g' %jawaban2))"
   ]
  },
  {
   "cell_type": "code",
   "execution_count": 138,
   "id": "232875c7",
   "metadata": {},
   "outputs": [
    {
     "data": {
      "text/latex": [
       "$\\displaystyle 10^{x-4} = 10$"
      ],
      "text/plain": [
       "<IPython.core.display.Math object>"
      ]
     },
     "metadata": {},
     "output_type": "display_data"
    }
   ],
   "source": [
    "display(Math('10^{x-4} = %g' %jawaban3))"
   ]
  },
  {
   "cell_type": "code",
   "execution_count": null,
   "id": "aa94e724",
   "metadata": {},
   "outputs": [],
   "source": []
  }
 ],
 "metadata": {
  "kernelspec": {
   "display_name": "Python 3",
   "language": "python",
   "name": "python3"
  },
  "language_info": {
   "codemirror_mode": {
    "name": "ipython",
    "version": 3
   },
   "file_extension": ".py",
   "mimetype": "text/x-python",
   "name": "python",
   "nbconvert_exporter": "python",
   "pygments_lexer": "ipython3",
   "version": "3.8.8"
  }
 },
 "nbformat": 4,
 "nbformat_minor": 5
}
