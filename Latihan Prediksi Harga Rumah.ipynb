{
 "cells": [
  {
   "cell_type": "code",
   "execution_count": 108,
   "id": "5ea1dcf0",
   "metadata": {},
   "outputs": [],
   "source": [
    "import requests\n",
    "from contextlib import closing\n",
    "import csv"
   ]
  },
  {
   "cell_type": "code",
   "execution_count": 109,
   "id": "2ead4cff",
   "metadata": {},
   "outputs": [],
   "source": [
    "url = \"https://storage.googleapis.com/dqlab-dataset/harga_rumah.txt\"\n",
    "data_harga_rumah = []\n",
    "with closing(requests.get(url, stream=True)) as r:\n",
    "    f = (line.decode('utf-8') for line in r.iter_lines())\n",
    "    data_harga_rumah = [row for row in csv.reader(f)]"
   ]
  },
  {
   "cell_type": "code",
   "execution_count": 110,
   "id": "22f604eb",
   "metadata": {},
   "outputs": [
    {
     "data": {
      "text/plain": [
       "[['tanah', 'bangunan', 'jarak_ke_pusat', 'harga'],\n",
       " ['70', '50', '15', '500'],\n",
       " ['70', '60', '30', '400'],\n",
       " ['70', '60', '55', '300'],\n",
       " ['100', '50', '30', '700'],\n",
       " ['100', '70', '25', '1000'],\n",
       " ['100', '70', '50', '650'],\n",
       " ['120', '100', '20', '2000'],\n",
       " ['120', '80', '50', '1200'],\n",
       " ['150', '100', '50', '1800'],\n",
       " ['150', '90', '15', '3000']]"
      ]
     },
     "execution_count": 110,
     "metadata": {},
     "output_type": "execute_result"
    }
   ],
   "source": [
    "data_harga_rumah"
   ]
  },
  {
   "cell_type": "markdown",
   "id": "934d0f83",
   "metadata": {},
   "source": [
    "# Step 1\n",
    "Buat list of dict dengan nama harga rumah"
   ]
  },
  {
   "cell_type": "code",
   "execution_count": 111,
   "id": "158e1e3a",
   "metadata": {},
   "outputs": [
    {
     "data": {
      "text/plain": [
       "['tanah', 'bangunan', 'jarak_ke_pusat', 'harga']"
      ]
     },
     "execution_count": 111,
     "metadata": {},
     "output_type": "execute_result"
    }
   ],
   "source": [
    "key_harga_rumah = data_harga_rumah[0]\n",
    "key_harga_rumah\n"
   ]
  },
  {
   "cell_type": "code",
   "execution_count": 112,
   "id": "187aacac",
   "metadata": {},
   "outputs": [
    {
     "name": "stdout",
     "output_type": "stream",
     "text": [
      "[{'tanah': '70', 'bangunan': '50', 'jarak_ke_pusat': '15', 'harga': '500'}, {'tanah': '70', 'bangunan': '60', 'jarak_ke_pusat': '30', 'harga': '400'}, {'tanah': '70', 'bangunan': '60', 'jarak_ke_pusat': '55', 'harga': '300'}, {'tanah': '100', 'bangunan': '50', 'jarak_ke_pusat': '30', 'harga': '700'}, {'tanah': '100', 'bangunan': '70', 'jarak_ke_pusat': '25', 'harga': '1000'}, {'tanah': '100', 'bangunan': '70', 'jarak_ke_pusat': '50', 'harga': '650'}, {'tanah': '120', 'bangunan': '100', 'jarak_ke_pusat': '20', 'harga': '2000'}, {'tanah': '120', 'bangunan': '80', 'jarak_ke_pusat': '50', 'harga': '1200'}, {'tanah': '150', 'bangunan': '100', 'jarak_ke_pusat': '50', 'harga': '1800'}, {'tanah': '150', 'bangunan': '90', 'jarak_ke_pusat': '15', 'harga': '3000'}]\n"
     ]
    }
   ],
   "source": [
    "harga_rumah = []\n",
    "for baris_harga_rumah in data_harga_rumah[1:]:\n",
    "\tdict_harga_rumah = dict()\n",
    "\tfor i in range(len(baris_harga_rumah)):\n",
    "\t\tdict_harga_rumah[key_harga_rumah[i]] = baris_harga_rumah[i]\n",
    "\tharga_rumah.append(dict_harga_rumah)\n",
    "print(harga_rumah)"
   ]
  },
  {
   "cell_type": "code",
   "execution_count": 113,
   "id": "dd1316d9",
   "metadata": {},
   "outputs": [
    {
     "data": {
      "text/plain": [
       "10"
      ]
     },
     "execution_count": 113,
     "metadata": {},
     "output_type": "execute_result"
    }
   ],
   "source": [
    "len(data_harga_rumah[1:])"
   ]
  },
  {
   "cell_type": "code",
   "execution_count": 114,
   "id": "4974ffe4",
   "metadata": {},
   "outputs": [
    {
     "data": {
      "text/plain": [
       "[{'tanah': '70', 'bangunan': '50', 'jarak_ke_pusat': '15', 'harga': '500'},\n",
       " {'tanah': '70', 'bangunan': '60', 'jarak_ke_pusat': '30', 'harga': '400'},\n",
       " {'tanah': '70', 'bangunan': '60', 'jarak_ke_pusat': '55', 'harga': '300'},\n",
       " {'tanah': '100', 'bangunan': '50', 'jarak_ke_pusat': '30', 'harga': '700'},\n",
       " {'tanah': '100', 'bangunan': '70', 'jarak_ke_pusat': '25', 'harga': '1000'},\n",
       " {'tanah': '100', 'bangunan': '70', 'jarak_ke_pusat': '50', 'harga': '650'},\n",
       " {'tanah': '120', 'bangunan': '100', 'jarak_ke_pusat': '20', 'harga': '2000'},\n",
       " {'tanah': '120', 'bangunan': '80', 'jarak_ke_pusat': '50', 'harga': '1200'},\n",
       " {'tanah': '150', 'bangunan': '100', 'jarak_ke_pusat': '50', 'harga': '1800'},\n",
       " {'tanah': '150', 'bangunan': '90', 'jarak_ke_pusat': '15', 'harga': '3000'}]"
      ]
     },
     "execution_count": 114,
     "metadata": {},
     "output_type": "execute_result"
    }
   ],
   "source": [
    "harga_rumah"
   ]
  },
  {
   "cell_type": "markdown",
   "id": "22eb7c95",
   "metadata": {},
   "source": [
    "# STEP 2:\n",
    "Buat fungsi  get_all_specified_attribute yang menerima parameter list_of_dictionary \n",
    "(tipe data list yang berisikan sekumpulan tipe data dictionary) dan specified_key \n",
    "(tipe data string). Fungsi akan mengembalikan sebuah list yang berisikan seluruh \n",
    "atribut dengan kunci (key) specified_key. "
   ]
  },
  {
   "cell_type": "code",
   "execution_count": 115,
   "id": "b3af1d95",
   "metadata": {},
   "outputs": [],
   "source": [
    "def get_all_specified_attributes(list_of_dictionary, specified_key):\n",
    "\tlist_attributes = []\n",
    "\tfor data in list_of_dictionary:\n",
    "\t\tattribute = data[specified_key]\n",
    "\t\tlist_attributes.append(attribute)\n",
    "\treturn list_attributes"
   ]
  },
  {
   "cell_type": "code",
   "execution_count": 116,
   "id": "a08a7b06",
   "metadata": {},
   "outputs": [
    {
     "data": {
      "text/plain": [
       "['tanah', 'bangunan', 'jarak_ke_pusat', 'harga']"
      ]
     },
     "execution_count": 116,
     "metadata": {},
     "output_type": "execute_result"
    }
   ],
   "source": [
    "key_harga_rumah"
   ]
  },
  {
   "cell_type": "code",
   "execution_count": 117,
   "id": "68395b5a",
   "metadata": {},
   "outputs": [
    {
     "data": {
      "text/plain": [
       "[{'tanah': '70', 'bangunan': '50', 'jarak_ke_pusat': '15', 'harga': '500'},\n",
       " {'tanah': '70', 'bangunan': '60', 'jarak_ke_pusat': '30', 'harga': '400'},\n",
       " {'tanah': '70', 'bangunan': '60', 'jarak_ke_pusat': '55', 'harga': '300'},\n",
       " {'tanah': '100', 'bangunan': '50', 'jarak_ke_pusat': '30', 'harga': '700'},\n",
       " {'tanah': '100', 'bangunan': '70', 'jarak_ke_pusat': '25', 'harga': '1000'},\n",
       " {'tanah': '100', 'bangunan': '70', 'jarak_ke_pusat': '50', 'harga': '650'},\n",
       " {'tanah': '120', 'bangunan': '100', 'jarak_ke_pusat': '20', 'harga': '2000'},\n",
       " {'tanah': '120', 'bangunan': '80', 'jarak_ke_pusat': '50', 'harga': '1200'},\n",
       " {'tanah': '150', 'bangunan': '100', 'jarak_ke_pusat': '50', 'harga': '1800'},\n",
       " {'tanah': '150', 'bangunan': '90', 'jarak_ke_pusat': '15', 'harga': '3000'}]"
      ]
     },
     "execution_count": 117,
     "metadata": {},
     "output_type": "execute_result"
    }
   ],
   "source": [
    "harga_rumah"
   ]
  },
  {
   "cell_type": "code",
   "execution_count": 118,
   "id": "ff167445",
   "metadata": {},
   "outputs": [
    {
     "data": {
      "text/plain": [
       "['70', '70', '70', '100', '100', '100', '120', '120', '150', '150']"
      ]
     },
     "execution_count": 118,
     "metadata": {},
     "output_type": "execute_result"
    }
   ],
   "source": [
    "get_all_specified_attributes(harga_rumah, 'tanah')"
   ]
  },
  {
   "cell_type": "code",
   "execution_count": 119,
   "id": "d80deada",
   "metadata": {},
   "outputs": [
    {
     "data": {
      "text/plain": [
       "['15', '30', '55', '30', '25', '50', '20', '50', '50', '15']"
      ]
     },
     "execution_count": 119,
     "metadata": {},
     "output_type": "execute_result"
    }
   ],
   "source": [
    "get_all_specified_attributes(harga_rumah, 'jarak_ke_pusat')"
   ]
  },
  {
   "cell_type": "markdown",
   "id": "3ffe1f3e",
   "metadata": {},
   "source": [
    "# STEP 3: \n",
    "Buat fungsi fungsi min_value yang menerima parameter list_attributes (berupa \n",
    "tipe data list) dan mengembalikan nilai terkecil dalam list_attributes "
   ]
  },
  {
   "cell_type": "code",
   "execution_count": 120,
   "id": "fb8a4204",
   "metadata": {},
   "outputs": [],
   "source": [
    "def min_value(list_attributes):\n",
    "\tmin_attribute = 9999\n",
    "\tfor attr in list_attributes:\n",
    "\t\tif int(attr) < min_attribute:\n",
    "\t\t\tmin_attribute = int(attr)\n",
    "\treturn min_attribute"
   ]
  },
  {
   "cell_type": "code",
   "execution_count": 121,
   "id": "a5f20505",
   "metadata": {},
   "outputs": [
    {
     "data": {
      "text/plain": [
       "70"
      ]
     },
     "execution_count": 121,
     "metadata": {},
     "output_type": "execute_result"
    }
   ],
   "source": [
    "min_value(get_all_specified_attributes(harga_rumah, 'tanah'))"
   ]
  },
  {
   "cell_type": "markdown",
   "id": "0eb2904a",
   "metadata": {},
   "source": [
    "Buat fungsi dan max_value yang menerima parameter list_attribute dan \n",
    "mengembalikan nilai terbesar dalam list_attributes.\t"
   ]
  },
  {
   "cell_type": "code",
   "execution_count": 122,
   "id": "dc2853a7",
   "metadata": {},
   "outputs": [],
   "source": [
    "def max_value(list_attributes):\n",
    "\tmax_attribute = -9999\n",
    "\tfor attr in list_attributes:\n",
    "\t\tif int(attr) > max_attribute:\n",
    "\t\t\tmax_attribute = int(attr)\n",
    "\treturn max_attribute"
   ]
  },
  {
   "cell_type": "code",
   "execution_count": 123,
   "id": "d1dc68b2",
   "metadata": {},
   "outputs": [
    {
     "data": {
      "text/plain": [
       "150"
      ]
     },
     "execution_count": 123,
     "metadata": {},
     "output_type": "execute_result"
    }
   ],
   "source": [
    "max_value(get_all_specified_attributes(harga_rumah, 'tanah'))"
   ]
  },
  {
   "cell_type": "markdown",
   "id": "ebf6f76a",
   "metadata": {},
   "source": [
    "# STEP 4: \n",
    "Buat fungsi transform_attribute yang menerima parameter attr (sebuah \n",
    "bilangan), max_attr (sebuah bilangan) dan min_attr (sebuah bilangan) \n",
    "yang mengembalikan nilai transformasi dari sebuah attribute."
   ]
  },
  {
   "cell_type": "code",
   "execution_count": 124,
   "id": "bc7dabe1",
   "metadata": {},
   "outputs": [],
   "source": [
    "def transform_attribute(attr, max_attr, min_attr):\n",
    "\tnilai_transformasi = (attr - min_attr) / (max_attr - min_attr)\n",
    "\treturn nilai_transformasi"
   ]
  },
  {
   "cell_type": "markdown",
   "id": "b130ffd7",
   "metadata": {},
   "source": [
    "# STEP 5:\n",
    "Buat fungsi data_transformation yang menerima parameter list_of_dictionary \n",
    "(sebuah list yang berisikan tipe data dictionary) dan list_attribute_names \n",
    "(sebuah list yang berisikan tipe data string) mengembalikan hasil \n",
    "transformasi data dari list_of_dictionary berdasarkan list_attribute_names \n",
    "dan attr_info telah dispesifikasikan."
   ]
  },
  {
   "cell_type": "code",
   "execution_count": 125,
   "id": "e18a11f6",
   "metadata": {},
   "outputs": [],
   "source": [
    "def data_transformation(list_of_dictionary, list_attribute_names):\n",
    "\tattr_info = {}\n",
    "\tfor attr_name in list_attribute_names:\n",
    "\t\tspecified_attributes = get_all_specified_attributes(list_of_dictionary, attr_name)\n",
    "\t\tmax_attr = max_value(specified_attributes)\n",
    "\t\tmin_attr = min_value(specified_attributes)\n",
    "\t\tattr_info[attr_name] = {'max': max_attr, 'min': min_attr}\n",
    "\t\tdata_idx = 0\n",
    "\t\twhile(data_idx < len(list_of_dictionary)):\n",
    "\t\t\tlist_of_dictionary[data_idx][attr_name] = transform_attribute(int(list_of_dictionary[data_idx][attr_name]), max_attr, min_attr)\n",
    "\t\t\tdata_idx += 1\n",
    "\treturn list_of_dictionary, attr_info"
   ]
  },
  {
   "cell_type": "code",
   "execution_count": 126,
   "id": "e33a7514",
   "metadata": {},
   "outputs": [
    {
     "data": {
      "text/plain": [
       "([{'tanah': 0.0, 'bangunan': 0.0, 'jarak_ke_pusat': 0.0, 'harga': '500'},\n",
       "  {'tanah': 0.0, 'bangunan': 0.2, 'jarak_ke_pusat': 0.375, 'harga': '400'},\n",
       "  {'tanah': 0.0, 'bangunan': 0.2, 'jarak_ke_pusat': 1.0, 'harga': '300'},\n",
       "  {'tanah': 0.375, 'bangunan': 0.0, 'jarak_ke_pusat': 0.375, 'harga': '700'},\n",
       "  {'tanah': 0.375, 'bangunan': 0.4, 'jarak_ke_pusat': 0.25, 'harga': '1000'},\n",
       "  {'tanah': 0.375, 'bangunan': 0.4, 'jarak_ke_pusat': 0.875, 'harga': '650'},\n",
       "  {'tanah': 0.625, 'bangunan': 1.0, 'jarak_ke_pusat': 0.125, 'harga': '2000'},\n",
       "  {'tanah': 0.625, 'bangunan': 0.6, 'jarak_ke_pusat': 0.875, 'harga': '1200'},\n",
       "  {'tanah': 1.0, 'bangunan': 1.0, 'jarak_ke_pusat': 0.875, 'harga': '1800'},\n",
       "  {'tanah': 1.0, 'bangunan': 0.8, 'jarak_ke_pusat': 0.0, 'harga': '3000'}],\n",
       " {'tanah': {'max': 150, 'min': 70},\n",
       "  'bangunan': {'max': 100, 'min': 50},\n",
       "  'jarak_ke_pusat': {'max': 55, 'min': 15}})"
      ]
     },
     "execution_count": 126,
     "metadata": {},
     "output_type": "execute_result"
    }
   ],
   "source": [
    "data_transformation(harga_rumah,['tanah','bangunan','jarak_ke_pusat'])"
   ]
  },
  {
   "cell_type": "markdown",
   "id": "ed8c6a1c",
   "metadata": {},
   "source": [
    "# STEP 6:\n",
    "Berdasarkan data baru dan attr_info ini, buat fungsi transform_data yang\n",
    "menerima parameter data dan attr_info dan mengembalikan nilai atribut \n",
    "dari data baru yang telah ditransformasikan."
   ]
  },
  {
   "cell_type": "code",
   "execution_count": 65,
   "id": "67575979",
   "metadata": {},
   "outputs": [],
   "source": [
    "def transform_data(data, attr_info):\n",
    "\tfor key_name in data.keys():\n",
    "\t\tdata[key_name] = (data[key_name] - attr_info[key_name]['min']) / (\n",
    "\t\t                  attr_info[key_name]['max'] - attr_info[key_name]['min'])\n",
    "\treturn data"
   ]
  },
  {
   "cell_type": "code",
   "execution_count": 67,
   "id": "3a439826",
   "metadata": {},
   "outputs": [],
   "source": [
    "data = {'tanah': 110, 'bangunan': 80, 'jarak_ke_pusat': 35}"
   ]
  },
  {
   "cell_type": "code",
   "execution_count": 68,
   "id": "05fcdb5d",
   "metadata": {},
   "outputs": [],
   "source": [
    "harga_rumah, attr_info = data_transformation(harga_rumah,['tanah','bangunan','jarak_ke_pusat'])"
   ]
  },
  {
   "cell_type": "code",
   "execution_count": 69,
   "id": "e647878d",
   "metadata": {},
   "outputs": [],
   "source": [
    "data = transform_data(harga_rumah, attr_info)"
   ]
  },
  {
   "cell_type": "code",
   "execution_count": 127,
   "id": "3bbc1cd2",
   "metadata": {},
   "outputs": [
    {
     "data": {
      "text/plain": [
       "[{'tanah': 0.0, 'bangunan': 0.0, 'jarak_ke_pusat': 0.0, 'harga': '500'},\n",
       " {'tanah': 0.0, 'bangunan': 0.2, 'jarak_ke_pusat': 0.375, 'harga': '400'},\n",
       " {'tanah': 0.0, 'bangunan': 0.2, 'jarak_ke_pusat': 1.0, 'harga': '300'},\n",
       " {'tanah': 0.375, 'bangunan': 0.0, 'jarak_ke_pusat': 0.375, 'harga': '700'},\n",
       " {'tanah': 0.375, 'bangunan': 0.4, 'jarak_ke_pusat': 0.25, 'harga': '1000'},\n",
       " {'tanah': 0.375, 'bangunan': 0.4, 'jarak_ke_pusat': 0.875, 'harga': '650'},\n",
       " {'tanah': 0.625, 'bangunan': 1.0, 'jarak_ke_pusat': 0.125, 'harga': '2000'},\n",
       " {'tanah': 0.625, 'bangunan': 0.6, 'jarak_ke_pusat': 0.875, 'harga': '1200'},\n",
       " {'tanah': 1.0, 'bangunan': 1.0, 'jarak_ke_pusat': 0.875, 'harga': '1800'},\n",
       " {'tanah': 1.0, 'bangunan': 0.8, 'jarak_ke_pusat': 0.0, 'harga': '3000'}]"
      ]
     },
     "execution_count": 127,
     "metadata": {},
     "output_type": "execute_result"
    }
   ],
   "source": [
    "harga_rumah"
   ]
  },
  {
   "cell_type": "code",
   "execution_count": 128,
   "id": "040a04c9",
   "metadata": {},
   "outputs": [
    {
     "data": {
      "text/plain": [
       "{'tanah': {'max': 150, 'min': 70},\n",
       " 'bangunan': {'max': 100, 'min': 50},\n",
       " 'jarak_ke_pusat': {'max': 55, 'min': 15}}"
      ]
     },
     "execution_count": 128,
     "metadata": {},
     "output_type": "execute_result"
    }
   ],
   "source": [
    "attr_info"
   ]
  },
  {
   "cell_type": "markdown",
   "id": "abb2ce26",
   "metadata": {},
   "source": [
    "# STEP 7:\n",
    "Buat fungsi yang digunakan untuk sistem prediksi harga berdasarkan \n",
    "nilai kemiripan atribut, yaitu argument input data dan list_of_data!"
   ]
  },
  {
   "cell_type": "code",
   "execution_count": 102,
   "id": "5f5e6435",
   "metadata": {},
   "outputs": [],
   "source": [
    "def abs_value(value):\n",
    "\tif value < 0:\n",
    "\t\treturn -value\n",
    "\telse:\n",
    "\t\treturn value\n",
    "def price_based_on_similarity(data ,list_of_data):\n",
    "\tprediksi_harga = 0\n",
    "\tperbedaan_terkecil = 999\n",
    "\tfor data_point in list_of_data:\n",
    "\t\tperbedaan= abs_value(data['tanah'] - data_point['tanah'])\n",
    "\t\tperbedaan+= abs_value(data['bangunan'] - data_point['bangunan'])\n",
    "\t\tperbedaan+= abs_value(data['jarak_ke_pusat'] - data_point['jarak_ke_pusat'])\n",
    "\t\tif perbedaan < perbedaan_terkecil:\n",
    "\t\t\tprediksi_harga = data_point['harga']\n",
    "\t\t\tperbedaan_terkecil = perbedaan\n",
    "\treturn prediksi_harga"
   ]
  },
  {
   "cell_type": "markdown",
   "id": "b805f938",
   "metadata": {},
   "source": [
    "# STEP 8:\n",
    "Hitung harga rumah yang telah ditransformasikan ke dalam variabel \n",
    "harga_rumah berikut dengan atributnya attr_info"
   ]
  },
  {
   "cell_type": "code",
   "execution_count": 107,
   "id": "66322aa3",
   "metadata": {},
   "outputs": [
    {
     "name": "stdout",
     "output_type": "stream",
     "text": [
      "Prediksi harga rumah:  1200\n"
     ]
    }
   ],
   "source": [
    "harga_rumah, attr_info = data_transformation(harga_rumah,\n",
    "                                             ['tanah','bangunan','jarak_ke_pusat'])\n",
    "# Gunakan variabel data untuk memprediksi harga rumah\n",
    "data = {'tanah': 110, 'bangunan': 80, 'jarak_ke_pusat': 35}\n",
    "# Transformasikan data tersebut dengan dengan menggunakan attr_info yang telah \n",
    "# diperoleh yang kembali disimpan ke variabel data.\n",
    "data = transform_data(data, attr_info)\n",
    "# Hitunglah prediksi harga dari variabel data tersebut.\n",
    "harga = price_based_on_similarity(data, harga_rumah)\n",
    "print(\"Prediksi harga rumah: \", harga)"
   ]
  },
  {
   "cell_type": "code",
   "execution_count": null,
   "id": "fd892418",
   "metadata": {},
   "outputs": [],
   "source": []
  }
 ],
 "metadata": {
  "kernelspec": {
   "display_name": "Python 3",
   "language": "python",
   "name": "python3"
  },
  "language_info": {
   "codemirror_mode": {
    "name": "ipython",
    "version": 3
   },
   "file_extension": ".py",
   "mimetype": "text/x-python",
   "name": "python",
   "nbconvert_exporter": "python",
   "pygments_lexer": "ipython3",
   "version": "3.8.8"
  }
 },
 "nbformat": 4,
 "nbformat_minor": 5
}
