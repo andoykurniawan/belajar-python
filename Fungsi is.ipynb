{
 "cells": [
  {
   "cell_type": "code",
   "execution_count": 1,
   "id": "02248d6a",
   "metadata": {},
   "outputs": [
    {
     "name": "stdout",
     "output_type": "stream",
     "text": [
      "1. True\n",
      "2. False\n",
      "3. False\n",
      "4. True\n",
      "5. True\n",
      "6. True\n"
     ]
    }
   ],
   "source": [
    "print('1.', True == 1)\n",
    "print('2.', '' == 0)\n",
    "print('3.', [] == False)\n",
    "print('4.', 23 == 23.0)\n",
    "print('5.', [] == [])\n",
    "print('6.', () == ())"
   ]
  },
  {
   "cell_type": "code",
   "execution_count": 9,
   "id": "0e2b5caf",
   "metadata": {},
   "outputs": [],
   "source": [
    "# True = 1\n",
    "# False = 0\n",
    "# int = float"
   ]
  },
  {
   "cell_type": "code",
   "execution_count": 12,
   "id": "8ce0368a",
   "metadata": {},
   "outputs": [
    {
     "name": "stdout",
     "output_type": "stream",
     "text": [
      "1. False\n",
      "2. True\n",
      "3. False\n",
      "4. False\n",
      "5. False\n",
      "6. True\n"
     ]
    },
    {
     "name": "stderr",
     "output_type": "stream",
     "text": [
      "<>:1: SyntaxWarning: \"is\" with a literal. Did you mean \"==\"?\n",
      "<>:2: SyntaxWarning: \"is\" with a literal. Did you mean \"==\"?\n",
      "<>:4: SyntaxWarning: \"is\" with a literal. Did you mean \"==\"?\n",
      "<>:6: SyntaxWarning: \"is\" with a literal. Did you mean \"==\"?\n",
      "<>:1: SyntaxWarning: \"is\" with a literal. Did you mean \"==\"?\n",
      "<>:2: SyntaxWarning: \"is\" with a literal. Did you mean \"==\"?\n",
      "<>:4: SyntaxWarning: \"is\" with a literal. Did you mean \"==\"?\n",
      "<>:6: SyntaxWarning: \"is\" with a literal. Did you mean \"==\"?\n",
      "<ipython-input-12-549124b3d73c>:1: SyntaxWarning: \"is\" with a literal. Did you mean \"==\"?\n",
      "  print('1.', True is 1)\n",
      "<ipython-input-12-549124b3d73c>:2: SyntaxWarning: \"is\" with a literal. Did you mean \"==\"?\n",
      "  print('2.', 'a' is 'a')\n",
      "<ipython-input-12-549124b3d73c>:4: SyntaxWarning: \"is\" with a literal. Did you mean \"==\"?\n",
      "  print('4.', 23 is 23.0)\n",
      "<ipython-input-12-549124b3d73c>:6: SyntaxWarning: \"is\" with a literal. Did you mean \"==\"?\n",
      "  print('6.', (1,2) is (1,2)) #sequence imumutable (tidak bisa dirubah) --> sama\n"
     ]
    }
   ],
   "source": [
    "print('1.', True is 1)\n",
    "print('2.', 'a' is 'a')\n",
    "print('3.', [] is False)\n",
    "print('4.', 23 is 23.0)\n",
    "print('5.', [1,3,5] is [1,3,5]) # sequence mutable (bisa berubah) --> berbeda\n",
    "print('6.', (1,2) is (1,2)) #sequence imumutable (tidak bisa dirubah) --> sama"
   ]
  },
  {
   "cell_type": "markdown",
   "id": "ca7fd37c",
   "metadata": {},
   "source": [
    "# == membandingkan nilai "
   ]
  },
  {
   "cell_type": "markdown",
   "id": "96e4896a",
   "metadata": {},
   "source": [
    "# is membandingan posisi memori"
   ]
  },
  {
   "cell_type": "code",
   "execution_count": null,
   "id": "45e343cd",
   "metadata": {},
   "outputs": [],
   "source": []
  }
 ],
 "metadata": {
  "kernelspec": {
   "display_name": "Python 3",
   "language": "python",
   "name": "python3"
  },
  "language_info": {
   "codemirror_mode": {
    "name": "ipython",
    "version": 3
   },
   "file_extension": ".py",
   "mimetype": "text/x-python",
   "name": "python",
   "nbconvert_exporter": "python",
   "pygments_lexer": "ipython3",
   "version": "3.8.8"
  }
 },
 "nbformat": 4,
 "nbformat_minor": 5
}
