{
 "cells": [
  {
   "cell_type": "code",
   "execution_count": 1,
   "id": "02248d6a",
   "metadata": {},
   "outputs": [
    {
     "name": "stdout",
     "output_type": "stream",
     "text": [
      "1. True\n",
      "2. False\n",
      "3. False\n",
      "4. True\n",
      "5. True\n",
      "6. True\n"
     ]
    }
   ],
   "source": [
    "print('1.', True == 1)\n",
    "print('2.', '' == 0)\n",
    "print('3.', [] == False)\n",
    "print('4.', 23 == 23.0)\n",
    "print('5.', [] == [])\n",
    "print('6.', () == ())"
   ]
  },
  {
   "cell_type": "code",
   "execution_count": 2,
   "id": "0e2b5caf",
   "metadata": {},
   "outputs": [],
   "source": [
    "# True = 1\n",
    "# False = 0\n",
    "# int = float"
   ]
  },
  {
   "cell_type": "code",
   "execution_count": 3,
   "id": "8ce0368a",
   "metadata": {},
   "outputs": [
    {
     "name": "stdout",
     "output_type": "stream",
     "text": [
      "1. False\n",
      "2. True\n",
      "3. False\n",
      "4. False\n",
      "5. False\n",
      "6. True\n"
     ]
    },
    {
     "name": "stderr",
     "output_type": "stream",
     "text": [
      "<>:1: SyntaxWarning: \"is\" with a literal. Did you mean \"==\"?\n",
      "<>:2: SyntaxWarning: \"is\" with a literal. Did you mean \"==\"?\n",
      "<>:4: SyntaxWarning: \"is\" with a literal. Did you mean \"==\"?\n",
      "<>:6: SyntaxWarning: \"is\" with a literal. Did you mean \"==\"?\n",
      "<>:1: SyntaxWarning: \"is\" with a literal. Did you mean \"==\"?\n",
      "<>:2: SyntaxWarning: \"is\" with a literal. Did you mean \"==\"?\n",
      "<>:4: SyntaxWarning: \"is\" with a literal. Did you mean \"==\"?\n",
      "<>:6: SyntaxWarning: \"is\" with a literal. Did you mean \"==\"?\n",
      "<ipython-input-3-3c26a414367d>:1: SyntaxWarning: \"is\" with a literal. Did you mean \"==\"?\n",
      "  print('1.', True is 1)\n",
      "<ipython-input-3-3c26a414367d>:2: SyntaxWarning: \"is\" with a literal. Did you mean \"==\"?\n",
      "  print('2.', 'a' is 'a')\n",
      "<ipython-input-3-3c26a414367d>:4: SyntaxWarning: \"is\" with a literal. Did you mean \"==\"?\n",
      "  print('4.', 23 is 23.0)\n",
      "<ipython-input-3-3c26a414367d>:6: SyntaxWarning: \"is\" with a literal. Did you mean \"==\"?\n",
      "  print('6.', (1,2) is (1,2)) # sequence imumutable (tidak bisa dirubah) --> sama\n"
     ]
    }
   ],
   "source": [
    "print('1.', True is 1)\n",
    "print('2.', 'a' is 'a')\n",
    "print('3.', [] is False)\n",
    "print('4.', 23 is 23.0)\n",
    "print('5.', [1,3,5] is [1,3,5]) # sequence mutable (bisa berubah) --> berbeda\n",
    "print('6.', (1,2) is (1,2)) # sequence imumutable (tidak bisa dirubah) --> sama"
   ]
  },
  {
   "cell_type": "markdown",
   "id": "ca7fd37c",
   "metadata": {},
   "source": [
    "# == membandingkan nilai "
   ]
  },
  {
   "cell_type": "markdown",
   "id": "96e4896a",
   "metadata": {},
   "source": [
    "# is membandingan posisi memori"
   ]
  },
  {
   "cell_type": "code",
   "execution_count": 4,
   "id": "45e343cd",
   "metadata": {},
   "outputs": [],
   "source": [
    "a = 6\n",
    "b = 3\n",
    "a /= 2 * 3"
   ]
  },
  {
   "cell_type": "code",
   "execution_count": 5,
   "id": "0893bdd3",
   "metadata": {},
   "outputs": [
    {
     "data": {
      "text/plain": [
       "1.0"
      ]
     },
     "execution_count": 5,
     "metadata": {},
     "output_type": "execute_result"
    }
   ],
   "source": [
    "a"
   ]
  },
  {
   "cell_type": "code",
   "execution_count": 6,
   "id": "f1463544",
   "metadata": {},
   "outputs": [],
   "source": [
    "a = 6\n",
    "b = 3\n",
    "c = a / 2 * 3"
   ]
  },
  {
   "cell_type": "code",
   "execution_count": 7,
   "id": "36cb8cd3",
   "metadata": {},
   "outputs": [
    {
     "data": {
      "text/plain": [
       "9.0"
      ]
     },
     "execution_count": 7,
     "metadata": {},
     "output_type": "execute_result"
    }
   ],
   "source": [
    "c"
   ]
  },
  {
   "cell_type": "code",
   "execution_count": 8,
   "id": "e8d4a7d6",
   "metadata": {},
   "outputs": [],
   "source": [
    "x = 1\n",
    "y = 1.0\n",
    "z = \"1\""
   ]
  },
  {
   "cell_type": "code",
   "execution_count": 9,
   "id": "be730488",
   "metadata": {},
   "outputs": [
    {
     "data": {
      "text/plain": [
       "True"
      ]
     },
     "execution_count": 9,
     "metadata": {},
     "output_type": "execute_result"
    }
   ],
   "source": [
    "x == y"
   ]
  },
  {
   "cell_type": "code",
   "execution_count": 10,
   "id": "61ebf6d2",
   "metadata": {},
   "outputs": [
    {
     "data": {
      "text/plain": [
       "True"
      ]
     },
     "execution_count": 10,
     "metadata": {},
     "output_type": "execute_result"
    }
   ],
   "source": [
    "y == int(z)"
   ]
  },
  {
   "cell_type": "code",
   "execution_count": 11,
   "id": "80a65e1c",
   "metadata": {},
   "outputs": [],
   "source": [
    "x = 1\n",
    "y = 0"
   ]
  },
  {
   "cell_type": "code",
   "execution_count": 12,
   "id": "ea61bd57",
   "metadata": {},
   "outputs": [],
   "source": [
    "z = ((x == y) and (x == y)) or not (x == y)"
   ]
  },
  {
   "cell_type": "code",
   "execution_count": 13,
   "id": "fba43949",
   "metadata": {},
   "outputs": [
    {
     "data": {
      "text/plain": [
       "True"
      ]
     },
     "execution_count": 13,
     "metadata": {},
     "output_type": "execute_result"
    }
   ],
   "source": [
    "z"
   ]
  },
  {
   "cell_type": "code",
   "execution_count": 14,
   "id": "aa738710",
   "metadata": {},
   "outputs": [
    {
     "name": "stdout",
     "output_type": "stream",
     "text": [
      "False\n"
     ]
    }
   ],
   "source": [
    "print(not(z))"
   ]
  },
  {
   "cell_type": "code",
   "execution_count": 15,
   "id": "b968b236",
   "metadata": {},
   "outputs": [],
   "source": [
    "x = 5\n",
    "y = x + 3"
   ]
  },
  {
   "cell_type": "code",
   "execution_count": 16,
   "id": "f4dbaac5",
   "metadata": {},
   "outputs": [],
   "source": [
    "y = int(str(y) + \"2\")"
   ]
  },
  {
   "cell_type": "code",
   "execution_count": 17,
   "id": "32c3bc90",
   "metadata": {},
   "outputs": [
    {
     "data": {
      "text/plain": [
       "82"
      ]
     },
     "execution_count": 17,
     "metadata": {},
     "output_type": "execute_result"
    }
   ],
   "source": [
    "y"
   ]
  },
  {
   "cell_type": "code",
   "execution_count": 18,
   "id": "82b414fb",
   "metadata": {},
   "outputs": [
    {
     "name": "stdout",
     "output_type": "stream",
     "text": [
      "2\n",
      "4\n",
      "6\n",
      "8\n",
      "10\n"
     ]
    }
   ],
   "source": [
    "for i in range(10):\n",
    "    if not i % 2 == 0:\n",
    "        print(i+1)"
   ]
  },
  {
   "cell_type": "code",
   "execution_count": 19,
   "id": "8bac6571",
   "metadata": {},
   "outputs": [
    {
     "name": "stdout",
     "output_type": "stream",
     "text": [
      "asepbsepc\n"
     ]
    }
   ],
   "source": [
    "print(\"a\", \"b\", \"c\", sep=\"sep\")"
   ]
  },
  {
   "cell_type": "code",
   "execution_count": 20,
   "id": "a6844618",
   "metadata": {},
   "outputs": [
    {
     "data": {
      "text/plain": [
       "False"
      ]
     },
     "execution_count": 20,
     "metadata": {},
     "output_type": "execute_result"
    }
   ],
   "source": [
    "[1,3,5] is [1,3,5]"
   ]
  },
  {
   "cell_type": "code",
   "execution_count": 21,
   "id": "4b5eb6d2",
   "metadata": {},
   "outputs": [
    {
     "data": {
      "text/plain": [
       "True"
      ]
     },
     "execution_count": 21,
     "metadata": {},
     "output_type": "execute_result"
    }
   ],
   "source": [
    "[1,3,5] == [1,3,5]"
   ]
  },
  {
   "cell_type": "code",
   "execution_count": 22,
   "id": "3350b493",
   "metadata": {},
   "outputs": [
    {
     "name": "stderr",
     "output_type": "stream",
     "text": [
      "<>:1: SyntaxWarning: \"is\" with a literal. Did you mean \"==\"?\n",
      "<>:1: SyntaxWarning: \"is\" with a literal. Did you mean \"==\"?\n",
      "<ipython-input-22-60b2e0e8085d>:1: SyntaxWarning: \"is\" with a literal. Did you mean \"==\"?\n",
      "  (1,3,5) is (1,3,5)\n"
     ]
    },
    {
     "data": {
      "text/plain": [
       "True"
      ]
     },
     "execution_count": 22,
     "metadata": {},
     "output_type": "execute_result"
    }
   ],
   "source": [
    "(1,3,5) is (1,3,5)"
   ]
  },
  {
   "cell_type": "code",
   "execution_count": 23,
   "id": "bfb57ac0",
   "metadata": {},
   "outputs": [
    {
     "name": "stderr",
     "output_type": "stream",
     "text": [
      "<>:2: SyntaxWarning: \"is\" with a literal. Did you mean \"==\"?\n",
      "<>:2: SyntaxWarning: \"is\" with a literal. Did you mean \"==\"?\n",
      "<ipython-input-23-e0419d58149c>:2: SyntaxWarning: \"is\" with a literal. Did you mean \"==\"?\n",
      "  print('2.', (1,2) is (1,2))\n"
     ]
    },
    {
     "name": "stdout",
     "output_type": "stream",
     "text": [
      "1. False\n",
      "2. True\n"
     ]
    }
   ],
   "source": [
    "print('1.', [1,3,5] is [1,3,5])\n",
    "print('2.', (1,2) is (1,2))"
   ]
  },
  {
   "cell_type": "code",
   "execution_count": null,
   "id": "aace7274",
   "metadata": {},
   "outputs": [],
   "source": []
  }
 ],
 "metadata": {
  "kernelspec": {
   "display_name": "Python 3",
   "language": "python",
   "name": "python3"
  },
  "language_info": {
   "codemirror_mode": {
    "name": "ipython",
    "version": 3
   },
   "file_extension": ".py",
   "mimetype": "text/x-python",
   "name": "python",
   "nbconvert_exporter": "python",
   "pygments_lexer": "ipython3",
   "version": "3.8.8"
  }
 },
 "nbformat": 4,
 "nbformat_minor": 5
}
