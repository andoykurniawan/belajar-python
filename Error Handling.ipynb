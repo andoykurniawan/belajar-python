{
 "cells": [
  {
   "cell_type": "code",
   "execution_count": 1,
   "id": "4b5addea",
   "metadata": {},
   "outputs": [
    {
     "name": "stdout",
     "output_type": "stream",
     "text": [
      "cetak\n"
     ]
    }
   ],
   "source": [
    "print('cetak')"
   ]
  },
  {
   "cell_type": "code",
   "execution_count": 2,
   "id": "a4000853",
   "metadata": {},
   "outputs": [
    {
     "name": "stdout",
     "output_type": "stream",
     "text": [
      "3\n"
     ]
    }
   ],
   "source": [
    "print(1+2)"
   ]
  },
  {
   "cell_type": "code",
   "execution_count": 3,
   "id": "82c306d6",
   "metadata": {},
   "outputs": [
    {
     "ename": "TypeError",
     "evalue": "unsupported operand type(s) for +: 'int' and 'str'",
     "output_type": "error",
     "traceback": [
      "\u001b[1;31m---------------------------------------------------------------------------\u001b[0m",
      "\u001b[1;31mTypeError\u001b[0m                                 Traceback (most recent call last)",
      "\u001b[1;32m<ipython-input-3-1a8580cb4e6c>\u001b[0m in \u001b[0;36m<module>\u001b[1;34m\u001b[0m\n\u001b[1;32m----> 1\u001b[1;33m \u001b[0mprint\u001b[0m\u001b[1;33m(\u001b[0m\u001b[1;36m3\u001b[0m\u001b[1;33m+\u001b[0m\u001b[1;34m'2'\u001b[0m\u001b[1;33m)\u001b[0m\u001b[1;33m\u001b[0m\u001b[1;33m\u001b[0m\u001b[0m\n\u001b[0m",
      "\u001b[1;31mTypeError\u001b[0m: unsupported operand type(s) for +: 'int' and 'str'"
     ]
    }
   ],
   "source": [
    "print(3+'2')"
   ]
  },
  {
   "cell_type": "code",
   "execution_count": null,
   "id": "6426f448",
   "metadata": {},
   "outputs": [],
   "source": [
    "print(1/2)"
   ]
  },
  {
   "cell_type": "code",
   "execution_count": null,
   "id": "23e1ddc7",
   "metadata": {},
   "outputs": [],
   "source": [
    "print(1/0)"
   ]
  },
  {
   "cell_type": "code",
   "execution_count": null,
   "id": "26fd38f0",
   "metadata": {},
   "outputs": [],
   "source": [
    "print(input('Masukanlah Angka ='))"
   ]
  },
  {
   "cell_type": "code",
   "execution_count": null,
   "id": "1db8f2da",
   "metadata": {},
   "outputs": [],
   "source": [
    "print(input('Masukanlah Angka ='))"
   ]
  },
  {
   "cell_type": "code",
   "execution_count": null,
   "id": "868fc7e5",
   "metadata": {},
   "outputs": [],
   "source": [
    "print(int(input('Masukanlah Angka =')))"
   ]
  },
  {
   "cell_type": "code",
   "execution_count": null,
   "id": "e26b8f76",
   "metadata": {},
   "outputs": [],
   "source": [
    "print(int(input('Masukanlah Angka =')))"
   ]
  },
  {
   "cell_type": "code",
   "execution_count": null,
   "id": "de9de3d6",
   "metadata": {},
   "outputs": [],
   "source": [
    "try:\n",
    "    print(int(input('Masukanlah Angka = ')))\n",
    "except:\n",
    "    print('Harap Masukkan Data Yang Benar')"
   ]
  },
  {
   "cell_type": "code",
   "execution_count": null,
   "id": "c4fdd27d",
   "metadata": {},
   "outputs": [],
   "source": [
    "try:\n",
    "    print(int(input('Masukanlah Angka = ')))\n",
    "except:\n",
    "    print('Harap Masukkan Data Yang Benar')"
   ]
  },
  {
   "cell_type": "code",
   "execution_count": null,
   "id": "487ece7b",
   "metadata": {},
   "outputs": [],
   "source": [
    "while True:\n",
    "    try:\n",
    "        print(int(input('Masukanlah Angka =')))\n",
    "    except:\n",
    "        print('Harap Masukkan Data Yang Benar')\n",
    "    else:\n",
    "        print('Terima kasih sudah memasukkan angka yang benar')\n",
    "        break"
   ]
  },
  {
   "cell_type": "code",
   "execution_count": null,
   "id": "a4c61372",
   "metadata": {},
   "outputs": [],
   "source": [
    "while True:\n",
    "    try:\n",
    "        print(int(input('Masukanlah Angka =')))\n",
    "    except:\n",
    "        print('Harap Masukkan Data Yang Benar')\n",
    "    else:\n",
    "        print('Terima kasih sudah memasukkan angka yang benar')\n",
    "        break"
   ]
  },
  {
   "cell_type": "code",
   "execution_count": null,
   "id": "eba8373f",
   "metadata": {},
   "outputs": [],
   "source": [
    "while True:\n",
    "    try:\n",
    "        angka = int(input('Masukanlah Angka = '))\n",
    "        print(20/angka)\n",
    "    except:\n",
    "        print('Harap Masukkan Data Yang Benar')\n",
    "    else:\n",
    "        print('Terima kasih sudah memasukkan angka yang benar')\n",
    "        break"
   ]
  },
  {
   "cell_type": "code",
   "execution_count": null,
   "id": "8ed85572",
   "metadata": {},
   "outputs": [],
   "source": [
    "while True:\n",
    "    try:\n",
    "        angka = int(input('Masukanlah Angka = '))\n",
    "        print(20/angka)\n",
    "    except:\n",
    "        print('Harap Masukkan Data Yang Benar')\n",
    "    else:\n",
    "        print('Terima kasih sudah memasukkan angka yang benar')\n",
    "        break"
   ]
  },
  {
   "cell_type": "code",
   "execution_count": null,
   "id": "574e1cb5",
   "metadata": {},
   "outputs": [],
   "source": [
    "while True:\n",
    "    try:\n",
    "        angka = int(input('Masukanlah Angka = '))\n",
    "        print(20/angka)\n",
    "    except ZeroDivisionError:\n",
    "        print('Harap Masukkan Data Lebih Besar dari 0')\n",
    "    except ValueError:\n",
    "        print('Harap Masukkan Data Yang Benar')\n",
    "    else:\n",
    "        print('Terima kasih sudah memasukkan angka yang benar')\n",
    "        break"
   ]
  },
  {
   "cell_type": "code",
   "execution_count": null,
   "id": "563bc290",
   "metadata": {},
   "outputs": [],
   "source": [
    "def hitung(a1,a2):\n",
    "    return a1+a2"
   ]
  },
  {
   "cell_type": "code",
   "execution_count": null,
   "id": "a23b11b4",
   "metadata": {},
   "outputs": [],
   "source": [
    "print(hitung(1,8))"
   ]
  },
  {
   "cell_type": "code",
   "execution_count": null,
   "id": "079eaf77",
   "metadata": {},
   "outputs": [],
   "source": [
    "print(hitung(10,'as'))"
   ]
  },
  {
   "cell_type": "code",
   "execution_count": 5,
   "id": "6524ca4c",
   "metadata": {},
   "outputs": [],
   "source": [
    "def hitung(a1,a2):\n",
    "    \n",
    "    while True:\n",
    "        try:\n",
    "            a1+a2\n",
    "        except:\n",
    "            print('Mohon Masukan Angka Yang Benar')\n",
    "            while True:\n",
    "                try:\n",
    "                    a1 = int(input('Masukkan Angka Pertama = '))\n",
    "                    a2 = int(input('Masukkan Angka Kedua = '))\n",
    "                except:\n",
    "                    print('Nilai Yang Dimasukan Berupa Angka, Bukan Karakter')\n",
    "                else:\n",
    "                    break\n",
    "        else:\n",
    "            print(a1+a2)\n",
    "            print('Fungsi Jumlah Berhasil')\n",
    "            break\n",
    "    "
   ]
  },
  {
   "cell_type": "code",
   "execution_count": 6,
   "id": "b22c581c",
   "metadata": {},
   "outputs": [
    {
     "name": "stdout",
     "output_type": "stream",
     "text": [
      "9\n",
      "Fungsi Jumlah Berhasil\n",
      "None\n"
     ]
    }
   ],
   "source": [
    "print(hitung(4,5))"
   ]
  },
  {
   "cell_type": "code",
   "execution_count": 7,
   "id": "0d4426ea",
   "metadata": {},
   "outputs": [
    {
     "name": "stdout",
     "output_type": "stream",
     "text": [
      "Mohon Masukan Angka Yang Benar\n",
      "Masukkan Angka Pertama = as\n",
      "Nilai Yang Dimasukan Berupa Angka, Bukan Karakter\n",
      "Masukkan Angka Pertama = 12\n",
      "Masukkan Angka Kedua = as\n",
      "Nilai Yang Dimasukan Berupa Angka, Bukan Karakter\n",
      "Masukkan Angka Pertama = 12\n",
      "Masukkan Angka Kedua = 12\n",
      "24\n",
      "Fungsi Jumlah Berhasil\n",
      "None\n"
     ]
    }
   ],
   "source": [
    "print(hitung(4,'as'))"
   ]
  },
  {
   "cell_type": "code",
   "execution_count": 8,
   "id": "373fad9d",
   "metadata": {},
   "outputs": [],
   "source": [
    "def hitung(a1,a2):\n",
    "    \n",
    "    while True:\n",
    "        try:\n",
    "            a1+a2\n",
    "        except:\n",
    "            while True:\n",
    "                try:\n",
    "                    a1 = int(input('Masukkan Angka Pertama = '))\n",
    "                    a2 = int(input('Masukkan Angka Kedua = '))\n",
    "                except:\n",
    "                    print('Nilai Yang Dimasukan Berupa Angka, Bukan Karakter')\n",
    "                else:\n",
    "                    break\n",
    "        else:\n",
    "            print(a1+a2)\n",
    "            print('Fungsi Jumlah Berhasil')\n",
    "            break"
   ]
  },
  {
   "cell_type": "code",
   "execution_count": 9,
   "id": "fe915f38",
   "metadata": {},
   "outputs": [
    {
     "name": "stdout",
     "output_type": "stream",
     "text": [
      "5\n",
      "Fungsi Jumlah Berhasil\n"
     ]
    }
   ],
   "source": [
    "hitung(1,4)"
   ]
  },
  {
   "cell_type": "code",
   "execution_count": 10,
   "id": "539c18aa",
   "metadata": {},
   "outputs": [
    {
     "name": "stdout",
     "output_type": "stream",
     "text": [
      "Masukkan Angka Pertama = 12\n",
      "Masukkan Angka Kedua = as\n",
      "Nilai Yang Dimasukan Berupa Angka, Bukan Karakter\n",
      "Masukkan Angka Pertama = s2\n",
      "Nilai Yang Dimasukan Berupa Angka, Bukan Karakter\n",
      "Masukkan Angka Pertama = 12\n",
      "Masukkan Angka Kedua = 4\n",
      "16\n",
      "Fungsi Jumlah Berhasil\n"
     ]
    }
   ],
   "source": [
    "hitung('as', 9)"
   ]
  },
  {
   "cell_type": "code",
   "execution_count": 11,
   "id": "327c726f",
   "metadata": {},
   "outputs": [],
   "source": [
    "def hitung(a1,a2):\n",
    "    \n",
    "    while True:\n",
    "        try:\n",
    "            a1+a2\n",
    "        except:\n",
    "            while True:\n",
    "                try:\n",
    "                    a1 = int(input('Masukkan Angka Pertama = '))\n",
    "                    a2 = int(input('Masukkan Angka Kedua = '))\n",
    "                except:\n",
    "                    print('Nilai Yang Dimasukan Berupa Angka, Bukan Karakter')\n",
    "                else:\n",
    "                    break\n",
    "        else:\n",
    "            print(a1+a2)\n",
    "            print('Fungsi Jumlah Berhasil')\n",
    "            break\n",
    "        finally:\n",
    "            print('Saya selalu dijalankan')"
   ]
  },
  {
   "cell_type": "code",
   "execution_count": 12,
   "id": "97aff0cc",
   "metadata": {},
   "outputs": [
    {
     "name": "stdout",
     "output_type": "stream",
     "text": [
      "3\n",
      "Fungsi Jumlah Berhasil\n",
      "Saya selalu dijalankan\n"
     ]
    }
   ],
   "source": [
    "hitung(1,2)"
   ]
  },
  {
   "cell_type": "code",
   "execution_count": 13,
   "id": "be25611b",
   "metadata": {},
   "outputs": [
    {
     "name": "stdout",
     "output_type": "stream",
     "text": [
      "Masukkan Angka Pertama = 1\n",
      "Masukkan Angka Kedua = 2\n",
      "Saya selalu dijalankan\n",
      "3\n",
      "Fungsi Jumlah Berhasil\n",
      "Saya selalu dijalankan\n"
     ]
    }
   ],
   "source": [
    "hitung(1,'as')"
   ]
  },
  {
   "cell_type": "code",
   "execution_count": 14,
   "id": "27a4e0ef",
   "metadata": {},
   "outputs": [
    {
     "name": "stdout",
     "output_type": "stream",
     "text": [
      "Masukkan Angka Pertama = a\n",
      "Nilai Yang Dimasukan Berupa Angka, Bukan Karakter\n",
      "Masukkan Angka Pertama = 2\n",
      "Masukkan Angka Kedua = f\n",
      "Nilai Yang Dimasukan Berupa Angka, Bukan Karakter\n",
      "Masukkan Angka Pertama = 1\n",
      "Masukkan Angka Kedua = 6\n",
      "Saya selalu dijalankan\n",
      "7\n",
      "Fungsi Jumlah Berhasil\n",
      "Saya selalu dijalankan\n"
     ]
    }
   ],
   "source": [
    "hitung(1,'as')"
   ]
  },
  {
   "cell_type": "code",
   "execution_count": 17,
   "id": "685694c5",
   "metadata": {},
   "outputs": [
    {
     "name": "stdout",
     "output_type": "stream",
     "text": [
      "Masukkan Angka = 12\n",
      "12\n",
      "Saya Jalan Terus\n"
     ]
    }
   ],
   "source": [
    "try:\n",
    "    angka = int(input('Masukkan Angka = '))\n",
    "except:\n",
    "    print('Masukan Angka, Bukan Karakter')\n",
    "else:\n",
    "    print(angka)\n",
    "finally:\n",
    "    print('Saya Jalan Terus')"
   ]
  },
  {
   "cell_type": "code",
   "execution_count": 18,
   "id": "68c26f44",
   "metadata": {},
   "outputs": [
    {
     "name": "stdout",
     "output_type": "stream",
     "text": [
      "Masukkan Angka = a\n",
      "Masukan Angka, Bukan Karakter\n",
      "Saya Jalan Terus\n"
     ]
    }
   ],
   "source": [
    "try:\n",
    "    angka = int(input('Masukkan Angka = '))\n",
    "except:\n",
    "    print('Masukan Angka, Bukan Karakter')\n",
    "else:\n",
    "    print(angka)\n",
    "finally:\n",
    "    print('Saya Jalan Terus')"
   ]
  },
  {
   "cell_type": "code",
   "execution_count": 19,
   "id": "cf23ec63",
   "metadata": {},
   "outputs": [
    {
     "name": "stdout",
     "output_type": "stream",
     "text": [
      "Masukkan Angka = 0\n",
      "Masukan Angka, Bukan Karakter\n",
      "Saya Jalan Terus\n"
     ]
    }
   ],
   "source": [
    "try:\n",
    "    angka = int(input('Masukkan Angka = '))\n",
    "    10/angka\n",
    "except:\n",
    "    print('Masukan Angka, Bukan Karakter')\n",
    "else:\n",
    "    print(angka)\n",
    "finally:\n",
    "    print('Saya Jalan Terus')"
   ]
  },
  {
   "cell_type": "code",
   "execution_count": 20,
   "id": "03c3c519",
   "metadata": {},
   "outputs": [
    {
     "name": "stdout",
     "output_type": "stream",
     "text": [
      "Masukkan Angka = 0\n",
      "Masukan Angka Lebih Dari 0\n",
      "Saya Jalan Terus\n"
     ]
    }
   ],
   "source": [
    "try:\n",
    "    angka = int(input('Masukkan Angka = '))\n",
    "    10/angka\n",
    "except ZeroDivisionError:\n",
    "    print('Masukan Angka Lebih Dari 0')\n",
    "except ValueError:\n",
    "    print('Masukan Angka, Bukan Karakter')\n",
    "else:\n",
    "    print(angka)\n",
    "finally:\n",
    "    print('Saya Jalan Terus')"
   ]
  },
  {
   "cell_type": "code",
   "execution_count": 21,
   "id": "941ef604",
   "metadata": {},
   "outputs": [
    {
     "name": "stdout",
     "output_type": "stream",
     "text": [
      "Masukkan Angka = a\n",
      "Masukan Angka, Bukan Karakter\n",
      "Saya Jalan Terus\n"
     ]
    }
   ],
   "source": [
    "try:\n",
    "    angka = int(input('Masukkan Angka = '))\n",
    "    10/angka\n",
    "except ZeroDivisionError:\n",
    "    print('Masukan Angka Lebih Dari 0')\n",
    "except ValueError:\n",
    "    print('Masukan Angka, Bukan Karakter')\n",
    "else:\n",
    "    print(angka)\n",
    "finally:\n",
    "    print('Saya Jalan Terus')"
   ]
  },
  {
   "cell_type": "code",
   "execution_count": 22,
   "id": "d4a3ad59",
   "metadata": {},
   "outputs": [
    {
     "name": "stdout",
     "output_type": "stream",
     "text": [
      "Masukkan Angka = 5\n",
      "Masukan Angka, Bukan Karakter\n",
      "Saya Jalan Terus\n"
     ]
    }
   ],
   "source": [
    "try:\n",
    "    angka = int(input('Masukkan Angka = '))\n",
    "    10/angka\n",
    "    raise ValueError() # \n",
    "except ZeroDivisionError:\n",
    "    print('Masukan Angka Lebih Dari 0')\n",
    "except ValueError:\n",
    "    print('Masukan Angka, Bukan Karakter')\n",
    "else:\n",
    "    print(angka)\n",
    "finally:\n",
    "    print('Saya Jalan Terus')"
   ]
  },
  {
   "cell_type": "code",
   "execution_count": 23,
   "id": "4f6324c1",
   "metadata": {},
   "outputs": [
    {
     "name": "stdout",
     "output_type": "stream",
     "text": [
      "Masukkan Angka = 12\n",
      "Saya Jalan Terus\n"
     ]
    },
    {
     "ename": "ValueError",
     "evalue": "Masukan Angka, Bukan Karakter",
     "output_type": "error",
     "traceback": [
      "\u001b[1;31m---------------------------------------------------------------------------\u001b[0m",
      "\u001b[1;31mValueError\u001b[0m                                Traceback (most recent call last)",
      "\u001b[1;32m<ipython-input-23-c4de99e12e6d>\u001b[0m in \u001b[0;36m<module>\u001b[1;34m\u001b[0m\n\u001b[0;32m      2\u001b[0m     \u001b[0mangka\u001b[0m \u001b[1;33m=\u001b[0m \u001b[0mint\u001b[0m\u001b[1;33m(\u001b[0m\u001b[0minput\u001b[0m\u001b[1;33m(\u001b[0m\u001b[1;34m'Masukkan Angka = '\u001b[0m\u001b[1;33m)\u001b[0m\u001b[1;33m)\u001b[0m\u001b[1;33m\u001b[0m\u001b[1;33m\u001b[0m\u001b[0m\n\u001b[0;32m      3\u001b[0m     \u001b[1;36m10\u001b[0m\u001b[1;33m/\u001b[0m\u001b[0mangka\u001b[0m\u001b[1;33m\u001b[0m\u001b[1;33m\u001b[0m\u001b[0m\n\u001b[1;32m----> 4\u001b[1;33m     \u001b[1;32mraise\u001b[0m \u001b[0mValueError\u001b[0m\u001b[1;33m(\u001b[0m\u001b[1;34m'Masukan Angka, Bukan Karakter'\u001b[0m\u001b[1;33m)\u001b[0m\u001b[1;33m\u001b[0m\u001b[1;33m\u001b[0m\u001b[0m\n\u001b[0m\u001b[0;32m      5\u001b[0m \u001b[1;32mexcept\u001b[0m \u001b[0mZeroDivisionError\u001b[0m\u001b[1;33m:\u001b[0m\u001b[1;33m\u001b[0m\u001b[1;33m\u001b[0m\u001b[0m\n\u001b[0;32m      6\u001b[0m     \u001b[0mprint\u001b[0m\u001b[1;33m(\u001b[0m\u001b[1;34m'Masukan Angka Lebih Dari 0'\u001b[0m\u001b[1;33m)\u001b[0m\u001b[1;33m\u001b[0m\u001b[1;33m\u001b[0m\u001b[0m\n",
      "\u001b[1;31mValueError\u001b[0m: Masukan Angka, Bukan Karakter"
     ]
    }
   ],
   "source": [
    "try:\n",
    "    angka = int(input('Masukkan Angka = '))\n",
    "    10/angka\n",
    "    raise ValueError('Masukan Angka, Bukan Karakter') \n",
    "except ZeroDivisionError:\n",
    "    print('Masukan Angka Lebih Dari 0')\n",
    "else:\n",
    "    print(angka)\n",
    "finally:\n",
    "    print('Saya Jalan Terus')"
   ]
  },
  {
   "cell_type": "code",
   "execution_count": 24,
   "id": "cc08bbf3",
   "metadata": {},
   "outputs": [
    {
     "name": "stdout",
     "output_type": "stream",
     "text": [
      "Masukkan Angka = 12\n",
      "Saya Jalan Terus\n"
     ]
    },
    {
     "ename": "ValueError",
     "evalue": "Masukan Angka, Bukan Karakter",
     "output_type": "error",
     "traceback": [
      "\u001b[1;31m---------------------------------------------------------------------------\u001b[0m",
      "\u001b[1;31mValueError\u001b[0m                                Traceback (most recent call last)",
      "\u001b[1;32m<ipython-input-24-6a9912003b00>\u001b[0m in \u001b[0;36m<module>\u001b[1;34m\u001b[0m\n\u001b[0;32m      2\u001b[0m     \u001b[0mangka\u001b[0m \u001b[1;33m=\u001b[0m \u001b[0mint\u001b[0m\u001b[1;33m(\u001b[0m\u001b[0minput\u001b[0m\u001b[1;33m(\u001b[0m\u001b[1;34m'Masukkan Angka = '\u001b[0m\u001b[1;33m)\u001b[0m\u001b[1;33m)\u001b[0m\u001b[1;33m\u001b[0m\u001b[1;33m\u001b[0m\u001b[0m\n\u001b[0;32m      3\u001b[0m     \u001b[1;36m10\u001b[0m\u001b[1;33m/\u001b[0m\u001b[0mangka\u001b[0m\u001b[1;33m\u001b[0m\u001b[1;33m\u001b[0m\u001b[0m\n\u001b[1;32m----> 4\u001b[1;33m     \u001b[1;32mraise\u001b[0m \u001b[0mValueError\u001b[0m\u001b[1;33m(\u001b[0m\u001b[1;34m'Masukan Angka, Bukan Karakter'\u001b[0m\u001b[1;33m)\u001b[0m\u001b[1;33m\u001b[0m\u001b[1;33m\u001b[0m\u001b[0m\n\u001b[0m\u001b[0;32m      5\u001b[0m     \u001b[1;32mraise\u001b[0m \u001b[0mZeroDivisionError\u001b[0m\u001b[1;33m(\u001b[0m\u001b[1;34m'Masukan Angka Lebih Dari 0'\u001b[0m\u001b[1;33m)\u001b[0m\u001b[1;33m\u001b[0m\u001b[1;33m\u001b[0m\u001b[0m\n\u001b[0;32m      6\u001b[0m \u001b[1;32mfinally\u001b[0m\u001b[1;33m:\u001b[0m\u001b[1;33m\u001b[0m\u001b[1;33m\u001b[0m\u001b[0m\n",
      "\u001b[1;31mValueError\u001b[0m: Masukan Angka, Bukan Karakter"
     ]
    }
   ],
   "source": [
    "try:\n",
    "    angka = int(input('Masukkan Angka = '))\n",
    "    10/angka\n",
    "    raise ValueError('Masukan Angka, Bukan Karakter') \n",
    "    raise ZeroDivisionError('Masukan Angka Lebih Dari 0')\n",
    "finally:\n",
    "    print('Saya Jalan Terus')"
   ]
  },
  {
   "cell_type": "code",
   "execution_count": 25,
   "id": "3bd3e162",
   "metadata": {},
   "outputs": [
    {
     "name": "stdout",
     "output_type": "stream",
     "text": [
      "Masukkan Angka = 0\n",
      "Saya Jalan Terus\n"
     ]
    },
    {
     "ename": "ZeroDivisionError",
     "evalue": "division by zero",
     "output_type": "error",
     "traceback": [
      "\u001b[1;31m---------------------------------------------------------------------------\u001b[0m",
      "\u001b[1;31mZeroDivisionError\u001b[0m                         Traceback (most recent call last)",
      "\u001b[1;32m<ipython-input-25-6a9912003b00>\u001b[0m in \u001b[0;36m<module>\u001b[1;34m\u001b[0m\n\u001b[0;32m      1\u001b[0m \u001b[1;32mtry\u001b[0m\u001b[1;33m:\u001b[0m\u001b[1;33m\u001b[0m\u001b[1;33m\u001b[0m\u001b[0m\n\u001b[0;32m      2\u001b[0m     \u001b[0mangka\u001b[0m \u001b[1;33m=\u001b[0m \u001b[0mint\u001b[0m\u001b[1;33m(\u001b[0m\u001b[0minput\u001b[0m\u001b[1;33m(\u001b[0m\u001b[1;34m'Masukkan Angka = '\u001b[0m\u001b[1;33m)\u001b[0m\u001b[1;33m)\u001b[0m\u001b[1;33m\u001b[0m\u001b[1;33m\u001b[0m\u001b[0m\n\u001b[1;32m----> 3\u001b[1;33m     \u001b[1;36m10\u001b[0m\u001b[1;33m/\u001b[0m\u001b[0mangka\u001b[0m\u001b[1;33m\u001b[0m\u001b[1;33m\u001b[0m\u001b[0m\n\u001b[0m\u001b[0;32m      4\u001b[0m     \u001b[1;32mraise\u001b[0m \u001b[0mValueError\u001b[0m\u001b[1;33m(\u001b[0m\u001b[1;34m'Masukan Angka, Bukan Karakter'\u001b[0m\u001b[1;33m)\u001b[0m\u001b[1;33m\u001b[0m\u001b[1;33m\u001b[0m\u001b[0m\n\u001b[0;32m      5\u001b[0m     \u001b[1;32mraise\u001b[0m \u001b[0mZeroDivisionError\u001b[0m\u001b[1;33m(\u001b[0m\u001b[1;34m'Masukan Angka Lebih Dari 0'\u001b[0m\u001b[1;33m)\u001b[0m\u001b[1;33m\u001b[0m\u001b[1;33m\u001b[0m\u001b[0m\n",
      "\u001b[1;31mZeroDivisionError\u001b[0m: division by zero"
     ]
    }
   ],
   "source": [
    "try:\n",
    "    angka = int(input('Masukkan Angka = '))\n",
    "    10/angka\n",
    "    raise ValueError('Masukan Angka, Bukan Karakter') \n",
    "    raise ZeroDivisionError('Masukan Angka Lebih Dari 0')\n",
    "finally:\n",
    "    print('Saya Jalan Terus')"
   ]
  },
  {
   "cell_type": "code",
   "execution_count": 26,
   "id": "e8b25c55",
   "metadata": {},
   "outputs": [
    {
     "name": "stdout",
     "output_type": "stream",
     "text": [
      "Masukkan Angka = 12\n",
      "Saya Jalan Terus\n"
     ]
    },
    {
     "ename": "ZeroDivisionError",
     "evalue": "Masukan Angka Lebih Dari 0",
     "output_type": "error",
     "traceback": [
      "\u001b[1;31m---------------------------------------------------------------------------\u001b[0m",
      "\u001b[1;31mZeroDivisionError\u001b[0m                         Traceback (most recent call last)",
      "\u001b[1;32m<ipython-input-26-a04fce84e15c>\u001b[0m in \u001b[0;36m<module>\u001b[1;34m\u001b[0m\n\u001b[0;32m      2\u001b[0m     \u001b[0mangka\u001b[0m \u001b[1;33m=\u001b[0m \u001b[0mint\u001b[0m\u001b[1;33m(\u001b[0m\u001b[0minput\u001b[0m\u001b[1;33m(\u001b[0m\u001b[1;34m'Masukkan Angka = '\u001b[0m\u001b[1;33m)\u001b[0m\u001b[1;33m)\u001b[0m\u001b[1;33m\u001b[0m\u001b[1;33m\u001b[0m\u001b[0m\n\u001b[0;32m      3\u001b[0m     \u001b[1;36m10\u001b[0m\u001b[1;33m/\u001b[0m\u001b[0mangka\u001b[0m\u001b[1;33m\u001b[0m\u001b[1;33m\u001b[0m\u001b[0m\n\u001b[1;32m----> 4\u001b[1;33m     \u001b[1;32mraise\u001b[0m \u001b[0mZeroDivisionError\u001b[0m\u001b[1;33m(\u001b[0m\u001b[1;34m'Masukan Angka Lebih Dari 0'\u001b[0m\u001b[1;33m)\u001b[0m\u001b[1;33m\u001b[0m\u001b[1;33m\u001b[0m\u001b[0m\n\u001b[0m\u001b[0;32m      5\u001b[0m \u001b[1;32mfinally\u001b[0m\u001b[1;33m:\u001b[0m\u001b[1;33m\u001b[0m\u001b[1;33m\u001b[0m\u001b[0m\n\u001b[0;32m      6\u001b[0m     \u001b[0mprint\u001b[0m\u001b[1;33m(\u001b[0m\u001b[1;34m'Saya Jalan Terus'\u001b[0m\u001b[1;33m)\u001b[0m\u001b[1;33m\u001b[0m\u001b[1;33m\u001b[0m\u001b[0m\n",
      "\u001b[1;31mZeroDivisionError\u001b[0m: Masukan Angka Lebih Dari 0"
     ]
    }
   ],
   "source": [
    "try:\n",
    "    angka = int(input('Masukkan Angka = '))\n",
    "    10/angka\n",
    "    raise ZeroDivisionError('Masukan Angka Lebih Dari 0')\n",
    "finally:\n",
    "    print('Saya Jalan Terus')"
   ]
  },
  {
   "cell_type": "code",
   "execution_count": 27,
   "id": "a7b294c5",
   "metadata": {},
   "outputs": [
    {
     "name": "stdout",
     "output_type": "stream",
     "text": [
      "Masukkan Angka = 0\n",
      "Saya Jalan Terus\n"
     ]
    },
    {
     "ename": "ZeroDivisionError",
     "evalue": "division by zero",
     "output_type": "error",
     "traceback": [
      "\u001b[1;31m---------------------------------------------------------------------------\u001b[0m",
      "\u001b[1;31mZeroDivisionError\u001b[0m                         Traceback (most recent call last)",
      "\u001b[1;32m<ipython-input-27-a04fce84e15c>\u001b[0m in \u001b[0;36m<module>\u001b[1;34m\u001b[0m\n\u001b[0;32m      1\u001b[0m \u001b[1;32mtry\u001b[0m\u001b[1;33m:\u001b[0m\u001b[1;33m\u001b[0m\u001b[1;33m\u001b[0m\u001b[0m\n\u001b[0;32m      2\u001b[0m     \u001b[0mangka\u001b[0m \u001b[1;33m=\u001b[0m \u001b[0mint\u001b[0m\u001b[1;33m(\u001b[0m\u001b[0minput\u001b[0m\u001b[1;33m(\u001b[0m\u001b[1;34m'Masukkan Angka = '\u001b[0m\u001b[1;33m)\u001b[0m\u001b[1;33m)\u001b[0m\u001b[1;33m\u001b[0m\u001b[1;33m\u001b[0m\u001b[0m\n\u001b[1;32m----> 3\u001b[1;33m     \u001b[1;36m10\u001b[0m\u001b[1;33m/\u001b[0m\u001b[0mangka\u001b[0m\u001b[1;33m\u001b[0m\u001b[1;33m\u001b[0m\u001b[0m\n\u001b[0m\u001b[0;32m      4\u001b[0m     \u001b[1;32mraise\u001b[0m \u001b[0mZeroDivisionError\u001b[0m\u001b[1;33m(\u001b[0m\u001b[1;34m'Masukan Angka Lebih Dari 0'\u001b[0m\u001b[1;33m)\u001b[0m\u001b[1;33m\u001b[0m\u001b[1;33m\u001b[0m\u001b[0m\n\u001b[0;32m      5\u001b[0m \u001b[1;32mfinally\u001b[0m\u001b[1;33m:\u001b[0m\u001b[1;33m\u001b[0m\u001b[1;33m\u001b[0m\u001b[0m\n",
      "\u001b[1;31mZeroDivisionError\u001b[0m: division by zero"
     ]
    }
   ],
   "source": [
    "try:\n",
    "    angka = int(input('Masukkan Angka = '))\n",
    "    10/angka\n",
    "    raise ZeroDivisionError('Masukan Angka Lebih Dari 0')\n",
    "finally:\n",
    "    print('Saya Jalan Terus')"
   ]
  },
  {
   "cell_type": "code",
   "execution_count": null,
   "id": "385e4349",
   "metadata": {},
   "outputs": [],
   "source": []
  }
 ],
 "metadata": {
  "kernelspec": {
   "display_name": "Python 3",
   "language": "python",
   "name": "python3"
  },
  "language_info": {
   "codemirror_mode": {
    "name": "ipython",
    "version": 3
   },
   "file_extension": ".py",
   "mimetype": "text/x-python",
   "name": "python",
   "nbconvert_exporter": "python",
   "pygments_lexer": "ipython3",
   "version": "3.8.8"
  }
 },
 "nbformat": 4,
 "nbformat_minor": 5
}
