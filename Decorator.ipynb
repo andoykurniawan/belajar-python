{
 "cells": [
  {
   "cell_type": "code",
   "execution_count": 1,
   "id": "52e543ba",
   "metadata": {},
   "outputs": [],
   "source": [
    "# menambahkan kegunaan dari fungsi untuk lebih canggih"
   ]
  },
  {
   "cell_type": "code",
   "execution_count": 2,
   "id": "fb107478",
   "metadata": {},
   "outputs": [],
   "source": [
    "def kurban():\n",
    "    print('Bentar lagi kurban bro!')"
   ]
  },
  {
   "cell_type": "code",
   "execution_count": 3,
   "id": "0e20a378",
   "metadata": {},
   "outputs": [],
   "source": [
    "coba = kurban"
   ]
  },
  {
   "cell_type": "code",
   "execution_count": 6,
   "id": "d9d34a5b",
   "metadata": {},
   "outputs": [
    {
     "data": {
      "text/plain": [
       "<function __main__.kurban()>"
      ]
     },
     "execution_count": 6,
     "metadata": {},
     "output_type": "execute_result"
    }
   ],
   "source": [
    "kurban"
   ]
  },
  {
   "cell_type": "code",
   "execution_count": 7,
   "id": "850c915a",
   "metadata": {},
   "outputs": [
    {
     "data": {
      "text/plain": [
       "<function __main__.kurban()>"
      ]
     },
     "execution_count": 7,
     "metadata": {},
     "output_type": "execute_result"
    }
   ],
   "source": [
    "coba"
   ]
  },
  {
   "cell_type": "code",
   "execution_count": 8,
   "id": "154f36e0",
   "metadata": {},
   "outputs": [
    {
     "name": "stdout",
     "output_type": "stream",
     "text": [
      "Bentar lagi kurban bro!\n"
     ]
    }
   ],
   "source": [
    "coba()"
   ]
  },
  {
   "cell_type": "code",
   "execution_count": 9,
   "id": "8a017264",
   "metadata": {},
   "outputs": [],
   "source": [
    "del kurban"
   ]
  },
  {
   "cell_type": "code",
   "execution_count": 10,
   "id": "11d1c72d",
   "metadata": {},
   "outputs": [
    {
     "ename": "NameError",
     "evalue": "name 'kurban' is not defined",
     "output_type": "error",
     "traceback": [
      "\u001b[1;31m---------------------------------------------------------------------------\u001b[0m",
      "\u001b[1;31mNameError\u001b[0m                                 Traceback (most recent call last)",
      "\u001b[1;32m<ipython-input-10-e0d46de983fa>\u001b[0m in \u001b[0;36m<module>\u001b[1;34m\u001b[0m\n\u001b[1;32m----> 1\u001b[1;33m \u001b[0mkurban\u001b[0m\u001b[1;33m\u001b[0m\u001b[1;33m\u001b[0m\u001b[0m\n\u001b[0m",
      "\u001b[1;31mNameError\u001b[0m: name 'kurban' is not defined"
     ]
    }
   ],
   "source": [
    "kurban"
   ]
  },
  {
   "cell_type": "code",
   "execution_count": 11,
   "id": "2e7de297",
   "metadata": {},
   "outputs": [
    {
     "data": {
      "text/plain": [
       "<function __main__.kurban()>"
      ]
     },
     "execution_count": 11,
     "metadata": {},
     "output_type": "execute_result"
    }
   ],
   "source": [
    "coba"
   ]
  },
  {
   "cell_type": "code",
   "execution_count": 12,
   "id": "a23b417a",
   "metadata": {},
   "outputs": [
    {
     "name": "stdout",
     "output_type": "stream",
     "text": [
      "Bentar lagi kurban bro!\n"
     ]
    }
   ],
   "source": [
    "coba()"
   ]
  },
  {
   "cell_type": "code",
   "execution_count": 15,
   "id": "e48baf97",
   "metadata": {},
   "outputs": [],
   "source": [
    "def kurban2(bulan='Dzulhijah'):\n",
    "    print('Sudah siap kurban, InsyaAllah Barokah!')\n",
    "    \n",
    "    def lokasi():\n",
    "        return '\\t lokasi kurban berada di masjid dekat rumah!'"
   ]
  },
  {
   "cell_type": "code",
   "execution_count": 16,
   "id": "93828c90",
   "metadata": {},
   "outputs": [
    {
     "name": "stdout",
     "output_type": "stream",
     "text": [
      "Sudah siap kurban, InsyaAllah Barokah!\n"
     ]
    }
   ],
   "source": [
    "kurban2()"
   ]
  },
  {
   "cell_type": "code",
   "execution_count": 18,
   "id": "4380627f",
   "metadata": {},
   "outputs": [
    {
     "ename": "NameError",
     "evalue": "name 'lokasi' is not defined",
     "output_type": "error",
     "traceback": [
      "\u001b[1;31m---------------------------------------------------------------------------\u001b[0m",
      "\u001b[1;31mNameError\u001b[0m                                 Traceback (most recent call last)",
      "\u001b[1;32m<ipython-input-18-545f34af4fda>\u001b[0m in \u001b[0;36m<module>\u001b[1;34m\u001b[0m\n\u001b[1;32m----> 1\u001b[1;33m \u001b[0mlokasi\u001b[0m\u001b[1;33m(\u001b[0m\u001b[1;33m)\u001b[0m\u001b[1;33m\u001b[0m\u001b[1;33m\u001b[0m\u001b[0m\n\u001b[0m",
      "\u001b[1;31mNameError\u001b[0m: name 'lokasi' is not defined"
     ]
    }
   ],
   "source": [
    "lokasi()"
   ]
  },
  {
   "cell_type": "code",
   "execution_count": 19,
   "id": "33b61b95",
   "metadata": {},
   "outputs": [],
   "source": [
    "def kurban2(bulan='Dzulhijah'):\n",
    "    print('Sudah siap kurban, InsyaAllah Barokah!')\n",
    "    \n",
    "    def lokasi():\n",
    "        return '\\t lokasi kurban berada di masjid dekat rumah!'\\\n",
    "\n",
    "    print(lokasi())"
   ]
  },
  {
   "cell_type": "code",
   "execution_count": 22,
   "id": "7888acf7",
   "metadata": {},
   "outputs": [
    {
     "name": "stdout",
     "output_type": "stream",
     "text": [
      "Sudah siap kurban, InsyaAllah Barokah!\n",
      "\t lokasi kurban berada di masjid dekat rumah!\n"
     ]
    }
   ],
   "source": [
    "kurban2()"
   ]
  },
  {
   "cell_type": "code",
   "execution_count": 23,
   "id": "05ef9916",
   "metadata": {},
   "outputs": [],
   "source": [
    "def kurban2(bulan='Dzulhijah'):\n",
    "    print('Sudah siap kurban, InsyaAllah Barokah!')\n",
    "    \n",
    "    def lokasi():\n",
    "        return '\\t lokasi kurban berada di masjid dekat rumah!'\\\n",
    "\n",
    "    def konfirmasi():\n",
    "        return '\\n \\t Ini bukan bulan dzulhijah'\n",
    "    \n",
    "    print(lokasi())\n",
    "    print(konfirmasi())\n",
    "    \n",
    "    print('Ini adalah perintah terakhir!')"
   ]
  },
  {
   "cell_type": "code",
   "execution_count": 24,
   "id": "bc1cba32",
   "metadata": {},
   "outputs": [
    {
     "name": "stdout",
     "output_type": "stream",
     "text": [
      "Sudah siap kurban, InsyaAllah Barokah!\n",
      "\t lokasi kurban berada di masjid dekat rumah!\n",
      "\n",
      " \t Ini bukan bulan dzulhijah\n",
      "Ini adalah perintah terakhir!\n"
     ]
    }
   ],
   "source": [
    "kurban2()"
   ]
  },
  {
   "cell_type": "code",
   "execution_count": 26,
   "id": "352529e8",
   "metadata": {},
   "outputs": [],
   "source": [
    "def kurban2(bulan='Dzulhijah'):\n",
    "    print('Sudah siap kurban, InsyaAllah Barokah!')\n",
    "    \n",
    "    def lokasi():\n",
    "        return '\\t lokasi kurban berada di masjid dekat rumah!'\\\n",
    "\n",
    "    def konfirmasi():\n",
    "        return '\\n \\t Ini bukan bulan dzulhijah'\n",
    "    \n",
    "    print('Ini adalah perintah terakhir!')\n",
    "    \n",
    "    if bulan=='Dzulhijah':\n",
    "        return lokasi\n",
    "    else:\n",
    "        return konfirmasi"
   ]
  },
  {
   "cell_type": "code",
   "execution_count": 27,
   "id": "f3ccd9e1",
   "metadata": {},
   "outputs": [
    {
     "name": "stdout",
     "output_type": "stream",
     "text": [
      "Sudah siap kurban, InsyaAllah Barokah!\n",
      "Ini adalah perintah terakhir!\n"
     ]
    }
   ],
   "source": [
    "cek_kurban = kurban2()"
   ]
  },
  {
   "cell_type": "code",
   "execution_count": 30,
   "id": "b0627369",
   "metadata": {},
   "outputs": [
    {
     "data": {
      "text/plain": [
       "<function __main__.kurban2.<locals>.lokasi()>"
      ]
     },
     "execution_count": 30,
     "metadata": {},
     "output_type": "execute_result"
    }
   ],
   "source": [
    "cek_kurban"
   ]
  },
  {
   "cell_type": "code",
   "execution_count": 31,
   "id": "2303412c",
   "metadata": {},
   "outputs": [
    {
     "data": {
      "text/plain": [
       "'\\t lokasi kurban berada di masjid dekat rumah!'"
      ]
     },
     "execution_count": 31,
     "metadata": {},
     "output_type": "execute_result"
    }
   ],
   "source": [
    "cek_kurban()"
   ]
  },
  {
   "cell_type": "code",
   "execution_count": 32,
   "id": "43892fd1",
   "metadata": {},
   "outputs": [
    {
     "name": "stdout",
     "output_type": "stream",
     "text": [
      "\t lokasi kurban berada di masjid dekat rumah!\n"
     ]
    }
   ],
   "source": [
    "print(cek_kurban())"
   ]
  },
  {
   "cell_type": "code",
   "execution_count": 33,
   "id": "a4d51f27",
   "metadata": {},
   "outputs": [
    {
     "name": "stdout",
     "output_type": "stream",
     "text": [
      "Sudah siap kurban, InsyaAllah Barokah!\n",
      "Ini adalah perintah terakhir!\n"
     ]
    }
   ],
   "source": [
    "cek_lagi = kurban2('Syawal')"
   ]
  },
  {
   "cell_type": "code",
   "execution_count": 34,
   "id": "0cfa6017",
   "metadata": {},
   "outputs": [
    {
     "data": {
      "text/plain": [
       "<function __main__.kurban2.<locals>.konfirmasi()>"
      ]
     },
     "execution_count": 34,
     "metadata": {},
     "output_type": "execute_result"
    }
   ],
   "source": [
    "cek_lagi"
   ]
  },
  {
   "cell_type": "code",
   "execution_count": 35,
   "id": "a7563b96",
   "metadata": {},
   "outputs": [
    {
     "data": {
      "text/plain": [
       "'\\n \\t Ini bukan bulan dzulhijah'"
      ]
     },
     "execution_count": 35,
     "metadata": {},
     "output_type": "execute_result"
    }
   ],
   "source": [
    "cek_lagi()"
   ]
  },
  {
   "cell_type": "code",
   "execution_count": 36,
   "id": "764aaf86",
   "metadata": {},
   "outputs": [
    {
     "name": "stdout",
     "output_type": "stream",
     "text": [
      "\n",
      " \t Ini bukan bulan dzulhijah\n"
     ]
    }
   ],
   "source": [
    "print(cek_lagi())"
   ]
  },
  {
   "cell_type": "code",
   "execution_count": 37,
   "id": "d6456738",
   "metadata": {},
   "outputs": [],
   "source": [
    "# cara diatas ada cara yg ribet"
   ]
  },
  {
   "cell_type": "code",
   "execution_count": 38,
   "id": "708ce9de",
   "metadata": {},
   "outputs": [],
   "source": [
    "def salam():\n",
    "    return 'Assalamu\\'alaikum'"
   ]
  },
  {
   "cell_type": "code",
   "execution_count": 39,
   "id": "356c483b",
   "metadata": {},
   "outputs": [
    {
     "data": {
      "text/plain": [
       "\"Asslamu'alaikum\""
      ]
     },
     "execution_count": 39,
     "metadata": {},
     "output_type": "execute_result"
    }
   ],
   "source": [
    "salam()"
   ]
  },
  {
   "cell_type": "code",
   "execution_count": 41,
   "id": "0f4fac28",
   "metadata": {},
   "outputs": [],
   "source": [
    "def kabar(fungsi_lain):\n",
    "    print('saya menjalankan fungsi lain')\n",
    "    print(fungsi_lain)"
   ]
  },
  {
   "cell_type": "code",
   "execution_count": 42,
   "id": "f3fa5693",
   "metadata": {},
   "outputs": [
    {
     "name": "stdout",
     "output_type": "stream",
     "text": [
      "saya menjalankan fungsi lain\n",
      "<function salam at 0x0000025212824310>\n"
     ]
    }
   ],
   "source": [
    "kabar(salam)"
   ]
  },
  {
   "cell_type": "code",
   "execution_count": 43,
   "id": "979bd5df",
   "metadata": {},
   "outputs": [],
   "source": [
    "def kabar(fungsi_lain):\n",
    "    print('saya menjalankan fungsi lain')\n",
    "    print(fungsi_lain())"
   ]
  },
  {
   "cell_type": "code",
   "execution_count": 45,
   "id": "badc3151",
   "metadata": {},
   "outputs": [
    {
     "name": "stdout",
     "output_type": "stream",
     "text": [
      "saya menjalankan fungsi lain\n",
      "Asslamu'alaikum\n"
     ]
    }
   ],
   "source": [
    "kabar(salam)"
   ]
  },
  {
   "cell_type": "code",
   "execution_count": 46,
   "id": "eea0125f",
   "metadata": {},
   "outputs": [],
   "source": [
    "def kabar(fungsi_lain):\n",
    "    print('saya menjalankan fungsi lain')\n",
    "    print(fungsi_lain)"
   ]
  },
  {
   "cell_type": "code",
   "execution_count": 47,
   "id": "f11f033c",
   "metadata": {},
   "outputs": [
    {
     "name": "stdout",
     "output_type": "stream",
     "text": [
      "saya menjalankan fungsi lain\n",
      "Asslamu'alaikum\n"
     ]
    }
   ],
   "source": [
    "kabar(salam())"
   ]
  },
  {
   "cell_type": "markdown",
   "id": "dc084890",
   "metadata": {},
   "source": [
    "# Decorator adalah sebuah fungsi yang disingkat dengan @"
   ]
  },
  {
   "cell_type": "code",
   "execution_count": 49,
   "id": "88957f01",
   "metadata": {},
   "outputs": [],
   "source": [
    "def dekoratorku(fungsi):\n",
    "    def wrap_fungsi():\n",
    "        fungsi()\n",
    "    return wrap_fungsi"
   ]
  },
  {
   "cell_type": "code",
   "execution_count": 53,
   "id": "764c49e4",
   "metadata": {},
   "outputs": [],
   "source": [
    "def salam():\n",
    "    print('Assalamu\\'alaikum')"
   ]
  },
  {
   "cell_type": "code",
   "execution_count": 54,
   "id": "3ce67a34",
   "metadata": {},
   "outputs": [
    {
     "name": "stdout",
     "output_type": "stream",
     "text": [
      "Assalamu'alaikum\n"
     ]
    }
   ],
   "source": [
    "salam()"
   ]
  },
  {
   "cell_type": "code",
   "execution_count": 55,
   "id": "e6c46c65",
   "metadata": {},
   "outputs": [],
   "source": [
    "@dekoratorku\n",
    "def salam():\n",
    "    print('Assalamu\\'alaikum')"
   ]
  },
  {
   "cell_type": "code",
   "execution_count": 56,
   "id": "cab20079",
   "metadata": {},
   "outputs": [
    {
     "name": "stdout",
     "output_type": "stream",
     "text": [
      "Assalamu'alaikum\n"
     ]
    }
   ],
   "source": [
    "salam()"
   ]
  },
  {
   "cell_type": "code",
   "execution_count": 57,
   "id": "4a45082b",
   "metadata": {},
   "outputs": [],
   "source": [
    "def dekoratorku(fungsi):\n",
    "    def wrap_fungsi():\n",
    "        print('saya adalah perintah sebelum perintah asli')\n",
    "        fungsi()\n",
    "        print('saya adalah perintah setelah perintah asli')\n",
    "        print('😂')\n",
    "    return wrap_fungsi"
   ]
  },
  {
   "cell_type": "code",
   "execution_count": 58,
   "id": "e58ca256",
   "metadata": {},
   "outputs": [],
   "source": [
    "@dekoratorku\n",
    "def salam():\n",
    "    print('Assalamu\\'alaikum')"
   ]
  },
  {
   "cell_type": "code",
   "execution_count": 59,
   "id": "cbc8c41c",
   "metadata": {},
   "outputs": [
    {
     "name": "stdout",
     "output_type": "stream",
     "text": [
      "saya adalah perintah sebelum perintah asli\n",
      "Assalamu'alaikum\n",
      "saya adalah perintah setelah perintah asli\n",
      "😂\n"
     ]
    }
   ],
   "source": [
    "salam()"
   ]
  },
  {
   "cell_type": "code",
   "execution_count": 60,
   "id": "afe6e11b",
   "metadata": {},
   "outputs": [],
   "source": [
    "def hitung():\n",
    "    print('Perhitungan Aritmatika')"
   ]
  },
  {
   "cell_type": "code",
   "execution_count": 62,
   "id": "e84ad4ac",
   "metadata": {},
   "outputs": [
    {
     "name": "stdout",
     "output_type": "stream",
     "text": [
      "Perhitungan Aritmatika\n"
     ]
    }
   ],
   "source": [
    "hitung()"
   ]
  },
  {
   "cell_type": "code",
   "execution_count": 63,
   "id": "dfea8da7",
   "metadata": {},
   "outputs": [],
   "source": [
    "@dekoratorku\n",
    "def hitung():\n",
    "    print('Perhitungan Aritmatika')"
   ]
  },
  {
   "cell_type": "code",
   "execution_count": 64,
   "id": "5c259495",
   "metadata": {},
   "outputs": [
    {
     "name": "stdout",
     "output_type": "stream",
     "text": [
      "saya adalah perintah sebelum perintah asli\n",
      "Perhitungan Aritmatika\n",
      "saya adalah perintah setelah perintah asli\n",
      "😂\n"
     ]
    }
   ],
   "source": [
    "hitung()"
   ]
  },
  {
   "cell_type": "code",
   "execution_count": 65,
   "id": "1ede2557",
   "metadata": {},
   "outputs": [],
   "source": [
    "@dekoratorku\n",
    "def hitung():\n",
    "    print('Perhitungan Aritmatika')\n",
    "def salam():\n",
    "    print('Assalamu\\'alaikum')"
   ]
  },
  {
   "cell_type": "code",
   "execution_count": 66,
   "id": "b92b17a0",
   "metadata": {},
   "outputs": [
    {
     "name": "stdout",
     "output_type": "stream",
     "text": [
      "saya adalah perintah sebelum perintah asli\n",
      "Perhitungan Aritmatika\n",
      "saya adalah perintah setelah perintah asli\n",
      "😂\n"
     ]
    }
   ],
   "source": [
    "hitung()"
   ]
  },
  {
   "cell_type": "code",
   "execution_count": 67,
   "id": "6096c90e",
   "metadata": {},
   "outputs": [
    {
     "name": "stdout",
     "output_type": "stream",
     "text": [
      "Assalamu'alaikum\n"
     ]
    }
   ],
   "source": [
    "salam()"
   ]
  },
  {
   "cell_type": "code",
   "execution_count": 68,
   "id": "75288700",
   "metadata": {},
   "outputs": [],
   "source": [
    "@dekoratorku\n",
    "def hitung():\n",
    "    print('Perhitungan Aritmatika')\n",
    "    \n",
    "@dekoratorku\n",
    "def salam():\n",
    "    print('Assalamu\\'alaikum')"
   ]
  },
  {
   "cell_type": "code",
   "execution_count": 69,
   "id": "e9cff7c0",
   "metadata": {},
   "outputs": [
    {
     "name": "stdout",
     "output_type": "stream",
     "text": [
      "saya adalah perintah sebelum perintah asli\n",
      "Perhitungan Aritmatika\n",
      "saya adalah perintah setelah perintah asli\n",
      "😂\n"
     ]
    }
   ],
   "source": [
    "hitung()"
   ]
  },
  {
   "cell_type": "code",
   "execution_count": 70,
   "id": "a7c5cca7",
   "metadata": {},
   "outputs": [
    {
     "name": "stdout",
     "output_type": "stream",
     "text": [
      "saya adalah perintah sebelum perintah asli\n",
      "Assalamu'alaikum\n",
      "saya adalah perintah setelah perintah asli\n",
      "😂\n"
     ]
    }
   ],
   "source": [
    "salam()"
   ]
  },
  {
   "cell_type": "code",
   "execution_count": 90,
   "id": "d5788482",
   "metadata": {},
   "outputs": [],
   "source": [
    "# contoh penggunaan decorator di website\n",
    "pengguna1 = {'nama':'Bambang', \n",
    "             'valid':True}\n",
    "pengguna2 = {'nama':'Bambang', \n",
    "             'valid':False}"
   ]
  },
  {
   "cell_type": "code",
   "execution_count": 91,
   "id": "f9231d7b",
   "metadata": {},
   "outputs": [],
   "source": [
    "def otentifikasi(fungsi):\n",
    "    def wrap_func(*args, **kwargs):\n",
    "        if args[0]['valid']:\n",
    "            return fungsi(*args, **kwargs)\n",
    "    return wrap_func"
   ]
  },
  {
   "cell_type": "code",
   "execution_count": 93,
   "id": "01395c44",
   "metadata": {},
   "outputs": [],
   "source": [
    "@otentifikasi\n",
    "def kirim_pesan(user):\n",
    "    print('Pesan berhasil dikirim')"
   ]
  },
  {
   "cell_type": "code",
   "execution_count": 94,
   "id": "7142f9d3",
   "metadata": {},
   "outputs": [
    {
     "name": "stdout",
     "output_type": "stream",
     "text": [
      "Pesan berhasil dikirim\n"
     ]
    }
   ],
   "source": [
    "kirim_pesan(pengguna1)"
   ]
  },
  {
   "cell_type": "code",
   "execution_count": 96,
   "id": "0ec964c7",
   "metadata": {},
   "outputs": [],
   "source": [
    "kirim_pesan(pengguna2)"
   ]
  },
  {
   "cell_type": "code",
   "execution_count": null,
   "id": "5eefe118",
   "metadata": {},
   "outputs": [],
   "source": []
  }
 ],
 "metadata": {
  "kernelspec": {
   "display_name": "Python 3",
   "language": "python",
   "name": "python3"
  },
  "language_info": {
   "codemirror_mode": {
    "name": "ipython",
    "version": 3
   },
   "file_extension": ".py",
   "mimetype": "text/x-python",
   "name": "python",
   "nbconvert_exporter": "python",
   "pygments_lexer": "ipython3",
   "version": "3.8.8"
  }
 },
 "nbformat": 4,
 "nbformat_minor": 5
}
