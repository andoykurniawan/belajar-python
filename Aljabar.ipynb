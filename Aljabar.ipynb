{
 "cells": [
  {
   "cell_type": "code",
   "execution_count": 2,
   "id": "2a23585c",
   "metadata": {},
   "outputs": [],
   "source": [
    "import sympy as sym"
   ]
  },
  {
   "cell_type": "code",
   "execution_count": 3,
   "id": "0f4c9807",
   "metadata": {},
   "outputs": [
    {
     "ename": "NameError",
     "evalue": "name 'x' is not defined",
     "output_type": "error",
     "traceback": [
      "\u001b[1;31m---------------------------------------------------------------------------\u001b[0m",
      "\u001b[1;31mNameError\u001b[0m                                 Traceback (most recent call last)",
      "\u001b[1;32m<ipython-input-3-6fcf9dfbd479>\u001b[0m in \u001b[0;36m<module>\u001b[1;34m\u001b[0m\n\u001b[1;32m----> 1\u001b[1;33m \u001b[0mx\u001b[0m\u001b[1;33m\u001b[0m\u001b[1;33m\u001b[0m\u001b[0m\n\u001b[0m",
      "\u001b[1;31mNameError\u001b[0m: name 'x' is not defined"
     ]
    }
   ],
   "source": [
    "x"
   ]
  },
  {
   "cell_type": "code",
   "execution_count": 8,
   "id": "fac268ef",
   "metadata": {},
   "outputs": [],
   "source": [
    "x = sym.symbols('x')"
   ]
  },
  {
   "cell_type": "code",
   "execution_count": 9,
   "id": "671144f5",
   "metadata": {},
   "outputs": [
    {
     "data": {
      "text/latex": [
       "$\\displaystyle x$"
      ],
      "text/plain": [
       "x"
      ]
     },
     "execution_count": 9,
     "metadata": {},
     "output_type": "execute_result"
    }
   ],
   "source": [
    "x"
   ]
  },
  {
   "cell_type": "code",
   "execution_count": 10,
   "id": "a9c2bd60",
   "metadata": {},
   "outputs": [
    {
     "data": {
      "text/latex": [
       "$\\displaystyle x + 10$"
      ],
      "text/plain": [
       "x + 10"
      ]
     },
     "execution_count": 10,
     "metadata": {},
     "output_type": "execute_result"
    }
   ],
   "source": [
    "x+10"
   ]
  },
  {
   "cell_type": "code",
   "execution_count": 11,
   "id": "e42ebcca",
   "metadata": {},
   "outputs": [
    {
     "data": {
      "text/latex": [
       "$\\displaystyle x^{7}$"
      ],
      "text/plain": [
       "x**7"
      ]
     },
     "execution_count": 11,
     "metadata": {},
     "output_type": "execute_result"
    }
   ],
   "source": [
    "x**7"
   ]
  },
  {
   "cell_type": "code",
   "execution_count": 12,
   "id": "6811eba9",
   "metadata": {},
   "outputs": [
    {
     "data": {
      "text/latex": [
       "$\\displaystyle x + 87$"
      ],
      "text/plain": [
       "x + 87"
      ]
     },
     "metadata": {},
     "output_type": "display_data"
    }
   ],
   "source": [
    "display(x+87)"
   ]
  },
  {
   "cell_type": "code",
   "execution_count": 13,
   "id": "21fd296b",
   "metadata": {},
   "outputs": [
    {
     "data": {
      "text/latex": [
       "$\\displaystyle x + 87$"
      ],
      "text/plain": [
       "x + 87"
      ]
     },
     "execution_count": 13,
     "metadata": {},
     "output_type": "execute_result"
    }
   ],
   "source": [
    "x+87"
   ]
  },
  {
   "cell_type": "code",
   "execution_count": 14,
   "id": "8daafcee",
   "metadata": {},
   "outputs": [],
   "source": [
    "y, z = sym.symbols('y, z')"
   ]
  },
  {
   "cell_type": "code",
   "execution_count": 15,
   "id": "8f6f8174",
   "metadata": {},
   "outputs": [
    {
     "data": {
      "text/latex": [
       "$\\displaystyle \\frac{x}{z}$"
      ],
      "text/plain": [
       "x/z"
      ]
     },
     "execution_count": 15,
     "metadata": {},
     "output_type": "execute_result"
    }
   ],
   "source": [
    "x/z"
   ]
  },
  {
   "cell_type": "code",
   "execution_count": 17,
   "id": "b5cf56aa",
   "metadata": {},
   "outputs": [
    {
     "data": {
      "text/latex": [
       "$\\displaystyle \\frac{x}{y}$"
      ],
      "text/plain": [
       "<IPython.core.display.Math object>"
      ]
     },
     "metadata": {},
     "output_type": "display_data"
    }
   ],
   "source": [
    "from IPython.display import Math\n",
    "\n",
    "display(Math('\\\\frac{x}{y}'))"
   ]
  },
  {
   "cell_type": "code",
   "execution_count": 18,
   "id": "ce0ab1bc",
   "metadata": {},
   "outputs": [
    {
     "data": {
      "text/latex": [
       "$\\displaystyle \\sqrt{6}$"
      ],
      "text/plain": [
       "sqrt(6)"
      ]
     },
     "metadata": {},
     "output_type": "display_data"
    }
   ],
   "source": [
    "display(sym.sqrt(6))"
   ]
  },
  {
   "cell_type": "code",
   "execution_count": 19,
   "id": "fb96f82a",
   "metadata": {},
   "outputs": [
    {
     "ename": "NameError",
     "evalue": "name 'sqrt' is not defined",
     "output_type": "error",
     "traceback": [
      "\u001b[1;31m---------------------------------------------------------------------------\u001b[0m",
      "\u001b[1;31mNameError\u001b[0m                                 Traceback (most recent call last)",
      "\u001b[1;32m<ipython-input-19-9996f528dd6f>\u001b[0m in \u001b[0;36m<module>\u001b[1;34m\u001b[0m\n\u001b[1;32m----> 1\u001b[1;33m \u001b[0msqrt\u001b[0m\u001b[1;33m(\u001b[0m\u001b[1;36m6\u001b[0m\u001b[1;33m)\u001b[0m\u001b[1;33m\u001b[0m\u001b[1;33m\u001b[0m\u001b[0m\n\u001b[0m",
      "\u001b[1;31mNameError\u001b[0m: name 'sqrt' is not defined"
     ]
    }
   ],
   "source": [
    "sqrt(6)"
   ]
  },
  {
   "cell_type": "code",
   "execution_count": 20,
   "id": "81a25eeb",
   "metadata": {},
   "outputs": [],
   "source": [
    "import numpy as np\n",
    "import math"
   ]
  },
  {
   "cell_type": "code",
   "execution_count": 21,
   "id": "6128b6cf",
   "metadata": {},
   "outputs": [
    {
     "data": {
      "text/plain": [
       "2.449489742783178"
      ]
     },
     "execution_count": 21,
     "metadata": {},
     "output_type": "execute_result"
    }
   ],
   "source": [
    "np.sqrt(6)"
   ]
  },
  {
   "cell_type": "code",
   "execution_count": 22,
   "id": "60fc3f96",
   "metadata": {},
   "outputs": [
    {
     "data": {
      "text/plain": [
       "2.449489742783178"
      ]
     },
     "execution_count": 22,
     "metadata": {},
     "output_type": "execute_result"
    }
   ],
   "source": [
    "math.sqrt(6)"
   ]
  },
  {
   "cell_type": "code",
   "execution_count": 24,
   "id": "cca6d36f",
   "metadata": {},
   "outputs": [
    {
     "data": {
      "text/latex": [
       "$\\displaystyle \\sigma = \\frac {\\mu}{\\sqrt{x+y^{25z}}}$"
      ],
      "text/plain": [
       "<IPython.core.display.Math object>"
      ]
     },
     "metadata": {},
     "output_type": "display_data"
    }
   ],
   "source": [
    "display(Math('\\\\sigma = \\\\frac {\\\\mu}{\\\\sqrt{x+y^{25z}}}'))"
   ]
  },
  {
   "cell_type": "code",
   "execution_count": 25,
   "id": "f9b972e2",
   "metadata": {},
   "outputs": [
    {
     "data": {
      "text/latex": [
       "$\\displaystyle z_{87k}$"
      ],
      "text/plain": [
       "<IPython.core.display.Math object>"
      ]
     },
     "metadata": {},
     "output_type": "display_data"
    }
   ],
   "source": [
    "display(Math('z_{87k}'))"
   ]
  },
  {
   "cell_type": "code",
   "execution_count": 26,
   "id": "f44b01cb",
   "metadata": {},
   "outputs": [
    {
     "data": {
      "text/latex": [
       "$\\displaystyle z_{k}$"
      ],
      "text/plain": [
       "<IPython.core.display.Math object>"
      ]
     },
     "metadata": {},
     "output_type": "display_data"
    }
   ],
   "source": [
    "display(Math('z_{k}'))"
   ]
  },
  {
   "cell_type": "code",
   "execution_count": 27,
   "id": "8615a5c1",
   "metadata": {},
   "outputs": [
    {
     "data": {
      "text/latex": [
       "$\\displaystyle Jawaban dari Permanaan adalah = \\frac {x}{y^15}$"
      ],
      "text/plain": [
       "<IPython.core.display.Math object>"
      ]
     },
     "metadata": {},
     "output_type": "display_data"
    }
   ],
   "source": [
    "display(Math('Jawaban dari Permanaan adalah = \\\\frac {x}{y^15}'))"
   ]
  },
  {
   "cell_type": "code",
   "execution_count": 32,
   "id": "b8c4a41e",
   "metadata": {},
   "outputs": [
    {
     "data": {
      "text/latex": [
       "$\\displaystyle \\text{Jawaban dari Persamaan adalah = } \\frac {x}{y^{15}}$"
      ],
      "text/plain": [
       "<IPython.core.display.Math object>"
      ]
     },
     "metadata": {},
     "output_type": "display_data"
    }
   ],
   "source": [
    "display(Math('\\\\text{Jawaban dari Persamaan adalah = } \\\\frac {x}{y^{15}}'))"
   ]
  },
  {
   "cell_type": "markdown",
   "id": "c7e9bacf",
   "metadata": {},
   "source": [
    "$$ \\frac {x}{y_k} $$"
   ]
  },
  {
   "cell_type": "markdown",
   "id": "92d59fe4",
   "metadata": {},
   "source": [
    "$$ \\frac {x}{y_k} $$"
   ]
  },
  {
   "cell_type": "markdown",
   "id": "06140781",
   "metadata": {},
   "source": [
    "$$ \\text{ini adalah tulisan uji coba markdown } \\frac {x}{y_k} $$"
   ]
  },
  {
   "cell_type": "markdown",
   "id": "cd637203",
   "metadata": {},
   "source": [
    "$$ \\text{ini adalah tulisan uji coba markdown } \\frac {x}{y_k} $$"
   ]
  },
  {
   "cell_type": "code",
   "execution_count": 34,
   "id": "e64bd91c",
   "metadata": {},
   "outputs": [
    {
     "data": {
      "text/latex": [
       "$\\displaystyle \\sin{3\\pi + \\theta}$"
      ],
      "text/plain": [
       "<IPython.core.display.Math object>"
      ]
     },
     "metadata": {},
     "output_type": "display_data"
    }
   ],
   "source": [
    "display(Math('\\\\sin{3\\\\pi + \\\\theta}'))"
   ]
  },
  {
   "cell_type": "code",
   "execution_count": 36,
   "id": "5ddb8ffc",
   "metadata": {},
   "outputs": [
    {
     "data": {
      "text/latex": [
       "$\\displaystyle \\sin(3\\pi + \\theta)$"
      ],
      "text/plain": [
       "<IPython.core.display.Math object>"
      ]
     },
     "metadata": {},
     "output_type": "display_data"
    }
   ],
   "source": [
    "display(Math('\\\\sin(3\\\\pi + \\\\theta)'))"
   ]
  },
  {
   "cell_type": "code",
   "execution_count": 37,
   "id": "bcdd30a7",
   "metadata": {},
   "outputs": [],
   "source": [
    "# E = MC Kuadrat"
   ]
  },
  {
   "cell_type": "code",
   "execution_count": 38,
   "id": "462fe749",
   "metadata": {},
   "outputs": [
    {
     "data": {
      "text/latex": [
       "$\\displaystyle e = mc^2$"
      ],
      "text/plain": [
       "<IPython.core.display.Math object>"
      ]
     },
     "metadata": {},
     "output_type": "display_data"
    }
   ],
   "source": [
    "display(Math('e = mc^2'))"
   ]
  },
  {
   "cell_type": "code",
   "execution_count": 41,
   "id": "9dd73f07",
   "metadata": {},
   "outputs": [],
   "source": [
    "mu, alpha, sigma = sym.symbols('mu, alpha, sigma')"
   ]
  },
  {
   "cell_type": "code",
   "execution_count": 45,
   "id": "5d8cd02b",
   "metadata": {},
   "outputs": [],
   "source": [
    "p = mu + 45 + sym.exp(sigma+alpha)"
   ]
  },
  {
   "cell_type": "code",
   "execution_count": 46,
   "id": "18fad3dc",
   "metadata": {},
   "outputs": [
    {
     "data": {
      "text/latex": [
       "$\\displaystyle \\mu + e^{\\alpha + \\sigma} + 45$"
      ],
      "text/plain": [
       "mu + exp(alpha + sigma) + 45"
      ]
     },
     "metadata": {},
     "output_type": "display_data"
    }
   ],
   "source": [
    "display(p)"
   ]
  },
  {
   "cell_type": "code",
   "execution_count": 73,
   "id": "2435d692",
   "metadata": {},
   "outputs": [],
   "source": [
    "x, y, z = sym.symbols('x, y, z')"
   ]
  },
  {
   "cell_type": "code",
   "execution_count": 48,
   "id": "8b3c19aa",
   "metadata": {},
   "outputs": [],
   "source": [
    "p = x+10"
   ]
  },
  {
   "cell_type": "code",
   "execution_count": 49,
   "id": "6f930f38",
   "metadata": {},
   "outputs": [
    {
     "data": {
      "text/latex": [
       "$\\displaystyle 12$"
      ],
      "text/plain": [
       "12"
      ]
     },
     "execution_count": 49,
     "metadata": {},
     "output_type": "execute_result"
    }
   ],
   "source": [
    "p.subs(x,2)"
   ]
  },
  {
   "cell_type": "code",
   "execution_count": 50,
   "id": "36a2dae1",
   "metadata": {},
   "outputs": [],
   "source": [
    "p = x + 10 + 4**y"
   ]
  },
  {
   "cell_type": "code",
   "execution_count": 51,
   "id": "658c093a",
   "metadata": {},
   "outputs": [
    {
     "data": {
      "text/latex": [
       "$\\displaystyle 4^{y} + 20$"
      ],
      "text/plain": [
       "4**y + 20"
      ]
     },
     "execution_count": 51,
     "metadata": {},
     "output_type": "execute_result"
    }
   ],
   "source": [
    "p.subs(x,10)"
   ]
  },
  {
   "cell_type": "code",
   "execution_count": 52,
   "id": "6fc07705",
   "metadata": {},
   "outputs": [
    {
     "ename": "ValueError",
     "evalue": "subs accepts either 1 or 2 arguments",
     "output_type": "error",
     "traceback": [
      "\u001b[1;31m---------------------------------------------------------------------------\u001b[0m",
      "\u001b[1;31mValueError\u001b[0m                                Traceback (most recent call last)",
      "\u001b[1;32m<ipython-input-52-285b57a9b1e0>\u001b[0m in \u001b[0;36m<module>\u001b[1;34m\u001b[0m\n\u001b[1;32m----> 1\u001b[1;33m \u001b[0mp\u001b[0m\u001b[1;33m.\u001b[0m\u001b[0msubs\u001b[0m\u001b[1;33m(\u001b[0m\u001b[0mx\u001b[0m\u001b[1;33m,\u001b[0m\u001b[1;36m10\u001b[0m\u001b[1;33m,\u001b[0m\u001b[0my\u001b[0m\u001b[1;33m,\u001b[0m\u001b[1;36m2\u001b[0m\u001b[1;33m)\u001b[0m\u001b[1;33m\u001b[0m\u001b[1;33m\u001b[0m\u001b[0m\n\u001b[0m",
      "\u001b[1;32mD:\\Anaconda\\lib\\site-packages\\sympy\\core\\basic.py\u001b[0m in \u001b[0;36msubs\u001b[1;34m(self, *args, **kwargs)\u001b[0m\n\u001b[0;32m    896\u001b[0m             \u001b[0msequence\u001b[0m \u001b[1;33m=\u001b[0m \u001b[1;33m[\u001b[0m\u001b[0margs\u001b[0m\u001b[1;33m]\u001b[0m\u001b[1;33m\u001b[0m\u001b[1;33m\u001b[0m\u001b[0m\n\u001b[0;32m    897\u001b[0m         \u001b[1;32melse\u001b[0m\u001b[1;33m:\u001b[0m\u001b[1;33m\u001b[0m\u001b[1;33m\u001b[0m\u001b[0m\n\u001b[1;32m--> 898\u001b[1;33m             \u001b[1;32mraise\u001b[0m \u001b[0mValueError\u001b[0m\u001b[1;33m(\u001b[0m\u001b[1;34m\"subs accepts either 1 or 2 arguments\"\u001b[0m\u001b[1;33m)\u001b[0m\u001b[1;33m\u001b[0m\u001b[1;33m\u001b[0m\u001b[0m\n\u001b[0m\u001b[0;32m    899\u001b[0m \u001b[1;33m\u001b[0m\u001b[0m\n\u001b[0;32m    900\u001b[0m         \u001b[0msequence\u001b[0m \u001b[1;33m=\u001b[0m \u001b[0mlist\u001b[0m\u001b[1;33m(\u001b[0m\u001b[0msequence\u001b[0m\u001b[1;33m)\u001b[0m\u001b[1;33m\u001b[0m\u001b[1;33m\u001b[0m\u001b[0m\n",
      "\u001b[1;31mValueError\u001b[0m: subs accepts either 1 or 2 arguments"
     ]
    }
   ],
   "source": [
    "p.subs(x,10,y,2)"
   ]
  },
  {
   "cell_type": "code",
   "execution_count": 53,
   "id": "857b4586",
   "metadata": {},
   "outputs": [
    {
     "data": {
      "text/latex": [
       "$\\displaystyle 36$"
      ],
      "text/plain": [
       "36"
      ]
     },
     "execution_count": 53,
     "metadata": {},
     "output_type": "execute_result"
    }
   ],
   "source": [
    "p.subs({x:10,y:2}) # harus pake dictionary"
   ]
  },
  {
   "cell_type": "code",
   "execution_count": 55,
   "id": "9165c7b2",
   "metadata": {},
   "outputs": [],
   "source": [
    "# 5x + 5 =20\n",
    "#homogenous\n",
    "# 5x + 5 - 20 = 0\n",
    "# atau\n",
    "# 0 = 20 - 5x - 5  "
   ]
  },
  {
   "cell_type": "code",
   "execution_count": 83,
   "id": "8b87ca5c",
   "metadata": {},
   "outputs": [],
   "source": [
    "x = sym.symbols('x')"
   ]
  },
  {
   "cell_type": "code",
   "execution_count": 81,
   "id": "c77db7ef",
   "metadata": {},
   "outputs": [],
   "source": [
    "p = 5 * x + 5 - 20"
   ]
  },
  {
   "cell_type": "code",
   "execution_count": 57,
   "id": "39fa1ae4",
   "metadata": {},
   "outputs": [
    {
     "data": {
      "text/plain": [
       "[3]"
      ]
     },
     "execution_count": 57,
     "metadata": {},
     "output_type": "execute_result"
    }
   ],
   "source": [
    "sym.solve(p)"
   ]
  },
  {
   "cell_type": "code",
   "execution_count": 59,
   "id": "fffd92c0",
   "metadata": {},
   "outputs": [],
   "source": [
    "# 5x + 5 - 20 = 0\n",
    "# 5x - 15 = 0\n",
    "# 5x = 15\n",
    "# x = 5/15\n",
    "# x = 3"
   ]
  },
  {
   "cell_type": "code",
   "execution_count": 69,
   "id": "db213434",
   "metadata": {},
   "outputs": [
    {
     "data": {
      "text/latex": [
       "$\\displaystyle \\text{solusi dari persamaan }5 x - 15 \\text{ adalah x = }3$"
      ],
      "text/plain": [
       "<IPython.core.display.Math object>"
      ]
     },
     "metadata": {},
     "output_type": "display_data"
    }
   ],
   "source": [
    "display(Math('\\\\text{solusi dari persamaan }%s \\\\text{ adalah x = }%g' %(sym.latex(p), sym.solve(p)[0])))"
   ]
  },
  {
   "cell_type": "code",
   "execution_count": 84,
   "id": "b31905f9",
   "metadata": {},
   "outputs": [
    {
     "data": {
      "text/plain": [
       "[-2, 2]"
      ]
     },
     "execution_count": 84,
     "metadata": {},
     "output_type": "execute_result"
    }
   ],
   "source": [
    "p2 = x**2 - 4\n",
    "sym.solve(p2)"
   ]
  },
  {
   "cell_type": "code",
   "execution_count": 101,
   "id": "98b94d57",
   "metadata": {},
   "outputs": [
    {
     "name": "stdout",
     "output_type": "stream",
     "text": [
      "solusi #1 adalah -2\n",
      "solusi #2 adalah 2\n"
     ]
    }
   ],
   "source": [
    "jawab = sym.solve(p2)\n",
    "\n",
    "for i in range (0, len(jawab)):\n",
    "    print('solusi #' + str(i+1) + ' adalah ' + str(jawab[i]))"
   ]
  },
  {
   "cell_type": "code",
   "execution_count": 102,
   "id": "dc4d0203",
   "metadata": {},
   "outputs": [
    {
     "data": {
      "text/latex": [
       "$\\displaystyle y$"
      ],
      "text/plain": [
       "y"
      ]
     },
     "execution_count": 102,
     "metadata": {},
     "output_type": "execute_result"
    }
   ],
   "source": [
    "y"
   ]
  },
  {
   "cell_type": "code",
   "execution_count": 104,
   "id": "8f071fc8",
   "metadata": {},
   "outputs": [],
   "source": [
    "p3 = x/10 - x*y + 50"
   ]
  },
  {
   "cell_type": "code",
   "execution_count": 105,
   "id": "ffa91c8a",
   "metadata": {},
   "outputs": [
    {
     "data": {
      "text/plain": [
       "[500/(10*y - 1)]"
      ]
     },
     "execution_count": 105,
     "metadata": {},
     "output_type": "execute_result"
    }
   ],
   "source": [
    "sym.solve(p3, x)"
   ]
  },
  {
   "cell_type": "code",
   "execution_count": null,
   "id": "273e2643",
   "metadata": {},
   "outputs": [],
   "source": [
    "# x/10 - xy + 50 = 0\n",
    "# 50 = -(x/10) + xy\n",
    "# 50 = x(-1/10) + y)\n",
    "# 50 /(-1/10) + y) = x\n",
    "# 500 / (-1) + 10y = x\n",
    "# 500 / 10y - 1 = x"
   ]
  }
 ],
 "metadata": {
  "kernelspec": {
   "display_name": "Python 3",
   "language": "python",
   "name": "python3"
  },
  "language_info": {
   "codemirror_mode": {
    "name": "ipython",
    "version": 3
   },
   "file_extension": ".py",
   "mimetype": "text/x-python",
   "name": "python",
   "nbconvert_exporter": "python",
   "pygments_lexer": "ipython3",
   "version": "3.8.8"
  }
 },
 "nbformat": 4,
 "nbformat_minor": 5
}
