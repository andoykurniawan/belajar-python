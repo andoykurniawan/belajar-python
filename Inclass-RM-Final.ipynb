{
 "cells": [
  {
   "cell_type": "markdown",
   "metadata": {},
   "source": [
    "**Inclass: Regression Model and Practical Statistic**\n",
    "- Course Length: 9 hours\n",
    "- Instructor : Dyah Nurlita\n",
    "- Last Updated: Dec 2021"
   ]
  },
  {
   "cell_type": "code",
   "execution_count": 3,
   "metadata": {
    "ExecuteTime": {
     "end_time": "2021-12-10T01:30:36.918048Z",
     "start_time": "2021-12-10T01:30:30.756722Z"
    }
   },
   "outputs": [],
   "source": [
    "import pandas as pd\n",
    "import matplotlib.pyplot as plt\n",
    "import statsmodels.api as sm\n",
    "from helper import linearity_test"
   ]
  },
  {
   "cell_type": "markdown",
   "metadata": {},
   "source": [
    "# Introduction\n",
    "\n",
    "Machine learning bertujuan untuk membuat mesin yang belajar berdasarkan data. Machine learning terbagi dua:\n",
    "\n",
    "<img src=\"assets/versus.png\" width=\"500\">\n",
    "\n",
    "\n",
    "**Supervised Learning**: \n",
    "\n",
    "* memiliki target variable. \n",
    "* untuk pembuatan model prediksi (y ~ x)\n",
    "* ada ground truth (label aktual) sehingga ada evaluasi model\n",
    "\n",
    "**Unsupervised Learning**: \n",
    "\n",
    "* tidak memiliki target variable. \n",
    "* untuk mencari pola dalam data sehingga menghasilkan informasi yang berguna/dapat diolah lebih lanjut. umumnya dipakai untuk tahap explanatory data analysis (EDA)/data pre-processing.\n",
    "* tidak ada ground truth sehingga tidak ada evaluasi model "
   ]
  },
  {
   "cell_type": "markdown",
   "metadata": {},
   "source": [
    "# Regression Model"
   ]
  },
  {
   "cell_type": "markdown",
   "metadata": {},
   "source": [
    "Regression model merupakan **Supervised Learning** karena data yang dibutuhkan harus memiliki target variabel (y). Target variabel dari Regression Model harus bertipe numerik, namun untuk prediktornya (x) boleh numerik/kategorik\n",
    "\n",
    "📝**Business Problem**\n",
    "\n",
    "Pemilihan variabel target biasanya dikaitkan dengan masalah bisnis yang ingin diselesaikan:\n",
    "\n",
    "1. Sebuah agen properti berusaha membangun sebuah model untuk menebak harga sebuah properti untuk digunakan sebagai acuan kontrol dalam menjaga harga pasar. Untuk itu mereka mengembangkan sebuah model dengan:\n",
    "\n",
    "     * Variabel target: harga properti/harga pasar\n",
    "     * Variabel prediktor: luas bangunan, jumlah kamar, fasilitas, lokasi, luas tanah, dll\n",
    "\n",
    "2. Seorang pemilik restoran ingin menebak berapa banyak penjualan yang akan dihasilkan di bulan depan oleh restorannya.  Untuk itu mereka mengembangkan sebuah model dengan:\n",
    "\n",
    "     * Variabel target: banyak penjualan -> omset\n",
    "     * Variabel prediktor: jumlah variasi menu, jumlah konsumen, harga product, hari dan jam pemesanan (buka/tidak), discount, dll"
   ]
  },
  {
   "cell_type": "markdown",
   "metadata": {},
   "source": [
    "## Simple Linear Regression\n",
    "\n",
    "### Regression Modeling Workflow\n",
    "\n",
    " #### Import data\n",
    "\n",
    "Kita akan gunakan data `copiers.csv` yang tersimpan di folder data_input."
   ]
  },
  {
   "cell_type": "code",
   "execution_count": 4,
   "metadata": {
    "ExecuteTime": {
     "end_time": "2021-12-10T01:30:36.964614Z",
     "start_time": "2021-12-10T01:30:36.924720Z"
    }
   },
   "outputs": [],
   "source": [
    "copiers = pd.read_csv(\"data_input/copiers.csv\")"
   ]
  },
  {
   "cell_type": "code",
   "execution_count": 5,
   "metadata": {
    "ExecuteTime": {
     "end_time": "2021-12-10T01:30:36.996317Z",
     "start_time": "2021-12-10T01:30:36.967917Z"
    },
    "scrolled": false
   },
   "outputs": [
    {
     "data": {
      "text/html": [
       "<div>\n",
       "<style scoped>\n",
       "    .dataframe tbody tr th:only-of-type {\n",
       "        vertical-align: middle;\n",
       "    }\n",
       "\n",
       "    .dataframe tbody tr th {\n",
       "        vertical-align: top;\n",
       "    }\n",
       "\n",
       "    .dataframe thead th {\n",
       "        text-align: right;\n",
       "    }\n",
       "</style>\n",
       "<table border=\"1\" class=\"dataframe\">\n",
       "  <thead>\n",
       "    <tr style=\"text-align: right;\">\n",
       "      <th></th>\n",
       "      <th>Row.ID</th>\n",
       "      <th>Order.ID</th>\n",
       "      <th>Order.Date</th>\n",
       "      <th>Ship.Date</th>\n",
       "      <th>Ship.Mode</th>\n",
       "      <th>Customer.ID</th>\n",
       "      <th>Segment</th>\n",
       "      <th>Product.ID</th>\n",
       "      <th>Category</th>\n",
       "      <th>Sub.Category</th>\n",
       "      <th>Product.Name</th>\n",
       "      <th>Sales</th>\n",
       "      <th>Quantity</th>\n",
       "      <th>Discount</th>\n",
       "      <th>Profit</th>\n",
       "    </tr>\n",
       "  </thead>\n",
       "  <tbody>\n",
       "    <tr>\n",
       "      <th>0</th>\n",
       "      <td>336</td>\n",
       "      <td>CA-2015-137946</td>\n",
       "      <td>9/1/15</td>\n",
       "      <td>9/4/15</td>\n",
       "      <td>Second Class</td>\n",
       "      <td>DB-13615</td>\n",
       "      <td>Consumer</td>\n",
       "      <td>TEC-CO-10001449</td>\n",
       "      <td>Technology</td>\n",
       "      <td>Copiers</td>\n",
       "      <td>Hewlett Packard LaserJet 3310 Copier</td>\n",
       "      <td>959.984</td>\n",
       "      <td>2</td>\n",
       "      <td>0.2</td>\n",
       "      <td>335.9944</td>\n",
       "    </tr>\n",
       "    <tr>\n",
       "      <th>1</th>\n",
       "      <td>393</td>\n",
       "      <td>US-2014-135972</td>\n",
       "      <td>9/21/14</td>\n",
       "      <td>9/23/14</td>\n",
       "      <td>Second Class</td>\n",
       "      <td>JG-15115</td>\n",
       "      <td>Consumer</td>\n",
       "      <td>TEC-CO-10002313</td>\n",
       "      <td>Technology</td>\n",
       "      <td>Copiers</td>\n",
       "      <td>Canon PC1080F Personal Copier</td>\n",
       "      <td>1799.970</td>\n",
       "      <td>3</td>\n",
       "      <td>0.0</td>\n",
       "      <td>701.9883</td>\n",
       "    </tr>\n",
       "    <tr>\n",
       "      <th>2</th>\n",
       "      <td>407</td>\n",
       "      <td>CA-2017-117457</td>\n",
       "      <td>12/8/17</td>\n",
       "      <td>12/12/17</td>\n",
       "      <td>Standard Class</td>\n",
       "      <td>KH-16510</td>\n",
       "      <td>Consumer</td>\n",
       "      <td>TEC-CO-10004115</td>\n",
       "      <td>Technology</td>\n",
       "      <td>Copiers</td>\n",
       "      <td>Sharp AL-1530CS Digital Copier</td>\n",
       "      <td>1199.976</td>\n",
       "      <td>3</td>\n",
       "      <td>0.2</td>\n",
       "      <td>434.9913</td>\n",
       "    </tr>\n",
       "    <tr>\n",
       "      <th>3</th>\n",
       "      <td>516</td>\n",
       "      <td>CA-2017-127432</td>\n",
       "      <td>1/22/17</td>\n",
       "      <td>1/27/17</td>\n",
       "      <td>Standard Class</td>\n",
       "      <td>AD-10180</td>\n",
       "      <td>Home Office</td>\n",
       "      <td>TEC-CO-10003236</td>\n",
       "      <td>Technology</td>\n",
       "      <td>Copiers</td>\n",
       "      <td>Canon Image Class D660 Copier</td>\n",
       "      <td>2999.950</td>\n",
       "      <td>5</td>\n",
       "      <td>0.0</td>\n",
       "      <td>1379.9770</td>\n",
       "    </tr>\n",
       "    <tr>\n",
       "      <th>4</th>\n",
       "      <td>596</td>\n",
       "      <td>CA-2014-131450</td>\n",
       "      <td>8/8/14</td>\n",
       "      <td>8/15/14</td>\n",
       "      <td>Standard Class</td>\n",
       "      <td>LR-16915</td>\n",
       "      <td>Consumer</td>\n",
       "      <td>TEC-CO-10004115</td>\n",
       "      <td>Technology</td>\n",
       "      <td>Copiers</td>\n",
       "      <td>Sharp AL-1530CS Digital Copier</td>\n",
       "      <td>1199.976</td>\n",
       "      <td>3</td>\n",
       "      <td>0.2</td>\n",
       "      <td>434.9913</td>\n",
       "    </tr>\n",
       "  </tbody>\n",
       "</table>\n",
       "</div>"
      ],
      "text/plain": [
       "   Row.ID        Order.ID Order.Date Ship.Date       Ship.Mode Customer.ID  \\\n",
       "0     336  CA-2015-137946     9/1/15    9/4/15    Second Class    DB-13615   \n",
       "1     393  US-2014-135972    9/21/14   9/23/14    Second Class    JG-15115   \n",
       "2     407  CA-2017-117457    12/8/17  12/12/17  Standard Class    KH-16510   \n",
       "3     516  CA-2017-127432    1/22/17   1/27/17  Standard Class    AD-10180   \n",
       "4     596  CA-2014-131450     8/8/14   8/15/14  Standard Class    LR-16915   \n",
       "\n",
       "       Segment       Product.ID    Category Sub.Category  \\\n",
       "0     Consumer  TEC-CO-10001449  Technology      Copiers   \n",
       "1     Consumer  TEC-CO-10002313  Technology      Copiers   \n",
       "2     Consumer  TEC-CO-10004115  Technology      Copiers   \n",
       "3  Home Office  TEC-CO-10003236  Technology      Copiers   \n",
       "4     Consumer  TEC-CO-10004115  Technology      Copiers   \n",
       "\n",
       "                           Product.Name     Sales  Quantity  Discount  \\\n",
       "0  Hewlett Packard LaserJet 3310 Copier   959.984         2       0.2   \n",
       "1         Canon PC1080F Personal Copier  1799.970         3       0.0   \n",
       "2        Sharp AL-1530CS Digital Copier  1199.976         3       0.2   \n",
       "3         Canon Image Class D660 Copier  2999.950         5       0.0   \n",
       "4        Sharp AL-1530CS Digital Copier  1199.976         3       0.2   \n",
       "\n",
       "      Profit  \n",
       "0   335.9944  \n",
       "1   701.9883  \n",
       "2   434.9913  \n",
       "3  1379.9770  \n",
       "4   434.9913  "
      ]
     },
     "execution_count": 5,
     "metadata": {},
     "output_type": "execute_result"
    }
   ],
   "source": [
    "copiers.head()"
   ]
  },
  {
   "cell_type": "markdown",
   "metadata": {},
   "source": [
    "Data di atas merupakan data historis transaksi dari suatu online retail, berikut deskripsi variabel dari data tersebut:\n",
    "- `Order.ID`     : ID transaksi\n",
    "- `Order.Date`   : Tanggal transaksi\n",
    "- `Ship.Date`    : Tanggal pengiriman barang\n",
    "- `Ship.Mode`    : Jenis pengiriman yang digunakan (Standard Class, Second Class, First Class, Same Day)\n",
    "- `Customer.ID`  : ID pelanggan\n",
    "- `Segment`      : Segmen pelanggan (Consumer, Corporate, Home Office)\n",
    "- `Product.ID`   : ID barang\n",
    "- `Category`     : Kategori barang\n",
    "- `Sub.Categoory`: Sub kategori barang\n",
    "- `Product.Name` : Nama barang\n",
    "- `Sales`        : Harga barang (USD)\n",
    "- `Quantity`     : Jumlah barang yang dibeli\n",
    "- `Discount`     : Potongan harga (%)\n",
    "- `Profit`       : Keuntungan yang diperoleh (USD)"
   ]
  },
  {
   "cell_type": "markdown",
   "metadata": {},
   "source": [
    "#### Inspect data berdasarkan struktur datanya"
   ]
  },
  {
   "cell_type": "code",
   "execution_count": 6,
   "metadata": {
    "ExecuteTime": {
     "end_time": "2021-12-10T01:30:37.012206Z",
     "start_time": "2021-12-10T01:30:36.998241Z"
    }
   },
   "outputs": [
    {
     "data": {
      "text/plain": [
       "Row.ID            int64\n",
       "Order.ID         object\n",
       "Order.Date       object\n",
       "Ship.Date        object\n",
       "Ship.Mode        object\n",
       "Customer.ID      object\n",
       "Segment          object\n",
       "Product.ID       object\n",
       "Category         object\n",
       "Sub.Category     object\n",
       "Product.Name     object\n",
       "Sales           float64\n",
       "Quantity          int64\n",
       "Discount        float64\n",
       "Profit          float64\n",
       "dtype: object"
      ]
     },
     "execution_count": 6,
     "metadata": {},
     "output_type": "execute_result"
    }
   ],
   "source": [
    "## code here\n",
    "copiers.dtypes"
   ]
  },
  {
   "cell_type": "markdown",
   "metadata": {},
   "source": [
    "Tipe data yang belum sesuai adalah : \n",
    "- order.date, ship.Date -> Datetime\n",
    "- category, sub.category, segment, ship.mode -> category"
   ]
  },
  {
   "cell_type": "code",
   "execution_count": 7,
   "metadata": {
    "ExecuteTime": {
     "end_time": "2021-12-10T01:30:37.028162Z",
     "start_time": "2021-12-10T01:30:37.014198Z"
    },
    "scrolled": true
   },
   "outputs": [
    {
     "data": {
      "text/plain": [
       "array(['Copiers'], dtype=object)"
      ]
     },
     "execution_count": 7,
     "metadata": {},
     "output_type": "execute_result"
    }
   ],
   "source": [
    "copiers['Sub.Category'].unique()"
   ]
  },
  {
   "cell_type": "code",
   "execution_count": 8,
   "metadata": {
    "ExecuteTime": {
     "end_time": "2021-12-10T01:30:37.075461Z",
     "start_time": "2021-12-10T01:30:37.030156Z"
    }
   },
   "outputs": [],
   "source": [
    "## code here\n",
    "copiers['Order.Date'] = copiers['Order.Date'].astype(\"datetime64\")\n",
    "copiers['Ship.Date'] = copiers['Ship.Date'].astype(\"datetime64\")\n",
    "\n",
    "copiers[['Ship.Mode','Segment','Category','Product.Name']] = copiers[['Ship.Mode','Segment','Category','Product.Name']].astype('category')\n"
   ]
  },
  {
   "cell_type": "code",
   "execution_count": 9,
   "metadata": {
    "ExecuteTime": {
     "end_time": "2021-12-10T01:30:37.091002Z",
     "start_time": "2021-12-10T01:30:37.078028Z"
    }
   },
   "outputs": [
    {
     "data": {
      "text/plain": [
       "Row.ID                   int64\n",
       "Order.ID                object\n",
       "Order.Date      datetime64[ns]\n",
       "Ship.Date       datetime64[ns]\n",
       "Ship.Mode             category\n",
       "Customer.ID             object\n",
       "Segment               category\n",
       "Product.ID              object\n",
       "Category              category\n",
       "Sub.Category            object\n",
       "Product.Name          category\n",
       "Sales                  float64\n",
       "Quantity                 int64\n",
       "Discount               float64\n",
       "Profit                 float64\n",
       "dtype: object"
      ]
     },
     "execution_count": 9,
     "metadata": {},
     "output_type": "execute_result"
    }
   ],
   "source": [
    "copiers.dtypes"
   ]
  },
  {
   "cell_type": "markdown",
   "metadata": {},
   "source": [
    "#### Cek missing value"
   ]
  },
  {
   "cell_type": "code",
   "execution_count": 10,
   "metadata": {
    "ExecuteTime": {
     "end_time": "2021-12-10T01:30:37.107058Z",
     "start_time": "2021-12-10T01:30:37.092988Z"
    }
   },
   "outputs": [
    {
     "data": {
      "text/plain": [
       "Row.ID          0\n",
       "Order.ID        0\n",
       "Order.Date      0\n",
       "Ship.Date       0\n",
       "Ship.Mode       0\n",
       "Customer.ID     0\n",
       "Segment         0\n",
       "Product.ID      0\n",
       "Category        0\n",
       "Sub.Category    0\n",
       "Product.Name    0\n",
       "Sales           0\n",
       "Quantity        0\n",
       "Discount        0\n",
       "Profit          0\n",
       "dtype: int64"
      ]
     },
     "execution_count": 10,
     "metadata": {},
     "output_type": "execute_result"
    }
   ],
   "source": [
    "## code here\n",
    "copiers.isna().sum()"
   ]
  },
  {
   "cell_type": "markdown",
   "metadata": {},
   "source": [
    "\n",
    "#### Mendefinisikan Business Problem\n",
    "\n",
    "Ingin memprediksi **Profit** berdasarkan nilai **Sales**. Tentukan:\n",
    "\n",
    "- Variabel target: Profit\n",
    "- Variabel prediktor: Sales\n",
    "\n",
    "#### Eksplorasi data\n",
    "\n",
    "* Cek persebaran data\n",
    "\n",
    "  + Cek persebaran variabel Profit dan Sales:   \n",
    "\n",
    "    - histogram atau boxplot"
   ]
  },
  {
   "cell_type": "code",
   "execution_count": 11,
   "metadata": {
    "ExecuteTime": {
     "end_time": "2021-12-10T01:30:38.576791Z",
     "start_time": "2021-12-10T01:30:37.110018Z"
    },
    "scrolled": true
   },
   "outputs": [
    {
     "data": {
      "text/plain": [
       "<AxesSubplot:>"
      ]
     },
     "execution_count": 11,
     "metadata": {},
     "output_type": "execute_result"
    },
    {
     "data": {
      "image/png": "[encoded data removed]",
      "text/plain": [
       "<Figure size 432x288 with 1 Axes>"
      ]
     },
     "metadata": {
      "needs_background": "light"
     },
     "output_type": "display_data"
    }
   ],
   "source": [
    "copiers['Profit'].plot(kind='box')"
   ]
  },
  {
   "cell_type": "code",
   "execution_count": 12,
   "metadata": {
    "ExecuteTime": {
     "end_time": "2021-12-10T01:30:38.812052Z",
     "start_time": "2021-12-10T01:30:38.580669Z"
    }
   },
   "outputs": [
    {
     "data": {
      "text/plain": [
       "<AxesSubplot:ylabel='Frequency'>"
      ]
     },
     "execution_count": 12,
     "metadata": {},
     "output_type": "execute_result"
    },
    {
     "data": {
      "image/png": "[encoded data removed]",
      "text/plain": [
       "<Figure size 432x288 with 1 Axes>"
      ]
     },
     "metadata": {
      "needs_background": "light"
     },
     "output_type": "display_data"
    }
   ],
   "source": [
    "copiers['Sales'].plot(kind='hist')"
   ]
  },
  {
   "cell_type": "markdown",
   "metadata": {},
   "source": [
    "> Pada variabel Profit dan Sales terdapat outlier. \n",
    "\n",
    "* **Cek korelasi antar variabel target dan prediktor**\n",
    "\n",
    "    - menggunakan nilai korelasi"
   ]
  },
  {
   "cell_type": "code",
   "execution_count": 13,
   "metadata": {
    "ExecuteTime": {
     "end_time": "2021-12-10T01:30:38.828008Z",
     "start_time": "2021-12-10T01:30:38.816039Z"
    }
   },
   "outputs": [
    {
     "data": {
      "text/plain": [
       "0.93957848999425"
      ]
     },
     "execution_count": 13,
     "metadata": {},
     "output_type": "execute_result"
    }
   ],
   "source": [
    "copiers['Sales'].corr(copiers['Profit'])"
   ]
  },
  {
   "cell_type": "code",
   "execution_count": 14,
   "metadata": {
    "ExecuteTime": {
     "end_time": "2021-12-10T01:30:38.859040Z",
     "start_time": "2021-12-10T01:30:38.831034Z"
    }
   },
   "outputs": [
    {
     "data": {
      "text/html": [
       "<div>\n",
       "<style scoped>\n",
       "    .dataframe tbody tr th:only-of-type {\n",
       "        vertical-align: middle;\n",
       "    }\n",
       "\n",
       "    .dataframe tbody tr th {\n",
       "        vertical-align: top;\n",
       "    }\n",
       "\n",
       "    .dataframe thead th {\n",
       "        text-align: right;\n",
       "    }\n",
       "</style>\n",
       "<table border=\"1\" class=\"dataframe\">\n",
       "  <thead>\n",
       "    <tr style=\"text-align: right;\">\n",
       "      <th></th>\n",
       "      <th>Row.ID</th>\n",
       "      <th>Sales</th>\n",
       "      <th>Quantity</th>\n",
       "      <th>Discount</th>\n",
       "      <th>Profit</th>\n",
       "    </tr>\n",
       "  </thead>\n",
       "  <tbody>\n",
       "    <tr>\n",
       "      <th>Row.ID</th>\n",
       "      <td>1.000000</td>\n",
       "      <td>-0.025585</td>\n",
       "      <td>0.080826</td>\n",
       "      <td>0.043612</td>\n",
       "      <td>-0.049402</td>\n",
       "    </tr>\n",
       "    <tr>\n",
       "      <th>Sales</th>\n",
       "      <td>-0.025585</td>\n",
       "      <td>1.000000</td>\n",
       "      <td>0.797954</td>\n",
       "      <td>-0.193645</td>\n",
       "      <td>0.939578</td>\n",
       "    </tr>\n",
       "    <tr>\n",
       "      <th>Quantity</th>\n",
       "      <td>0.080826</td>\n",
       "      <td>0.797954</td>\n",
       "      <td>1.000000</td>\n",
       "      <td>0.015672</td>\n",
       "      <td>0.685993</td>\n",
       "    </tr>\n",
       "    <tr>\n",
       "      <th>Discount</th>\n",
       "      <td>0.043612</td>\n",
       "      <td>-0.193645</td>\n",
       "      <td>0.015672</td>\n",
       "      <td>1.000000</td>\n",
       "      <td>-0.432338</td>\n",
       "    </tr>\n",
       "    <tr>\n",
       "      <th>Profit</th>\n",
       "      <td>-0.049402</td>\n",
       "      <td>0.939578</td>\n",
       "      <td>0.685993</td>\n",
       "      <td>-0.432338</td>\n",
       "      <td>1.000000</td>\n",
       "    </tr>\n",
       "  </tbody>\n",
       "</table>\n",
       "</div>"
      ],
      "text/plain": [
       "            Row.ID     Sales  Quantity  Discount    Profit\n",
       "Row.ID    1.000000 -0.025585  0.080826  0.043612 -0.049402\n",
       "Sales    -0.025585  1.000000  0.797954 -0.193645  0.939578\n",
       "Quantity  0.080826  0.797954  1.000000  0.015672  0.685993\n",
       "Discount  0.043612 -0.193645  0.015672  1.000000 -0.432338\n",
       "Profit   -0.049402  0.939578  0.685993 -0.432338  1.000000"
      ]
     },
     "execution_count": 14,
     "metadata": {},
     "output_type": "execute_result"
    }
   ],
   "source": [
    "copiers.corr()"
   ]
  },
  {
   "cell_type": "markdown",
   "metadata": {},
   "source": [
    "    - menggunakan visualisasi"
   ]
  },
  {
   "cell_type": "code",
   "execution_count": 15,
   "metadata": {
    "ExecuteTime": {
     "end_time": "2021-12-10T01:30:39.153137Z",
     "start_time": "2021-12-10T01:30:38.861934Z"
    }
   },
   "outputs": [
    {
     "data": {
      "image/png": "[encoded data removed]",
      "text/plain": [
       "<Figure size 432x288 with 1 Axes>"
      ]
     },
     "metadata": {
      "needs_background": "light"
     },
     "output_type": "display_data"
    }
   ],
   "source": [
    "copiers.plot.scatter(x='Sales', y='Profit')\n",
    "plt.show()"
   ]
  },
  {
   "cell_type": "markdown",
   "metadata": {},
   "source": [
    "* **Kesimpulan dari plot:**\n",
    "\n",
    "> Data linier, semakin tinggi Sales maka Profit akan semakin naik. Memiliki hubungan korelasi yang kuat."
   ]
  },
  {
   "cell_type": "markdown",
   "metadata": {},
   "source": [
    "Formula model regresi:\n",
    "\n",
    "$$\n",
    "\\hat{y}=\\beta_0+\\beta_1.x_1+...+\\beta_n.x_n\n",
    "$$\n",
    "\n",
    "dimana $Y$ merupakan target dan $x_1,...,x_n$ prediktor lainnya\n",
    "\n",
    "y = b0 + b1x\n",
    "- y : nilai prediksi target variabel\n",
    "- b0 : nilai intercept (nilai target variabel ketika kita tidak memiliki prediktor sama sekali)\n",
    "- b1 : nilai slope (nilai kemiringan garis regresi / nilai kontribusi prediktor dalam menentukan target variabel)\n"
   ]
  },
  {
   "cell_type": "markdown",
   "metadata": {},
   "source": [
    "#### Membuat Model Regresi\n",
    "\n",
    "**1. Model dengan outlier** \n",
    "\n",
    "Selanjutnya jika kita ingin menjawab dari business problem yang kita miliki, yaitu kita ingin melakukan prediksi nilai **Profit** berdasarkan nilai **Sales**.\n",
    "\n",
    "Untuk membuat model regresi linier di Python kita akan menggunakan fungsi `OLS()` dari package `statsmodels`.\n",
    "- a. Menentukan target dan prediktor\n",
    "   - Y   : `df['target']`\n",
    "   - X   : `sm.add_constant(df['prediktor'])`. Supaya intercept tidak dianggap 0\n",
    "- b. Membuat model regresi linier `sm.OLS(target, prediktor).fit()`\n",
    "- c. Menginterpretasikan model\n",
    "   - intercept dan slope: `model.params`\n",
    "   - summary model      : `model.summary()`  "
   ]
  },
  {
   "cell_type": "code",
   "execution_count": 16,
   "metadata": {
    "ExecuteTime": {
     "end_time": "2021-12-10T01:30:39.214346Z",
     "start_time": "2021-12-10T01:30:39.157594Z"
    },
    "hide_input": false,
    "scrolled": false
   },
   "outputs": [
    {
     "data": {
      "text/html": [
       "<table class=\"simpletable\">\n",
       "<caption>OLS Regression Results</caption>\n",
       "<tr>\n",
       "  <th>Dep. Variable:</th>         <td>Profit</td>      <th>  R-squared:         </th> <td>   0.883</td>\n",
       "</tr>\n",
       "<tr>\n",
       "  <th>Model:</th>                   <td>OLS</td>       <th>  Adj. R-squared:    </th> <td>   0.881</td>\n",
       "</tr>\n",
       "<tr>\n",
       "  <th>Method:</th>             <td>Least Squares</td>  <th>  F-statistic:       </th> <td>   452.0</td>\n",
       "</tr>\n",
       "<tr>\n",
       "  <th>Date:</th>             <td>Tue, 14 Dec 2021</td> <th>  Prob (F-statistic):</th> <td>1.27e-29</td>\n",
       "</tr>\n",
       "<tr>\n",
       "  <th>Time:</th>                 <td>23:19:53</td>     <th>  Log-Likelihood:    </th> <td> -397.68</td>\n",
       "</tr>\n",
       "<tr>\n",
       "  <th>No. Observations:</th>      <td>    62</td>      <th>  AIC:               </th> <td>   799.4</td>\n",
       "</tr>\n",
       "<tr>\n",
       "  <th>Df Residuals:</th>          <td>    60</td>      <th>  BIC:               </th> <td>   803.6</td>\n",
       "</tr>\n",
       "<tr>\n",
       "  <th>Df Model:</th>              <td>     1</td>      <th>                     </th>     <td> </td>   \n",
       "</tr>\n",
       "<tr>\n",
       "  <th>Covariance Type:</th>      <td>nonrobust</td>    <th>                     </th>     <td> </td>   \n",
       "</tr>\n",
       "</table>\n",
       "<table class=\"simpletable\">\n",
       "<tr>\n",
       "    <td></td>       <th>coef</th>     <th>std err</th>      <th>t</th>      <th>P>|t|</th>  <th>[0.025</th>    <th>0.975]</th>  \n",
       "</tr>\n",
       "<tr>\n",
       "  <th>const</th> <td> -114.0625</td> <td>   32.627</td> <td>   -3.496</td> <td> 0.001</td> <td> -179.327</td> <td>  -48.798</td>\n",
       "</tr>\n",
       "<tr>\n",
       "  <th>Sales</th> <td>    0.4229</td> <td>    0.020</td> <td>   21.260</td> <td> 0.000</td> <td>    0.383</td> <td>    0.463</td>\n",
       "</tr>\n",
       "</table>\n",
       "<table class=\"simpletable\">\n",
       "<tr>\n",
       "  <th>Omnibus:</th>       <td> 2.345</td> <th>  Durbin-Watson:     </th> <td>   2.295</td>\n",
       "</tr>\n",
       "<tr>\n",
       "  <th>Prob(Omnibus):</th> <td> 0.310</td> <th>  Jarque-Bera (JB):  </th> <td>   1.652</td>\n",
       "</tr>\n",
       "<tr>\n",
       "  <th>Skew:</th>          <td>-0.380</td> <th>  Prob(JB):          </th> <td>   0.438</td>\n",
       "</tr>\n",
       "<tr>\n",
       "  <th>Kurtosis:</th>      <td> 3.250</td> <th>  Cond. No.          </th> <td>2.81e+03</td>\n",
       "</tr>\n",
       "</table><br/><br/>Notes:<br/>[1] Standard Errors assume that the covariance matrix of the errors is correctly specified.<br/>[2] The condition number is large, 2.81e+03. This might indicate that there are<br/>strong multicollinearity or other numerical problems."
      ],
      "text/plain": [
       "<class 'statsmodels.iolib.summary.Summary'>\n",
       "\"\"\"\n",
       "                            OLS Regression Results                            \n",
       "==============================================================================\n",
       "Dep. Variable:                 Profit   R-squared:                       0.883\n",
       "Model:                            OLS   Adj. R-squared:                  0.881\n",
       "Method:                 Least Squares   F-statistic:                     452.0\n",
       "Date:                Tue, 14 Dec 2021   Prob (F-statistic):           1.27e-29\n",
       "Time:                        23:19:53   Log-Likelihood:                -397.68\n",
       "No. Observations:                  62   AIC:                             799.4\n",
       "Df Residuals:                      60   BIC:                             803.6\n",
       "Df Model:                           1                                         \n",
       "Covariance Type:            nonrobust                                         \n",
       "==============================================================================\n",
       "                 coef    std err          t      P>|t|      [0.025      0.975]\n",
       "------------------------------------------------------------------------------\n",
       "const       -114.0625     32.627     -3.496      0.001    -179.327     -48.798\n",
       "Sales          0.4229      0.020     21.260      0.000       0.383       0.463\n",
       "==============================================================================\n",
       "Omnibus:                        2.345   Durbin-Watson:                   2.295\n",
       "Prob(Omnibus):                  0.310   Jarque-Bera (JB):                1.652\n",
       "Skew:                          -0.380   Prob(JB):                        0.438\n",
       "Kurtosis:                       3.250   Cond. No.                     2.81e+03\n",
       "==============================================================================\n",
       "\n",
       "Notes:\n",
       "[1] Standard Errors assume that the covariance matrix of the errors is correctly specified.\n",
       "[2] The condition number is large, 2.81e+03. This might indicate that there are\n",
       "strong multicollinearity or other numerical problems.\n",
       "\"\"\""
      ]
     },
     "execution_count": 16,
     "metadata": {},
     "output_type": "execute_result"
    }
   ],
   "source": [
    "# define predictor variable\n",
    "X_data = copiers['Sales']\n",
    "X_data = sm.add_constant(X_data)\n",
    "\n",
    "#define target variable\n",
    "Y_data = copiers['Profit']\n",
    "\n",
    "# build model with outlier\n",
    "lm_outlier = sm.OLS(Y_data, X_data).fit()\n",
    "\n",
    "lm_outlier.summary()"
   ]
  },
  {
   "cell_type": "markdown",
   "metadata": {},
   "source": [
    "**Hasil Visualisasi**"
   ]
  },
  {
   "cell_type": "code",
   "execution_count": 17,
   "metadata": {
    "ExecuteTime": {
     "end_time": "2021-12-10T01:30:39.430858Z",
     "start_time": "2021-12-10T01:30:39.219000Z"
    }
   },
   "outputs": [
    {
     "data": {
      "image/png": "[encoded data removed]",
      "text/plain": [
       "<Figure size 432x288 with 1 Axes>"
      ]
     },
     "metadata": {
      "needs_background": "light"
     },
     "output_type": "display_data"
    }
   ],
   "source": [
    "copiers.plot.scatter(x='Sales', y='Profit')\n",
    "plt.plot(copiers['Sales'], lm_outlier.fittedvalues, c='red')\n",
    "plt.show()"
   ]
  },
  {
   "cell_type": "markdown",
   "metadata": {},
   "source": [
    "\n",
    "📝 **Interpretasi model :**\n",
    "\n",
    "1. Model linier regresi untuk kasus Profit prediction adalah `Profit = -114.06251 + 0.42286*Sales`\n",
    "      - **slope    : setiap kenaikan Sales sebesar 1 USD, profit akan naik sebesar 0.42286 USD. Dan sebaliknya, ketika Sales turun 1 USD, Profit akan turun sebesar 0.42286 USD**\n",
    "      - **intercept: ketika Sales sama dengan 0 (tidak ada penjualan sama sekali), maka profit yang diperoleh adalah -114.06251 USD. Online retail akan rugi ketika tidak ada penjualan sama sekali, karena cost (fix cost) masih tetap dibayarkan**\n",
    "   \n",
    "2. Signifikansi prediktor (bandingkan nilai p-value dengan alpha)\n",
    "   - H0: Sales tidak mempengaruhi Profit\n",
    "   - H1: Sales mempengaruhi Profit\n",
    "   \n",
    "       - p-value Sales = 0.000\n",
    "       - P-value Sales < 0.05 : Sales mempengaruhi profit\n",
    "       - Ketika p-value < 0.05 (alpha) maka kesimpulannya adalah menolak H0\n",
    "       - Sales signifikan berpengaruh terhadap Profit (p-value=0 < alpha=0.05).\n",
    "   \n",
    "3. Goodness of fit (melihat nilai R-squared, dimana **0 ≤ $R^2$ ≤ 1**)\n",
    "   \n",
    "   Nilai R-Squared merepresentasikan % variasi dari data yang berhasil dijelaskan oleh model. **Formula**:  \n",
    "      \n",
    "   $R^2=1- \\frac {∑ \\limits_{i=1}^n (Y_i−\\hat Y)^2}{∑ \\limits_{i=1}^n(Y_i−\\bar Y)^2}$\n",
    "   \n",
    "   - Semakin mendekati 1, mengindikasikan model semakin fit\n",
    "   - Semakin mendekati 0, mengindikasikan model tidak fit\n",
    "  \n",
    "  0.883 -> **Sebesar 88% variansi variable Profit dijelaskan oleh Sales, sisanya dijelaskan oleh factor lain yang belum diketahui.**"
   ]
  },
  {
   "cell_type": "markdown",
   "metadata": {},
   "source": [
    "**[Optional] Other Information in Summary**\n",
    "\n",
    "1. Tabel 1, sisi kiri menyimpan informasi dasar dari model\n",
    "    - Dep. Variable   : Target variabel (Y)\n",
    "    - Model           : Model regresi linier\n",
    "    - Method          : Metode yang digunakan untuk membuat model regresi linier\n",
    "    - No. Observations:\tJumlah observasi yang digunakan ketika membuat model regresi linier\n",
    "    - DF Residuals    :\tDegrees of freedom error/residual (**No. Observations - parameter**)\n",
    "    - DF Model        :\tDegrees of freedom model (**jumlah prediktor**)\n",
    "\n",
    "\n",
    "2. Tabel 1, sisi kanan menyimpan informasi kebaikan model\n",
    "    - **R-squared**         : Goodness of fit\n",
    "    - **Adj. R-squared**    : Goodneess of fit untuk multiple linear regression\n",
    "    - F-statistic       : Statistik hitung dari F-test (uji simultan)\n",
    "    - Prob (F-statistic): p-value dari F-test \n",
    "        \n",
    "        a. H0 --> Tidak ada prediktor yang berpengaruh signifikan terhadap target\n",
    "        \n",
    "        b. H1 --> Min terdapat 1 prediktor yang berpengaruh signifikan terhadap target\n",
    "    - Log-likelihood    : Log dari nilai likelihood.\n",
    "    - AIC               : Akaike Information Criterion (information loss)\n",
    "    - BIC               : Bayesian Information Criterion (serupa dengan AIC, namun perhitungan nilainya berbeda)\n",
    "\n",
    "3. Tabel 2 menyimpan informasi dari koefisien regresi\n",
    "    - **coef**              : Estimasi koefisien\n",
    "    - std err               : Estimasi selisih nilai sampel terhadap populasi\n",
    "    - t                     : Statistik hitung dari t-test (uji parsial)\n",
    "    - **P > |t|**               : P-value dari t-test\n",
    "    - [95.0% Conf. Interval]: Confidence Interval (CI) 95%\n",
    "\n",
    "\n",
    "4. Tabel 3 menyimpan hasil uji statistik error/residual\n",
    "    - Skewness: Mengukur kecondongan distribusi error\n",
    "    - Kurtosis:\tMengukur keruncingan distribusi error\n",
    "    - Omnibus\tD’Angostino’s test: Statistik hitung untuk pengujian **Skewness** dan **Kurtosis**\n",
    "    - Prob(Omnibus): p-value dari **Omnibus\tD’Angostino’s test**\n",
    "    - Jarque-Bera:\tSerupa dengan **Omnibus\tD’Angostino’s test**, namun memiliki perhitungan yang berbeda\n",
    "    - Prob (JB): p-value dari **Jarque-Bera**\n",
    "    - Durbin-Watson: Statistik hitung pengujian autokorelasi\n",
    "    - Cond. No: Pengujian multicolinearity"
   ]
  },
  {
   "cell_type": "markdown",
   "metadata": {},
   "source": [
    "#### Melakukan Prediksi Model\n",
    "\n",
    "Jika pada suatu hari perusahaan memperoleh nilai dari penjualan (*Sales*) sebesar 4797 USD. Berapa keuntungan yang diperoleh?"
   ]
  },
  {
   "cell_type": "code",
   "execution_count": 18,
   "metadata": {
    "ExecuteTime": {
     "end_time": "2021-12-10T01:30:39.461536Z",
     "start_time": "2021-12-10T01:30:39.434645Z"
    }
   },
   "outputs": [
    {
     "data": {
      "text/plain": [
       "1914.391134418754"
      ]
     },
     "execution_count": 18,
     "metadata": {},
     "output_type": "execute_result"
    }
   ],
   "source": [
    "## code here\n",
    "intercept = lm_outlier.params[0]\n",
    "slope = lm_outlier.params[1]\n",
    "\n",
    "profit_new = intercept + (slope*4797)\n",
    "profit_new"
   ]
  },
  {
   "cell_type": "markdown",
   "metadata": {},
   "source": [
    "Untuk melakukan prediksi terhadap beberapa nilai penjualan (*Sales*), dapat menggunakan `model.predict()`\n",
    "\n",
    "Eg : Data penjualan terbaru"
   ]
  },
  {
   "cell_type": "code",
   "execution_count": 19,
   "metadata": {
    "ExecuteTime": {
     "end_time": "2021-12-10T01:30:39.476564Z",
     "start_time": "2021-12-10T01:30:39.464770Z"
    },
    "scrolled": false
   },
   "outputs": [
    {
     "data": {
      "text/html": [
       "<div>\n",
       "<style scoped>\n",
       "    .dataframe tbody tr th:only-of-type {\n",
       "        vertical-align: middle;\n",
       "    }\n",
       "\n",
       "    .dataframe tbody tr th {\n",
       "        vertical-align: top;\n",
       "    }\n",
       "\n",
       "    .dataframe thead th {\n",
       "        text-align: right;\n",
       "    }\n",
       "</style>\n",
       "<table border=\"1\" class=\"dataframe\">\n",
       "  <thead>\n",
       "    <tr style=\"text-align: right;\">\n",
       "      <th></th>\n",
       "      <th>Sales</th>\n",
       "    </tr>\n",
       "  </thead>\n",
       "  <tbody>\n",
       "    <tr>\n",
       "      <th>0</th>\n",
       "      <td>4797</td>\n",
       "    </tr>\n",
       "    <tr>\n",
       "      <th>1</th>\n",
       "      <td>4650</td>\n",
       "    </tr>\n",
       "    <tr>\n",
       "      <th>2</th>\n",
       "      <td>5600</td>\n",
       "    </tr>\n",
       "    <tr>\n",
       "      <th>3</th>\n",
       "      <td>210</td>\n",
       "    </tr>\n",
       "  </tbody>\n",
       "</table>\n",
       "</div>"
      ],
      "text/plain": [
       "   Sales\n",
       "0   4797\n",
       "1   4650\n",
       "2   5600\n",
       "3    210"
      ]
     },
     "execution_count": 19,
     "metadata": {},
     "output_type": "execute_result"
    }
   ],
   "source": [
    "new_sales = pd.DataFrame({'Sales': (4797, 4650, 5600, 210)})\n",
    "new_sales"
   ]
  },
  {
   "cell_type": "code",
   "execution_count": 20,
   "metadata": {
    "ExecuteTime": {
     "end_time": "2021-12-10T01:30:39.492450Z",
     "start_time": "2021-12-10T01:30:39.479486Z"
    }
   },
   "outputs": [
    {
     "data": {
      "text/plain": [
       "0    1914.391134\n",
       "1    1852.230891\n",
       "2    2253.946748\n",
       "3     -25.262166\n",
       "dtype: float64"
      ]
     },
     "execution_count": 20,
     "metadata": {},
     "output_type": "execute_result"
    }
   ],
   "source": [
    "## code here\n",
    "X_new = sm.add_constant(new_sales['Sales'])\n",
    "\n",
    "lm_outlier.predict(X_new)"
   ]
  },
  {
   "cell_type": "markdown",
   "metadata": {},
   "source": [
    "#### Membandingkan dengan model regresi lainnya\n",
    "\n",
    "**2. Membuat model tanpa outlier**"
   ]
  },
  {
   "cell_type": "markdown",
   "metadata": {},
   "source": [
    "Untuk membuat model tanpa outlier, langkah pertama yang harus dilakukan adalah melakukan filtering pada data. Dalam kasus ini dikarenakan outlier `Sales` di atas 4000 USD, maka data yang digunakan adalah data dengan sales < 4000 USD."
   ]
  },
  {
   "cell_type": "code",
   "execution_count": 21,
   "metadata": {
    "ExecuteTime": {
     "end_time": "2021-12-10T01:30:39.524452Z",
     "start_time": "2021-12-10T01:30:39.494447Z"
    }
   },
   "outputs": [
    {
     "data": {
      "text/html": [
       "<div>\n",
       "<style scoped>\n",
       "    .dataframe tbody tr th:only-of-type {\n",
       "        vertical-align: middle;\n",
       "    }\n",
       "\n",
       "    .dataframe tbody tr th {\n",
       "        vertical-align: top;\n",
       "    }\n",
       "\n",
       "    .dataframe thead th {\n",
       "        text-align: right;\n",
       "    }\n",
       "</style>\n",
       "<table border=\"1\" class=\"dataframe\">\n",
       "  <thead>\n",
       "    <tr style=\"text-align: right;\">\n",
       "      <th></th>\n",
       "      <th>Row.ID</th>\n",
       "      <th>Order.ID</th>\n",
       "      <th>Order.Date</th>\n",
       "      <th>Ship.Date</th>\n",
       "      <th>Ship.Mode</th>\n",
       "      <th>Customer.ID</th>\n",
       "      <th>Segment</th>\n",
       "      <th>Product.ID</th>\n",
       "      <th>Category</th>\n",
       "      <th>Sub.Category</th>\n",
       "      <th>Product.Name</th>\n",
       "      <th>Sales</th>\n",
       "      <th>Quantity</th>\n",
       "      <th>Discount</th>\n",
       "      <th>Profit</th>\n",
       "    </tr>\n",
       "  </thead>\n",
       "  <tbody>\n",
       "    <tr>\n",
       "      <th>0</th>\n",
       "      <td>336</td>\n",
       "      <td>CA-2015-137946</td>\n",
       "      <td>2015-09-01</td>\n",
       "      <td>2015-09-04</td>\n",
       "      <td>Second Class</td>\n",
       "      <td>DB-13615</td>\n",
       "      <td>Consumer</td>\n",
       "      <td>TEC-CO-10001449</td>\n",
       "      <td>Technology</td>\n",
       "      <td>Copiers</td>\n",
       "      <td>Hewlett Packard LaserJet 3310 Copier</td>\n",
       "      <td>959.984</td>\n",
       "      <td>2</td>\n",
       "      <td>0.2</td>\n",
       "      <td>335.9944</td>\n",
       "    </tr>\n",
       "    <tr>\n",
       "      <th>1</th>\n",
       "      <td>393</td>\n",
       "      <td>US-2014-135972</td>\n",
       "      <td>2014-09-21</td>\n",
       "      <td>2014-09-23</td>\n",
       "      <td>Second Class</td>\n",
       "      <td>JG-15115</td>\n",
       "      <td>Consumer</td>\n",
       "      <td>TEC-CO-10002313</td>\n",
       "      <td>Technology</td>\n",
       "      <td>Copiers</td>\n",
       "      <td>Canon PC1080F Personal Copier</td>\n",
       "      <td>1799.970</td>\n",
       "      <td>3</td>\n",
       "      <td>0.0</td>\n",
       "      <td>701.9883</td>\n",
       "    </tr>\n",
       "    <tr>\n",
       "      <th>2</th>\n",
       "      <td>407</td>\n",
       "      <td>CA-2017-117457</td>\n",
       "      <td>2017-12-08</td>\n",
       "      <td>2017-12-12</td>\n",
       "      <td>Standard Class</td>\n",
       "      <td>KH-16510</td>\n",
       "      <td>Consumer</td>\n",
       "      <td>TEC-CO-10004115</td>\n",
       "      <td>Technology</td>\n",
       "      <td>Copiers</td>\n",
       "      <td>Sharp AL-1530CS Digital Copier</td>\n",
       "      <td>1199.976</td>\n",
       "      <td>3</td>\n",
       "      <td>0.2</td>\n",
       "      <td>434.9913</td>\n",
       "    </tr>\n",
       "    <tr>\n",
       "      <th>3</th>\n",
       "      <td>516</td>\n",
       "      <td>CA-2017-127432</td>\n",
       "      <td>2017-01-22</td>\n",
       "      <td>2017-01-27</td>\n",
       "      <td>Standard Class</td>\n",
       "      <td>AD-10180</td>\n",
       "      <td>Home Office</td>\n",
       "      <td>TEC-CO-10003236</td>\n",
       "      <td>Technology</td>\n",
       "      <td>Copiers</td>\n",
       "      <td>Canon Image Class D660 Copier</td>\n",
       "      <td>2999.950</td>\n",
       "      <td>5</td>\n",
       "      <td>0.0</td>\n",
       "      <td>1379.9770</td>\n",
       "    </tr>\n",
       "    <tr>\n",
       "      <th>4</th>\n",
       "      <td>596</td>\n",
       "      <td>CA-2014-131450</td>\n",
       "      <td>2014-08-08</td>\n",
       "      <td>2014-08-15</td>\n",
       "      <td>Standard Class</td>\n",
       "      <td>LR-16915</td>\n",
       "      <td>Consumer</td>\n",
       "      <td>TEC-CO-10004115</td>\n",
       "      <td>Technology</td>\n",
       "      <td>Copiers</td>\n",
       "      <td>Sharp AL-1530CS Digital Copier</td>\n",
       "      <td>1199.976</td>\n",
       "      <td>3</td>\n",
       "      <td>0.2</td>\n",
       "      <td>434.9913</td>\n",
       "    </tr>\n",
       "  </tbody>\n",
       "</table>\n",
       "</div>"
      ],
      "text/plain": [
       "   Row.ID        Order.ID Order.Date  Ship.Date       Ship.Mode Customer.ID  \\\n",
       "0     336  CA-2015-137946 2015-09-01 2015-09-04    Second Class    DB-13615   \n",
       "1     393  US-2014-135972 2014-09-21 2014-09-23    Second Class    JG-15115   \n",
       "2     407  CA-2017-117457 2017-12-08 2017-12-12  Standard Class    KH-16510   \n",
       "3     516  CA-2017-127432 2017-01-22 2017-01-27  Standard Class    AD-10180   \n",
       "4     596  CA-2014-131450 2014-08-08 2014-08-15  Standard Class    LR-16915   \n",
       "\n",
       "       Segment       Product.ID    Category Sub.Category  \\\n",
       "0     Consumer  TEC-CO-10001449  Technology      Copiers   \n",
       "1     Consumer  TEC-CO-10002313  Technology      Copiers   \n",
       "2     Consumer  TEC-CO-10004115  Technology      Copiers   \n",
       "3  Home Office  TEC-CO-10003236  Technology      Copiers   \n",
       "4     Consumer  TEC-CO-10004115  Technology      Copiers   \n",
       "\n",
       "                           Product.Name     Sales  Quantity  Discount  \\\n",
       "0  Hewlett Packard LaserJet 3310 Copier   959.984         2       0.2   \n",
       "1         Canon PC1080F Personal Copier  1799.970         3       0.0   \n",
       "2        Sharp AL-1530CS Digital Copier  1199.976         3       0.2   \n",
       "3         Canon Image Class D660 Copier  2999.950         5       0.0   \n",
       "4        Sharp AL-1530CS Digital Copier  1199.976         3       0.2   \n",
       "\n",
       "      Profit  \n",
       "0   335.9944  \n",
       "1   701.9883  \n",
       "2   434.9913  \n",
       "3  1379.9770  \n",
       "4   434.9913  "
      ]
     },
     "execution_count": 21,
     "metadata": {},
     "output_type": "execute_result"
    }
   ],
   "source": [
    "# remove outlier (subsetting sales below 4000)\n",
    "copiers_new = copiers[(copiers['Sales'] < 4000)]\n",
    "copiers_new.head()"
   ]
  },
  {
   "cell_type": "code",
   "execution_count": 22,
   "metadata": {
    "ExecuteTime": {
     "end_time": "2021-12-10T01:30:39.556280Z",
     "start_time": "2021-12-10T01:30:39.526661Z"
    },
    "scrolled": false
   },
   "outputs": [
    {
     "data": {
      "text/html": [
       "<table class=\"simpletable\">\n",
       "<caption>OLS Regression Results</caption>\n",
       "<tr>\n",
       "  <th>Dep. Variable:</th>         <td>Profit</td>      <th>  R-squared:         </th> <td>   0.851</td>\n",
       "</tr>\n",
       "<tr>\n",
       "  <th>Model:</th>                   <td>OLS</td>       <th>  Adj. R-squared:    </th> <td>   0.849</td>\n",
       "</tr>\n",
       "<tr>\n",
       "  <th>Method:</th>             <td>Least Squares</td>  <th>  F-statistic:       </th> <td>   338.0</td>\n",
       "</tr>\n",
       "<tr>\n",
       "  <th>Date:</th>             <td>Tue, 14 Dec 2021</td> <th>  Prob (F-statistic):</th> <td>4.22e-26</td>\n",
       "</tr>\n",
       "<tr>\n",
       "  <th>Time:</th>                 <td>23:19:55</td>     <th>  Log-Likelihood:    </th> <td> -388.00</td>\n",
       "</tr>\n",
       "<tr>\n",
       "  <th>No. Observations:</th>      <td>    61</td>      <th>  AIC:               </th> <td>   780.0</td>\n",
       "</tr>\n",
       "<tr>\n",
       "  <th>Df Residuals:</th>          <td>    59</td>      <th>  BIC:               </th> <td>   784.2</td>\n",
       "</tr>\n",
       "<tr>\n",
       "  <th>Df Model:</th>              <td>     1</td>      <th>                     </th>     <td> </td>   \n",
       "</tr>\n",
       "<tr>\n",
       "  <th>Covariance Type:</th>      <td>nonrobust</td>    <th>                     </th>     <td> </td>   \n",
       "</tr>\n",
       "</table>\n",
       "<table class=\"simpletable\">\n",
       "<tr>\n",
       "    <td></td>       <th>coef</th>     <th>std err</th>      <th>t</th>      <th>P>|t|</th>  <th>[0.025</th>    <th>0.975]</th>  \n",
       "</tr>\n",
       "<tr>\n",
       "  <th>const</th> <td>  -83.5481</td> <td>   32.830</td> <td>   -2.545</td> <td> 0.014</td> <td> -149.240</td> <td>  -17.856</td>\n",
       "</tr>\n",
       "<tr>\n",
       "  <th>Sales</th> <td>    0.3944</td> <td>    0.021</td> <td>   18.384</td> <td> 0.000</td> <td>    0.352</td> <td>    0.437</td>\n",
       "</tr>\n",
       "</table>\n",
       "<table class=\"simpletable\">\n",
       "<tr>\n",
       "  <th>Omnibus:</th>       <td> 1.946</td> <th>  Durbin-Watson:     </th> <td>   2.179</td>\n",
       "</tr>\n",
       "<tr>\n",
       "  <th>Prob(Omnibus):</th> <td> 0.378</td> <th>  Jarque-Bera (JB):  </th> <td>   1.177</td>\n",
       "</tr>\n",
       "<tr>\n",
       "  <th>Skew:</th>          <td>-0.199</td> <th>  Prob(JB):          </th> <td>   0.555</td>\n",
       "</tr>\n",
       "<tr>\n",
       "  <th>Kurtosis:</th>      <td> 3.552</td> <th>  Cond. No.          </th> <td>2.76e+03</td>\n",
       "</tr>\n",
       "</table><br/><br/>Notes:<br/>[1] Standard Errors assume that the covariance matrix of the errors is correctly specified.<br/>[2] The condition number is large, 2.76e+03. This might indicate that there are<br/>strong multicollinearity or other numerical problems."
      ],
      "text/plain": [
       "<class 'statsmodels.iolib.summary.Summary'>\n",
       "\"\"\"\n",
       "                            OLS Regression Results                            \n",
       "==============================================================================\n",
       "Dep. Variable:                 Profit   R-squared:                       0.851\n",
       "Model:                            OLS   Adj. R-squared:                  0.849\n",
       "Method:                 Least Squares   F-statistic:                     338.0\n",
       "Date:                Tue, 14 Dec 2021   Prob (F-statistic):           4.22e-26\n",
       "Time:                        23:19:55   Log-Likelihood:                -388.00\n",
       "No. Observations:                  61   AIC:                             780.0\n",
       "Df Residuals:                      59   BIC:                             784.2\n",
       "Df Model:                           1                                         \n",
       "Covariance Type:            nonrobust                                         \n",
       "==============================================================================\n",
       "                 coef    std err          t      P>|t|      [0.025      0.975]\n",
       "------------------------------------------------------------------------------\n",
       "const        -83.5481     32.830     -2.545      0.014    -149.240     -17.856\n",
       "Sales          0.3944      0.021     18.384      0.000       0.352       0.437\n",
       "==============================================================================\n",
       "Omnibus:                        1.946   Durbin-Watson:                   2.179\n",
       "Prob(Omnibus):                  0.378   Jarque-Bera (JB):                1.177\n",
       "Skew:                          -0.199   Prob(JB):                        0.555\n",
       "Kurtosis:                       3.552   Cond. No.                     2.76e+03\n",
       "==============================================================================\n",
       "\n",
       "Notes:\n",
       "[1] Standard Errors assume that the covariance matrix of the errors is correctly specified.\n",
       "[2] The condition number is large, 2.76e+03. This might indicate that there are\n",
       "strong multicollinearity or other numerical problems.\n",
       "\"\"\""
      ]
     },
     "execution_count": 22,
     "metadata": {},
     "output_type": "execute_result"
    }
   ],
   "source": [
    "# melakukan modeling dengan data baru \n",
    "# define predictor variable\n",
    "X_data_no = copiers_new['Sales']\n",
    "X_data_no = sm.add_constant(X_data_no)\n",
    "\n",
    "#define target variable\n",
    "Y_data_no = copiers_new['Profit']\n",
    "\n",
    "# build model with outlier\n",
    "lm_no_outlier = sm.OLS(Y_data_no, X_data_no).fit()\n",
    "\n",
    "lm_no_outlier.summary()\n",
    "\n",
    "# Jawaban Bapak Amri\n",
    "\n",
    "# n_copier = copiers[copiers['Sales']<4000]\n",
    "# X_data = n_copier['Sales']\n",
    "# X_data = sm.add_constant(X_data)\n",
    "\n",
    "# #define target variable\n",
    "# Y_data = n_copier['Profit']\n",
    "\n",
    "# # build model with outlier\n",
    "# lm_outlier = sm.OLS(Y_data, X_data).fit()\n",
    "\n",
    "# lm_outlier.summary()\n"
   ]
  },
  {
   "cell_type": "markdown",
   "metadata": {},
   "source": [
    "📝 **Interpretasi model:**\n",
    "\n",
    "1. Model linier regresi untuk kasus Profit prediction adalah `Profit = -83.5481 + 0.3944 Sales`\n",
    "   - **slope    : setiap kenaikan Sales sebesar 1 USD, profit akan naik sebesar 0.394 USD. Dan sebaliknya, ketika Sales turun 1 USD, Profit akan turun sebesar 0.394 USD**\n",
    "   - **intercept: ketika Sales sama dengan 0 (tidak ada penjualan sama sekali), maka profit yang diperoleh adalah -83.54810 USD. Online retail akan rugi ketika tidak ada penjualan sama sekali, karena cost (fix cost) masih tetap dibayarkan**\n",
    "   \n",
    "2. Signifikansi prediktor (bandingkan nilai p-value dengan alpha)\n",
    "   - H0: Sales tidak mempengaruhi Profit\n",
    "   - H1: Sales mempengaruhi Profit\n",
    "   \n",
    "   Sales signifikan berpengaruh terhadap Profit (p-value=0 < alpha=0.05).\n",
    "   \n",
    "   **Dikarenakan (p-value = 0.000 < 0.05) maka Sales berpengaruh significant terhadap Profit**\n",
    "   \n",
    "3. Goodness of fit (melihat nilai R-squared, dimana **0 ≤ $R^2$ ≤ 1**)\n",
    "   \n",
    "   Nilai R-Squared merepresentasikan % variasi dari data yang berhasil dijelaskan oleh model. **Formula**:  \n",
    "      \n",
    "   $R^2=1- \\frac {∑ \\limits_{i=1}^n (Y_i−\\hat Y)^2}{∑ \\limits_{i=1}^n(Y_i−\\bar Y)^2}$\n",
    "   \n",
    "   - Semakin mendekati 1, mengindikasikan model semakin fit\n",
    "   - Semakin mendekati 0, mengindikasikan model tidak fit\n",
    "   \n",
    "   R-Squared yang diperolah adalah 0.851 mengindikasikan model sudah cukup fit. \n",
    "   \n",
    "   **Sebesar 85% variansi variable Profit dijelaskan oleh Sales. Sisanya dijelaskan oleh factor lain yang belum diketahui.**"
   ]
  },
  {
   "cell_type": "code",
   "execution_count": 23,
   "metadata": {
    "ExecuteTime": {
     "end_time": "2021-12-10T01:30:39.712013Z",
     "start_time": "2021-12-10T01:30:39.558277Z"
    },
    "scrolled": true
   },
   "outputs": [
    {
     "data": {
      "image/png": "[encoded data removed]",
      "text/plain": [
       "<Figure size 432x288 with 1 Axes>"
      ]
     },
     "metadata": {
      "needs_background": "light"
     },
     "output_type": "display_data"
    }
   ],
   "source": [
    "# visualize the result\n",
    "copiers.plot.scatter(x='Sales', y='Profit')\n",
    "plt.plot(copiers_new['Sales'], lm_no_outlier.fittedvalues, c='green')\n",
    "plt.plot(copiers['Sales'], lm_outlier.fittedvalues, c='red')\n",
    "plt.show()"
   ]
  },
  {
   "cell_type": "markdown",
   "metadata": {},
   "source": [
    "⌛️ **Leverage vs. Influence**\n",
    "\n",
    "**Leverage** adalah nilai yang letaknya jauh dari letak observasi lainnya, sering disebut sebagai **outlier**. Nilai leverage dapat mempengaruhi model linier regresi atau pun tidak.\n",
    "\n",
    "- Ketika **leverage mempengaruhi (menurunkan R-Squared)** model linier regresi: **high influence**, sebaiknya **di-exclude** -> membuat model menjadi lebih jelek\n",
    "- Ketika **leverage tidak mempengaruhi (meningkatkan R-Squared)** model linier regresi: **low influence**, sebaiknya **di-include** -> membuat model menjadi lebih baik"
   ]
  },
  {
   "cell_type": "code",
   "execution_count": 24,
   "metadata": {
    "ExecuteTime": {
     "end_time": "2021-12-10T01:30:39.727853Z",
     "start_time": "2021-12-10T01:30:39.714857Z"
    }
   },
   "outputs": [
    {
     "name": "stdout",
     "output_type": "stream",
     "text": [
      "R-Squared model dengan outlier : 0.88\n",
      "R-Squared model tanpa outlier : 0.85\n"
     ]
    }
   ],
   "source": [
    "print(\"R-Squared model dengan outlier :\",(lm_outlier.rsquared).round(2))\n",
    "print(\"R-Squared model tanpa outlier :\",(lm_no_outlier.rsquared).round(2))"
   ]
  },
  {
   "cell_type": "markdown",
   "metadata": {},
   "source": [
    " **SUMMARY :**\n",
    " \n",
    " 1. Machine Learning terbagi menjadi 2 yaitu :\n",
    "     - Supervised Learning : Memiliki label / target variable (eg : Regresi, Klasifikasi)\n",
    "     - Unsupervised Learning : Tidak memiliki label/target variable (eg : Clustering)\n",
    " 2. Regression Model : Untuk memprediksi data numerical yang bersifat continuous\n",
    " 3. Syarat dari regresi model : Harus memiliki hubungan linear antara variable target dan predictornya\n",
    " 4. Keunggulan dari model regresi adalah dapat di interpretasikan.\n",
    " \n",
    "\n",
    "**END OF DAY 1**\n",
    "\n",
    "---\n",
    "\n",
    "**START OF DAY 2**"
   ]
  },
  {
   "cell_type": "code",
   "execution_count": 25,
   "metadata": {
    "ExecuteTime": {
     "end_time": "2021-12-10T01:30:39.758742Z",
     "start_time": "2021-12-10T01:30:39.729816Z"
    }
   },
   "outputs": [
    {
     "data": {
      "text/html": [
       "<div>\n",
       "<style scoped>\n",
       "    .dataframe tbody tr th:only-of-type {\n",
       "        vertical-align: middle;\n",
       "    }\n",
       "\n",
       "    .dataframe tbody tr th {\n",
       "        vertical-align: top;\n",
       "    }\n",
       "\n",
       "    .dataframe thead th {\n",
       "        text-align: right;\n",
       "    }\n",
       "</style>\n",
       "<table border=\"1\" class=\"dataframe\">\n",
       "  <thead>\n",
       "    <tr style=\"text-align: right;\">\n",
       "      <th></th>\n",
       "      <th>Row.ID</th>\n",
       "      <th>Order.ID</th>\n",
       "      <th>Order.Date</th>\n",
       "      <th>Ship.Date</th>\n",
       "      <th>Ship.Mode</th>\n",
       "      <th>Customer.ID</th>\n",
       "      <th>Segment</th>\n",
       "      <th>Product.ID</th>\n",
       "      <th>Category</th>\n",
       "      <th>Sub.Category</th>\n",
       "      <th>Product.Name</th>\n",
       "      <th>Sales</th>\n",
       "      <th>Quantity</th>\n",
       "      <th>Discount</th>\n",
       "      <th>Profit</th>\n",
       "      <th>Profit.Pred</th>\n",
       "    </tr>\n",
       "  </thead>\n",
       "  <tbody>\n",
       "    <tr>\n",
       "      <th>0</th>\n",
       "      <td>336</td>\n",
       "      <td>CA-2015-137946</td>\n",
       "      <td>2015-09-01</td>\n",
       "      <td>2015-09-04</td>\n",
       "      <td>Second Class</td>\n",
       "      <td>DB-13615</td>\n",
       "      <td>Consumer</td>\n",
       "      <td>TEC-CO-10001449</td>\n",
       "      <td>Technology</td>\n",
       "      <td>Copiers</td>\n",
       "      <td>Hewlett Packard LaserJet 3310 Copier</td>\n",
       "      <td>959.984</td>\n",
       "      <td>2</td>\n",
       "      <td>0.2</td>\n",
       "      <td>335.9944</td>\n",
       "      <td>291.875166</td>\n",
       "    </tr>\n",
       "    <tr>\n",
       "      <th>1</th>\n",
       "      <td>393</td>\n",
       "      <td>US-2014-135972</td>\n",
       "      <td>2014-09-21</td>\n",
       "      <td>2014-09-23</td>\n",
       "      <td>Second Class</td>\n",
       "      <td>JG-15115</td>\n",
       "      <td>Consumer</td>\n",
       "      <td>TEC-CO-10002313</td>\n",
       "      <td>Technology</td>\n",
       "      <td>Copiers</td>\n",
       "      <td>Canon PC1080F Personal Copier</td>\n",
       "      <td>1799.970</td>\n",
       "      <td>3</td>\n",
       "      <td>0.0</td>\n",
       "      <td>701.9883</td>\n",
       "      <td>647.070635</td>\n",
       "    </tr>\n",
       "    <tr>\n",
       "      <th>2</th>\n",
       "      <td>407</td>\n",
       "      <td>CA-2017-117457</td>\n",
       "      <td>2017-12-08</td>\n",
       "      <td>2017-12-12</td>\n",
       "      <td>Standard Class</td>\n",
       "      <td>KH-16510</td>\n",
       "      <td>Consumer</td>\n",
       "      <td>TEC-CO-10004115</td>\n",
       "      <td>Technology</td>\n",
       "      <td>Copiers</td>\n",
       "      <td>Sharp AL-1530CS Digital Copier</td>\n",
       "      <td>1199.976</td>\n",
       "      <td>3</td>\n",
       "      <td>0.2</td>\n",
       "      <td>434.9913</td>\n",
       "      <td>393.357894</td>\n",
       "    </tr>\n",
       "    <tr>\n",
       "      <th>3</th>\n",
       "      <td>516</td>\n",
       "      <td>CA-2017-127432</td>\n",
       "      <td>2017-01-22</td>\n",
       "      <td>2017-01-27</td>\n",
       "      <td>Standard Class</td>\n",
       "      <td>AD-10180</td>\n",
       "      <td>Home Office</td>\n",
       "      <td>TEC-CO-10003236</td>\n",
       "      <td>Technology</td>\n",
       "      <td>Copiers</td>\n",
       "      <td>Canon Image Class D660 Copier</td>\n",
       "      <td>2999.950</td>\n",
       "      <td>5</td>\n",
       "      <td>0.0</td>\n",
       "      <td>1379.9770</td>\n",
       "      <td>1154.492734</td>\n",
       "    </tr>\n",
       "    <tr>\n",
       "      <th>4</th>\n",
       "      <td>596</td>\n",
       "      <td>CA-2014-131450</td>\n",
       "      <td>2014-08-08</td>\n",
       "      <td>2014-08-15</td>\n",
       "      <td>Standard Class</td>\n",
       "      <td>LR-16915</td>\n",
       "      <td>Consumer</td>\n",
       "      <td>TEC-CO-10004115</td>\n",
       "      <td>Technology</td>\n",
       "      <td>Copiers</td>\n",
       "      <td>Sharp AL-1530CS Digital Copier</td>\n",
       "      <td>1199.976</td>\n",
       "      <td>3</td>\n",
       "      <td>0.2</td>\n",
       "      <td>434.9913</td>\n",
       "      <td>393.357894</td>\n",
       "    </tr>\n",
       "  </tbody>\n",
       "</table>\n",
       "</div>"
      ],
      "text/plain": [
       "   Row.ID        Order.ID Order.Date  Ship.Date       Ship.Mode Customer.ID  \\\n",
       "0     336  CA-2015-137946 2015-09-01 2015-09-04    Second Class    DB-13615   \n",
       "1     393  US-2014-135972 2014-09-21 2014-09-23    Second Class    JG-15115   \n",
       "2     407  CA-2017-117457 2017-12-08 2017-12-12  Standard Class    KH-16510   \n",
       "3     516  CA-2017-127432 2017-01-22 2017-01-27  Standard Class    AD-10180   \n",
       "4     596  CA-2014-131450 2014-08-08 2014-08-15  Standard Class    LR-16915   \n",
       "\n",
       "       Segment       Product.ID    Category Sub.Category  \\\n",
       "0     Consumer  TEC-CO-10001449  Technology      Copiers   \n",
       "1     Consumer  TEC-CO-10002313  Technology      Copiers   \n",
       "2     Consumer  TEC-CO-10004115  Technology      Copiers   \n",
       "3  Home Office  TEC-CO-10003236  Technology      Copiers   \n",
       "4     Consumer  TEC-CO-10004115  Technology      Copiers   \n",
       "\n",
       "                           Product.Name     Sales  Quantity  Discount  \\\n",
       "0  Hewlett Packard LaserJet 3310 Copier   959.984         2       0.2   \n",
       "1         Canon PC1080F Personal Copier  1799.970         3       0.0   \n",
       "2        Sharp AL-1530CS Digital Copier  1199.976         3       0.2   \n",
       "3         Canon Image Class D660 Copier  2999.950         5       0.0   \n",
       "4        Sharp AL-1530CS Digital Copier  1199.976         3       0.2   \n",
       "\n",
       "      Profit  Profit.Pred  \n",
       "0   335.9944   291.875166  \n",
       "1   701.9883   647.070635  \n",
       "2   434.9913   393.357894  \n",
       "3  1379.9770  1154.492734  \n",
       "4   434.9913   393.357894  "
      ]
     },
     "execution_count": 25,
     "metadata": {},
     "output_type": "execute_result"
    }
   ],
   "source": [
    "## code here\n",
    "# predict copiers datasest\n",
    "copiers['Profit.Pred'] = lm_outlier.predict(X_data)\n",
    "copiers.head()"
   ]
  },
  {
   "cell_type": "code",
   "execution_count": 26,
   "metadata": {
    "ExecuteTime": {
     "end_time": "2021-12-10T01:30:39.790742Z",
     "start_time": "2021-12-10T01:30:39.760734Z"
    }
   },
   "outputs": [
    {
     "data": {
      "text/html": [
       "<div>\n",
       "<style scoped>\n",
       "    .dataframe tbody tr th:only-of-type {\n",
       "        vertical-align: middle;\n",
       "    }\n",
       "\n",
       "    .dataframe tbody tr th {\n",
       "        vertical-align: top;\n",
       "    }\n",
       "\n",
       "    .dataframe thead th {\n",
       "        text-align: right;\n",
       "    }\n",
       "</style>\n",
       "<table border=\"1\" class=\"dataframe\">\n",
       "  <thead>\n",
       "    <tr style=\"text-align: right;\">\n",
       "      <th></th>\n",
       "      <th>Row.ID</th>\n",
       "      <th>Order.ID</th>\n",
       "      <th>Order.Date</th>\n",
       "      <th>Ship.Date</th>\n",
       "      <th>Ship.Mode</th>\n",
       "      <th>Customer.ID</th>\n",
       "      <th>Segment</th>\n",
       "      <th>Product.ID</th>\n",
       "      <th>Category</th>\n",
       "      <th>Sub.Category</th>\n",
       "      <th>Product.Name</th>\n",
       "      <th>Sales</th>\n",
       "      <th>Quantity</th>\n",
       "      <th>Discount</th>\n",
       "      <th>Profit</th>\n",
       "      <th>Profit.Pred</th>\n",
       "      <th>Error</th>\n",
       "    </tr>\n",
       "  </thead>\n",
       "  <tbody>\n",
       "    <tr>\n",
       "      <th>0</th>\n",
       "      <td>336</td>\n",
       "      <td>CA-2015-137946</td>\n",
       "      <td>2015-09-01</td>\n",
       "      <td>2015-09-04</td>\n",
       "      <td>Second Class</td>\n",
       "      <td>DB-13615</td>\n",
       "      <td>Consumer</td>\n",
       "      <td>TEC-CO-10001449</td>\n",
       "      <td>Technology</td>\n",
       "      <td>Copiers</td>\n",
       "      <td>Hewlett Packard LaserJet 3310 Copier</td>\n",
       "      <td>959.984</td>\n",
       "      <td>2</td>\n",
       "      <td>0.2</td>\n",
       "      <td>335.9944</td>\n",
       "      <td>291.875166</td>\n",
       "      <td>44.119234</td>\n",
       "    </tr>\n",
       "    <tr>\n",
       "      <th>1</th>\n",
       "      <td>393</td>\n",
       "      <td>US-2014-135972</td>\n",
       "      <td>2014-09-21</td>\n",
       "      <td>2014-09-23</td>\n",
       "      <td>Second Class</td>\n",
       "      <td>JG-15115</td>\n",
       "      <td>Consumer</td>\n",
       "      <td>TEC-CO-10002313</td>\n",
       "      <td>Technology</td>\n",
       "      <td>Copiers</td>\n",
       "      <td>Canon PC1080F Personal Copier</td>\n",
       "      <td>1799.970</td>\n",
       "      <td>3</td>\n",
       "      <td>0.0</td>\n",
       "      <td>701.9883</td>\n",
       "      <td>647.070635</td>\n",
       "      <td>54.917665</td>\n",
       "    </tr>\n",
       "    <tr>\n",
       "      <th>2</th>\n",
       "      <td>407</td>\n",
       "      <td>CA-2017-117457</td>\n",
       "      <td>2017-12-08</td>\n",
       "      <td>2017-12-12</td>\n",
       "      <td>Standard Class</td>\n",
       "      <td>KH-16510</td>\n",
       "      <td>Consumer</td>\n",
       "      <td>TEC-CO-10004115</td>\n",
       "      <td>Technology</td>\n",
       "      <td>Copiers</td>\n",
       "      <td>Sharp AL-1530CS Digital Copier</td>\n",
       "      <td>1199.976</td>\n",
       "      <td>3</td>\n",
       "      <td>0.2</td>\n",
       "      <td>434.9913</td>\n",
       "      <td>393.357894</td>\n",
       "      <td>41.633406</td>\n",
       "    </tr>\n",
       "    <tr>\n",
       "      <th>3</th>\n",
       "      <td>516</td>\n",
       "      <td>CA-2017-127432</td>\n",
       "      <td>2017-01-22</td>\n",
       "      <td>2017-01-27</td>\n",
       "      <td>Standard Class</td>\n",
       "      <td>AD-10180</td>\n",
       "      <td>Home Office</td>\n",
       "      <td>TEC-CO-10003236</td>\n",
       "      <td>Technology</td>\n",
       "      <td>Copiers</td>\n",
       "      <td>Canon Image Class D660 Copier</td>\n",
       "      <td>2999.950</td>\n",
       "      <td>5</td>\n",
       "      <td>0.0</td>\n",
       "      <td>1379.9770</td>\n",
       "      <td>1154.492734</td>\n",
       "      <td>225.484266</td>\n",
       "    </tr>\n",
       "    <tr>\n",
       "      <th>4</th>\n",
       "      <td>596</td>\n",
       "      <td>CA-2014-131450</td>\n",
       "      <td>2014-08-08</td>\n",
       "      <td>2014-08-15</td>\n",
       "      <td>Standard Class</td>\n",
       "      <td>LR-16915</td>\n",
       "      <td>Consumer</td>\n",
       "      <td>TEC-CO-10004115</td>\n",
       "      <td>Technology</td>\n",
       "      <td>Copiers</td>\n",
       "      <td>Sharp AL-1530CS Digital Copier</td>\n",
       "      <td>1199.976</td>\n",
       "      <td>3</td>\n",
       "      <td>0.2</td>\n",
       "      <td>434.9913</td>\n",
       "      <td>393.357894</td>\n",
       "      <td>41.633406</td>\n",
       "    </tr>\n",
       "  </tbody>\n",
       "</table>\n",
       "</div>"
      ],
      "text/plain": [
       "   Row.ID        Order.ID Order.Date  Ship.Date       Ship.Mode Customer.ID  \\\n",
       "0     336  CA-2015-137946 2015-09-01 2015-09-04    Second Class    DB-13615   \n",
       "1     393  US-2014-135972 2014-09-21 2014-09-23    Second Class    JG-15115   \n",
       "2     407  CA-2017-117457 2017-12-08 2017-12-12  Standard Class    KH-16510   \n",
       "3     516  CA-2017-127432 2017-01-22 2017-01-27  Standard Class    AD-10180   \n",
       "4     596  CA-2014-131450 2014-08-08 2014-08-15  Standard Class    LR-16915   \n",
       "\n",
       "       Segment       Product.ID    Category Sub.Category  \\\n",
       "0     Consumer  TEC-CO-10001449  Technology      Copiers   \n",
       "1     Consumer  TEC-CO-10002313  Technology      Copiers   \n",
       "2     Consumer  TEC-CO-10004115  Technology      Copiers   \n",
       "3  Home Office  TEC-CO-10003236  Technology      Copiers   \n",
       "4     Consumer  TEC-CO-10004115  Technology      Copiers   \n",
       "\n",
       "                           Product.Name     Sales  Quantity  Discount  \\\n",
       "0  Hewlett Packard LaserJet 3310 Copier   959.984         2       0.2   \n",
       "1         Canon PC1080F Personal Copier  1799.970         3       0.0   \n",
       "2        Sharp AL-1530CS Digital Copier  1199.976         3       0.2   \n",
       "3         Canon Image Class D660 Copier  2999.950         5       0.0   \n",
       "4        Sharp AL-1530CS Digital Copier  1199.976         3       0.2   \n",
       "\n",
       "      Profit  Profit.Pred       Error  \n",
       "0   335.9944   291.875166   44.119234  \n",
       "1   701.9883   647.070635   54.917665  \n",
       "2   434.9913   393.357894   41.633406  \n",
       "3  1379.9770  1154.492734  225.484266  \n",
       "4   434.9913   393.357894   41.633406  "
      ]
     },
     "execution_count": 26,
     "metadata": {},
     "output_type": "execute_result"
    }
   ],
   "source": [
    "copiers['Error'] = copiers['Profit'] - copiers['Profit.Pred']\n",
    "copiers.head()"
   ]
  },
  {
   "cell_type": "markdown",
   "metadata": {},
   "source": [
    "#### Evaluation\n",
    "\n",
    "1. RMSE (Root Mean Square Error): Memperlakukan error dengan lebih sensitif. Ketika nilai error besar, maka nilai RMSE akan semakin besar dan sebaliknya. **Formula:**\n",
    "\n",
    "   $RMSE = \\sqrt{\\frac{1}{N} \\sum_{i=1}^{N} (y_{i} - \\hat{y})^{2}}$ \n",
    "\n",
    "\n",
    "2. MAE (Mean Absolute Error): Memperlakukan error dengan lebih ringan. **Formula:**\n",
    "\n",
    "   $MAE = \\frac{1}{N} \\sum_{i=1}^{N} \\left | y_{i} - \\hat{y} \\right |$\n",
    "   \n",
    "RMSE digunakan ketika model yang dibuat memuat observasi outlier. Sedangkan, MAE digunakan ketika model yang dibuat tidak memuat observasi outlier "
   ]
  },
  {
   "cell_type": "markdown",
   "metadata": {},
   "source": [
    "**RMSE**"
   ]
  },
  {
   "cell_type": "code",
   "execution_count": 27,
   "metadata": {
    "ExecuteTime": {
     "end_time": "2021-12-10T01:30:39.806612Z",
     "start_time": "2021-12-10T01:30:39.792647Z"
    }
   },
   "outputs": [],
   "source": [
    "from statsmodels.tools.eval_measures import rmse\n",
    "from statsmodels.tools.eval_measures import meanabs\n",
    "import math"
   ]
  },
  {
   "cell_type": "code",
   "execution_count": 28,
   "metadata": {
    "ExecuteTime": {
     "end_time": "2021-12-10T01:30:39.822567Z",
     "start_time": "2021-12-10T01:30:39.809602Z"
    }
   },
   "outputs": [
    {
     "data": {
      "text/plain": [
       "147.69971134001736"
      ]
     },
     "execution_count": 28,
     "metadata": {},
     "output_type": "execute_result"
    }
   ],
   "source": [
    "##code here\n",
    "#manually calculated\n",
    "math.sqrt((copiers['Error']**2).mean())"
   ]
  },
  {
   "cell_type": "code",
   "execution_count": 29,
   "metadata": {
    "ExecuteTime": {
     "end_time": "2021-12-10T01:30:39.838576Z",
     "start_time": "2021-12-10T01:30:39.827555Z"
    }
   },
   "outputs": [
    {
     "data": {
      "text/plain": [
       "147.69971134001733"
      ]
     },
     "execution_count": 29,
     "metadata": {},
     "output_type": "execute_result"
    }
   ],
   "source": [
    "##code here\n",
    "rmse(copiers['Profit'],copiers['Profit.Pred'])"
   ]
  },
  {
   "cell_type": "markdown",
   "metadata": {},
   "source": [
    "**MAE**"
   ]
  },
  {
   "cell_type": "code",
   "execution_count": 2,
   "metadata": {},
   "outputs": [
    {
     "ename": "NameError",
     "evalue": "name 'copiers' is not defined",
     "output_type": "error",
     "traceback": [
      "\u001b[1;31m---------------------------------------------------------------------------\u001b[0m",
      "\u001b[1;31mNameError\u001b[0m                                 Traceback (most recent call last)",
      "\u001b[1;32m<ipython-input-2-aee08b2cee67>\u001b[0m in \u001b[0;36m<module>\u001b[1;34m\u001b[0m\n\u001b[1;32m----> 1\u001b[1;33m \u001b[0mcopiers\u001b[0m\u001b[1;33m\u001b[0m\u001b[1;33m\u001b[0m\u001b[0m\n\u001b[0m",
      "\u001b[1;31mNameError\u001b[0m: name 'copiers' is not defined"
     ]
    }
   ],
   "source": [
    "copiers"
   ]
  },
  {
   "cell_type": "code",
   "execution_count": 28,
   "metadata": {
    "ExecuteTime": {
     "end_time": "2021-12-10T01:30:39.854527Z",
     "start_time": "2021-12-10T01:30:39.841517Z"
    }
   },
   "outputs": [
    {
     "data": {
      "text/plain": [
       "114.75721597459486"
      ]
     },
     "execution_count": 28,
     "metadata": {},
     "output_type": "execute_result"
    }
   ],
   "source": [
    "##code here\n",
    "#manually calculated\n",
    "copiers['Error'].abs().mean()"
   ]
  },
  {
   "cell_type": "code",
   "execution_count": 29,
   "metadata": {
    "ExecuteTime": {
     "end_time": "2021-12-10T01:30:39.870476Z",
     "start_time": "2021-12-10T01:30:39.856477Z"
    }
   },
   "outputs": [
    {
     "data": {
      "text/plain": [
       "114.75721597459489"
      ]
     },
     "execution_count": 29,
     "metadata": {},
     "output_type": "execute_result"
    }
   ],
   "source": [
    "##code here\n",
    "meanabs(copiers['Profit'], copiers['Profit.Pred'])"
   ]
  },
  {
   "cell_type": "code",
   "execution_count": 30,
   "metadata": {
    "ExecuteTime": {
     "end_time": "2021-12-10T01:30:39.886396Z",
     "start_time": "2021-12-10T01:30:39.873433Z"
    }
   },
   "outputs": [
    {
     "data": {
      "text/plain": [
       "(62, 17)"
      ]
     },
     "execution_count": 30,
     "metadata": {},
     "output_type": "execute_result"
    }
   ],
   "source": [
    "copiers.shape"
   ]
  },
  {
   "cell_type": "markdown",
   "metadata": {},
   "source": [
    "📝 **Interpretasi error:**\n",
    "\n",
    "Jika dibandingkan dengan interval nilai Profit, baik MAE dan RMSE yang diperoleh masih cukup besar, yaitu\n",
    "- RMSE: prediction +- 147\n",
    "- MAE: prediction +- 114\n",
    "\n",
    "\n",
    "Solution yang dapat dilakukan untuk memperkecil error:\n",
    "1. menambah pediktor\n",
    "2. menambah jumlah sampel\n",
    "3. melakukan scaling pada prediktor numerik"
   ]
  },
  {
   "cell_type": "markdown",
   "metadata": {},
   "source": [
    "## Multiple Linear Regression"
   ]
  },
  {
   "cell_type": "markdown",
   "metadata": {},
   "source": [
    "### Categorical Predictor: Dummy Variable\n",
    "\n",
    "Kita akan membuat multiple linear regression menggunakan data copiers untuk memprediksi `Profit` berdasarkan `Sales` dan `Segment`.\n",
    "- y: Profit\n",
    "- x: Sales dan Segment\n",
    "\n",
    "Sebelum melakukan fitting model, kita harus mengubah prediktor kategorik menjadi dummy variable, dengan cara:\n",
    "- Dilakukan dengan menggunakan fungsi `pd.get_dummies()`\n",
    "- **One hot encoding** = mengubah kolom kategorik menjadi kolom-kolom baru dari setiap kategori yang berisi nilai 0 dan 1 \n",
    "- **Dummy variable** =  mengubah kolom kategorik menjadi kolom-kolom baru yang terdiri dari k-1 kategori, berisi nilai 0 dan 1. Kategori yang tidak menjadi kolom, akan menjadi kondisi basis. Untuk membuat dummy variable, tambahkan parameter `drop_first=True`\n",
    "\n",
    "[One hot encoding vs. dummy variable](https://docs.google.com/spreadsheets/d/19Hw5I_hKd-e6MBoPBfCPTTUPAVV9c3UR7ZbU8dH2Vro/edit?usp=sharing)"
   ]
  },
  {
   "cell_type": "code",
   "execution_count": 31,
   "metadata": {
    "ExecuteTime": {
     "end_time": "2021-12-10T01:30:39.902439Z",
     "start_time": "2021-12-10T01:30:39.888424Z"
    }
   },
   "outputs": [
    {
     "data": {
      "text/plain": [
       "['Consumer', 'Home Office', 'Corporate']\n",
       "Categories (3, object): ['Consumer', 'Corporate', 'Home Office']"
      ]
     },
     "execution_count": 31,
     "metadata": {},
     "output_type": "execute_result"
    }
   ],
   "source": [
    "## check categories value on Segment\n",
    "copiers['Segment'].unique()"
   ]
  },
  {
   "cell_type": "code",
   "execution_count": 32,
   "metadata": {
    "ExecuteTime": {
     "end_time": "2021-12-10T01:30:39.934367Z",
     "start_time": "2021-12-10T01:30:39.904382Z"
    }
   },
   "outputs": [
    {
     "data": {
      "text/html": [
       "<div>\n",
       "<style scoped>\n",
       "    .dataframe tbody tr th:only-of-type {\n",
       "        vertical-align: middle;\n",
       "    }\n",
       "\n",
       "    .dataframe tbody tr th {\n",
       "        vertical-align: top;\n",
       "    }\n",
       "\n",
       "    .dataframe thead th {\n",
       "        text-align: right;\n",
       "    }\n",
       "</style>\n",
       "<table border=\"1\" class=\"dataframe\">\n",
       "  <thead>\n",
       "    <tr style=\"text-align: right;\">\n",
       "      <th></th>\n",
       "      <th>Row.ID</th>\n",
       "      <th>Order.ID</th>\n",
       "      <th>Order.Date</th>\n",
       "      <th>Ship.Date</th>\n",
       "      <th>Ship.Mode</th>\n",
       "      <th>Customer.ID</th>\n",
       "      <th>Segment</th>\n",
       "      <th>Product.ID</th>\n",
       "      <th>Category</th>\n",
       "      <th>Sub.Category</th>\n",
       "      <th>Product.Name</th>\n",
       "      <th>Sales</th>\n",
       "      <th>Quantity</th>\n",
       "      <th>Discount</th>\n",
       "      <th>Profit</th>\n",
       "      <th>Profit.Pred</th>\n",
       "      <th>Error</th>\n",
       "    </tr>\n",
       "  </thead>\n",
       "  <tbody>\n",
       "    <tr>\n",
       "      <th>0</th>\n",
       "      <td>336</td>\n",
       "      <td>CA-2015-137946</td>\n",
       "      <td>2015-09-01</td>\n",
       "      <td>2015-09-04</td>\n",
       "      <td>Second Class</td>\n",
       "      <td>DB-13615</td>\n",
       "      <td>Consumer</td>\n",
       "      <td>TEC-CO-10001449</td>\n",
       "      <td>Technology</td>\n",
       "      <td>Copiers</td>\n",
       "      <td>Hewlett Packard LaserJet 3310 Copier</td>\n",
       "      <td>959.984</td>\n",
       "      <td>2</td>\n",
       "      <td>0.2</td>\n",
       "      <td>335.9944</td>\n",
       "      <td>291.875166</td>\n",
       "      <td>44.119234</td>\n",
       "    </tr>\n",
       "    <tr>\n",
       "      <th>1</th>\n",
       "      <td>393</td>\n",
       "      <td>US-2014-135972</td>\n",
       "      <td>2014-09-21</td>\n",
       "      <td>2014-09-23</td>\n",
       "      <td>Second Class</td>\n",
       "      <td>JG-15115</td>\n",
       "      <td>Consumer</td>\n",
       "      <td>TEC-CO-10002313</td>\n",
       "      <td>Technology</td>\n",
       "      <td>Copiers</td>\n",
       "      <td>Canon PC1080F Personal Copier</td>\n",
       "      <td>1799.970</td>\n",
       "      <td>3</td>\n",
       "      <td>0.0</td>\n",
       "      <td>701.9883</td>\n",
       "      <td>647.070635</td>\n",
       "      <td>54.917665</td>\n",
       "    </tr>\n",
       "    <tr>\n",
       "      <th>2</th>\n",
       "      <td>407</td>\n",
       "      <td>CA-2017-117457</td>\n",
       "      <td>2017-12-08</td>\n",
       "      <td>2017-12-12</td>\n",
       "      <td>Standard Class</td>\n",
       "      <td>KH-16510</td>\n",
       "      <td>Consumer</td>\n",
       "      <td>TEC-CO-10004115</td>\n",
       "      <td>Technology</td>\n",
       "      <td>Copiers</td>\n",
       "      <td>Sharp AL-1530CS Digital Copier</td>\n",
       "      <td>1199.976</td>\n",
       "      <td>3</td>\n",
       "      <td>0.2</td>\n",
       "      <td>434.9913</td>\n",
       "      <td>393.357894</td>\n",
       "      <td>41.633406</td>\n",
       "    </tr>\n",
       "    <tr>\n",
       "      <th>3</th>\n",
       "      <td>516</td>\n",
       "      <td>CA-2017-127432</td>\n",
       "      <td>2017-01-22</td>\n",
       "      <td>2017-01-27</td>\n",
       "      <td>Standard Class</td>\n",
       "      <td>AD-10180</td>\n",
       "      <td>Home Office</td>\n",
       "      <td>TEC-CO-10003236</td>\n",
       "      <td>Technology</td>\n",
       "      <td>Copiers</td>\n",
       "      <td>Canon Image Class D660 Copier</td>\n",
       "      <td>2999.950</td>\n",
       "      <td>5</td>\n",
       "      <td>0.0</td>\n",
       "      <td>1379.9770</td>\n",
       "      <td>1154.492734</td>\n",
       "      <td>225.484266</td>\n",
       "    </tr>\n",
       "    <tr>\n",
       "      <th>4</th>\n",
       "      <td>596</td>\n",
       "      <td>CA-2014-131450</td>\n",
       "      <td>2014-08-08</td>\n",
       "      <td>2014-08-15</td>\n",
       "      <td>Standard Class</td>\n",
       "      <td>LR-16915</td>\n",
       "      <td>Consumer</td>\n",
       "      <td>TEC-CO-10004115</td>\n",
       "      <td>Technology</td>\n",
       "      <td>Copiers</td>\n",
       "      <td>Sharp AL-1530CS Digital Copier</td>\n",
       "      <td>1199.976</td>\n",
       "      <td>3</td>\n",
       "      <td>0.2</td>\n",
       "      <td>434.9913</td>\n",
       "      <td>393.357894</td>\n",
       "      <td>41.633406</td>\n",
       "    </tr>\n",
       "  </tbody>\n",
       "</table>\n",
       "</div>"
      ],
      "text/plain": [
       "   Row.ID        Order.ID Order.Date  Ship.Date       Ship.Mode Customer.ID  \\\n",
       "0     336  CA-2015-137946 2015-09-01 2015-09-04    Second Class    DB-13615   \n",
       "1     393  US-2014-135972 2014-09-21 2014-09-23    Second Class    JG-15115   \n",
       "2     407  CA-2017-117457 2017-12-08 2017-12-12  Standard Class    KH-16510   \n",
       "3     516  CA-2017-127432 2017-01-22 2017-01-27  Standard Class    AD-10180   \n",
       "4     596  CA-2014-131450 2014-08-08 2014-08-15  Standard Class    LR-16915   \n",
       "\n",
       "       Segment       Product.ID    Category Sub.Category  \\\n",
       "0     Consumer  TEC-CO-10001449  Technology      Copiers   \n",
       "1     Consumer  TEC-CO-10002313  Technology      Copiers   \n",
       "2     Consumer  TEC-CO-10004115  Technology      Copiers   \n",
       "3  Home Office  TEC-CO-10003236  Technology      Copiers   \n",
       "4     Consumer  TEC-CO-10004115  Technology      Copiers   \n",
       "\n",
       "                           Product.Name     Sales  Quantity  Discount  \\\n",
       "0  Hewlett Packard LaserJet 3310 Copier   959.984         2       0.2   \n",
       "1         Canon PC1080F Personal Copier  1799.970         3       0.0   \n",
       "2        Sharp AL-1530CS Digital Copier  1199.976         3       0.2   \n",
       "3         Canon Image Class D660 Copier  2999.950         5       0.0   \n",
       "4        Sharp AL-1530CS Digital Copier  1199.976         3       0.2   \n",
       "\n",
       "      Profit  Profit.Pred       Error  \n",
       "0   335.9944   291.875166   44.119234  \n",
       "1   701.9883   647.070635   54.917665  \n",
       "2   434.9913   393.357894   41.633406  \n",
       "3  1379.9770  1154.492734  225.484266  \n",
       "4   434.9913   393.357894   41.633406  "
      ]
     },
     "execution_count": 32,
     "metadata": {},
     "output_type": "execute_result"
    }
   ],
   "source": [
    "copiers.head()"
   ]
  },
  {
   "cell_type": "markdown",
   "metadata": {},
   "source": [
    "**One hot encoding**"
   ]
  },
  {
   "cell_type": "code",
   "execution_count": 33,
   "metadata": {
    "ExecuteTime": {
     "end_time": "2021-12-10T01:30:39.949620Z",
     "start_time": "2021-12-10T01:30:39.936264Z"
    }
   },
   "outputs": [
    {
     "data": {
      "text/html": [
       "<div>\n",
       "<style scoped>\n",
       "    .dataframe tbody tr th:only-of-type {\n",
       "        vertical-align: middle;\n",
       "    }\n",
       "\n",
       "    .dataframe tbody tr th {\n",
       "        vertical-align: top;\n",
       "    }\n",
       "\n",
       "    .dataframe thead th {\n",
       "        text-align: right;\n",
       "    }\n",
       "</style>\n",
       "<table border=\"1\" class=\"dataframe\">\n",
       "  <thead>\n",
       "    <tr style=\"text-align: right;\">\n",
       "      <th></th>\n",
       "      <th>Consumer</th>\n",
       "      <th>Corporate</th>\n",
       "      <th>Home Office</th>\n",
       "    </tr>\n",
       "  </thead>\n",
       "  <tbody>\n",
       "    <tr>\n",
       "      <th>0</th>\n",
       "      <td>1</td>\n",
       "      <td>0</td>\n",
       "      <td>0</td>\n",
       "    </tr>\n",
       "    <tr>\n",
       "      <th>1</th>\n",
       "      <td>1</td>\n",
       "      <td>0</td>\n",
       "      <td>0</td>\n",
       "    </tr>\n",
       "    <tr>\n",
       "      <th>2</th>\n",
       "      <td>1</td>\n",
       "      <td>0</td>\n",
       "      <td>0</td>\n",
       "    </tr>\n",
       "    <tr>\n",
       "      <th>3</th>\n",
       "      <td>0</td>\n",
       "      <td>0</td>\n",
       "      <td>1</td>\n",
       "    </tr>\n",
       "    <tr>\n",
       "      <th>4</th>\n",
       "      <td>1</td>\n",
       "      <td>0</td>\n",
       "      <td>0</td>\n",
       "    </tr>\n",
       "  </tbody>\n",
       "</table>\n",
       "</div>"
      ],
      "text/plain": [
       "   Consumer  Corporate  Home Office\n",
       "0         1          0            0\n",
       "1         1          0            0\n",
       "2         1          0            0\n",
       "3         0          0            1\n",
       "4         1          0            0"
      ]
     },
     "execution_count": 33,
     "metadata": {},
     "output_type": "execute_result"
    }
   ],
   "source": [
    "pd.get_dummies(copiers['Segment']).head()"
   ]
  },
  {
   "cell_type": "markdown",
   "metadata": {},
   "source": [
    "**Dummy Variable**"
   ]
  },
  {
   "cell_type": "code",
   "execution_count": 34,
   "metadata": {
    "ExecuteTime": {
     "end_time": "2021-12-10T01:30:39.965222Z",
     "start_time": "2021-12-10T01:30:39.952254Z"
    },
    "scrolled": true
   },
   "outputs": [
    {
     "data": {
      "text/html": [
       "<div>\n",
       "<style scoped>\n",
       "    .dataframe tbody tr th:only-of-type {\n",
       "        vertical-align: middle;\n",
       "    }\n",
       "\n",
       "    .dataframe tbody tr th {\n",
       "        vertical-align: top;\n",
       "    }\n",
       "\n",
       "    .dataframe thead th {\n",
       "        text-align: right;\n",
       "    }\n",
       "</style>\n",
       "<table border=\"1\" class=\"dataframe\">\n",
       "  <thead>\n",
       "    <tr style=\"text-align: right;\">\n",
       "      <th></th>\n",
       "      <th>Corporate</th>\n",
       "      <th>Home Office</th>\n",
       "    </tr>\n",
       "  </thead>\n",
       "  <tbody>\n",
       "    <tr>\n",
       "      <th>0</th>\n",
       "      <td>0</td>\n",
       "      <td>0</td>\n",
       "    </tr>\n",
       "    <tr>\n",
       "      <th>1</th>\n",
       "      <td>0</td>\n",
       "      <td>0</td>\n",
       "    </tr>\n",
       "    <tr>\n",
       "      <th>2</th>\n",
       "      <td>0</td>\n",
       "      <td>0</td>\n",
       "    </tr>\n",
       "    <tr>\n",
       "      <th>3</th>\n",
       "      <td>0</td>\n",
       "      <td>1</td>\n",
       "    </tr>\n",
       "    <tr>\n",
       "      <th>4</th>\n",
       "      <td>0</td>\n",
       "      <td>0</td>\n",
       "    </tr>\n",
       "  </tbody>\n",
       "</table>\n",
       "</div>"
      ],
      "text/plain": [
       "   Corporate  Home Office\n",
       "0          0            0\n",
       "1          0            0\n",
       "2          0            0\n",
       "3          0            1\n",
       "4          0            0"
      ]
     },
     "execution_count": 34,
     "metadata": {},
     "output_type": "execute_result"
    }
   ],
   "source": [
    "pd.get_dummies(copiers['Segment'], drop_first=True).head()"
   ]
  },
  {
   "cell_type": "markdown",
   "metadata": {},
   "source": [
    "#### Membuat data dummy untuk variable segment"
   ]
  },
  {
   "cell_type": "code",
   "execution_count": 35,
   "metadata": {
    "ExecuteTime": {
     "end_time": "2021-12-10T01:30:39.981219Z",
     "start_time": "2021-12-10T01:30:39.967213Z"
    }
   },
   "outputs": [
    {
     "data": {
      "text/html": [
       "<div>\n",
       "<style scoped>\n",
       "    .dataframe tbody tr th:only-of-type {\n",
       "        vertical-align: middle;\n",
       "    }\n",
       "\n",
       "    .dataframe tbody tr th {\n",
       "        vertical-align: top;\n",
       "    }\n",
       "\n",
       "    .dataframe thead th {\n",
       "        text-align: right;\n",
       "    }\n",
       "</style>\n",
       "<table border=\"1\" class=\"dataframe\">\n",
       "  <thead>\n",
       "    <tr style=\"text-align: right;\">\n",
       "      <th></th>\n",
       "      <th>Corporate</th>\n",
       "      <th>Home Office</th>\n",
       "    </tr>\n",
       "  </thead>\n",
       "  <tbody>\n",
       "    <tr>\n",
       "      <th>0</th>\n",
       "      <td>0</td>\n",
       "      <td>0</td>\n",
       "    </tr>\n",
       "    <tr>\n",
       "      <th>1</th>\n",
       "      <td>0</td>\n",
       "      <td>0</td>\n",
       "    </tr>\n",
       "    <tr>\n",
       "      <th>2</th>\n",
       "      <td>0</td>\n",
       "      <td>0</td>\n",
       "    </tr>\n",
       "    <tr>\n",
       "      <th>3</th>\n",
       "      <td>0</td>\n",
       "      <td>1</td>\n",
       "    </tr>\n",
       "    <tr>\n",
       "      <th>4</th>\n",
       "      <td>0</td>\n",
       "      <td>0</td>\n",
       "    </tr>\n",
       "  </tbody>\n",
       "</table>\n",
       "</div>"
      ],
      "text/plain": [
       "   Corporate  Home Office\n",
       "0          0            0\n",
       "1          0            0\n",
       "2          0            0\n",
       "3          0            1\n",
       "4          0            0"
      ]
     },
     "execution_count": 35,
     "metadata": {},
     "output_type": "execute_result"
    }
   ],
   "source": [
    "cat = pd.get_dummies(copiers['Segment'], drop_first = True)\n",
    "cat.head()"
   ]
  },
  {
   "cell_type": "code",
   "execution_count": 36,
   "metadata": {
    "ExecuteTime": {
     "end_time": "2021-12-10T01:30:39.997217Z",
     "start_time": "2021-12-10T01:30:39.983170Z"
    }
   },
   "outputs": [
    {
     "data": {
      "text/html": [
       "<div>\n",
       "<style scoped>\n",
       "    .dataframe tbody tr th:only-of-type {\n",
       "        vertical-align: middle;\n",
       "    }\n",
       "\n",
       "    .dataframe tbody tr th {\n",
       "        vertical-align: top;\n",
       "    }\n",
       "\n",
       "    .dataframe thead th {\n",
       "        text-align: right;\n",
       "    }\n",
       "</style>\n",
       "<table border=\"1\" class=\"dataframe\">\n",
       "  <thead>\n",
       "    <tr style=\"text-align: right;\">\n",
       "      <th></th>\n",
       "      <th>Sales</th>\n",
       "      <th>Profit</th>\n",
       "    </tr>\n",
       "  </thead>\n",
       "  <tbody>\n",
       "    <tr>\n",
       "      <th>0</th>\n",
       "      <td>959.984</td>\n",
       "      <td>335.9944</td>\n",
       "    </tr>\n",
       "    <tr>\n",
       "      <th>1</th>\n",
       "      <td>1799.970</td>\n",
       "      <td>701.9883</td>\n",
       "    </tr>\n",
       "  </tbody>\n",
       "</table>\n",
       "</div>"
      ],
      "text/plain": [
       "      Sales    Profit\n",
       "0   959.984  335.9944\n",
       "1  1799.970  701.9883"
      ]
     },
     "execution_count": 36,
     "metadata": {},
     "output_type": "execute_result"
    }
   ],
   "source": [
    "num = copiers[['Sales','Profit']]\n",
    "num.head(2)"
   ]
  },
  {
   "cell_type": "code",
   "execution_count": 37,
   "metadata": {
    "ExecuteTime": {
     "end_time": "2021-12-10T01:30:40.012409Z",
     "start_time": "2021-12-10T01:30:39.999096Z"
    }
   },
   "outputs": [
    {
     "data": {
      "text/plain": [
       "['Second Class', 'Standard Class', 'First Class', 'Same Day']\n",
       "Categories (4, object): ['First Class', 'Same Day', 'Second Class', 'Standard Class']"
      ]
     },
     "execution_count": 37,
     "metadata": {},
     "output_type": "execute_result"
    }
   ],
   "source": [
    "copiers['Ship.Mode'].unique()"
   ]
  },
  {
   "cell_type": "code",
   "execution_count": 38,
   "metadata": {
    "ExecuteTime": {
     "end_time": "2021-12-10T01:30:40.028050Z",
     "start_time": "2021-12-10T01:30:40.014057Z"
    }
   },
   "outputs": [
    {
     "data": {
      "text/html": [
       "<div>\n",
       "<style scoped>\n",
       "    .dataframe tbody tr th:only-of-type {\n",
       "        vertical-align: middle;\n",
       "    }\n",
       "\n",
       "    .dataframe tbody tr th {\n",
       "        vertical-align: top;\n",
       "    }\n",
       "\n",
       "    .dataframe thead th {\n",
       "        text-align: right;\n",
       "    }\n",
       "</style>\n",
       "<table border=\"1\" class=\"dataframe\">\n",
       "  <thead>\n",
       "    <tr style=\"text-align: right;\">\n",
       "      <th></th>\n",
       "      <th>Sales</th>\n",
       "      <th>Profit</th>\n",
       "      <th>Corporate</th>\n",
       "      <th>Home Office</th>\n",
       "    </tr>\n",
       "  </thead>\n",
       "  <tbody>\n",
       "    <tr>\n",
       "      <th>0</th>\n",
       "      <td>959.984</td>\n",
       "      <td>335.9944</td>\n",
       "      <td>0</td>\n",
       "      <td>0</td>\n",
       "    </tr>\n",
       "    <tr>\n",
       "      <th>1</th>\n",
       "      <td>1799.970</td>\n",
       "      <td>701.9883</td>\n",
       "      <td>0</td>\n",
       "      <td>0</td>\n",
       "    </tr>\n",
       "    <tr>\n",
       "      <th>2</th>\n",
       "      <td>1199.976</td>\n",
       "      <td>434.9913</td>\n",
       "      <td>0</td>\n",
       "      <td>0</td>\n",
       "    </tr>\n",
       "    <tr>\n",
       "      <th>3</th>\n",
       "      <td>2999.950</td>\n",
       "      <td>1379.9770</td>\n",
       "      <td>0</td>\n",
       "      <td>1</td>\n",
       "    </tr>\n",
       "    <tr>\n",
       "      <th>4</th>\n",
       "      <td>1199.976</td>\n",
       "      <td>434.9913</td>\n",
       "      <td>0</td>\n",
       "      <td>0</td>\n",
       "    </tr>\n",
       "  </tbody>\n",
       "</table>\n",
       "</div>"
      ],
      "text/plain": [
       "      Sales     Profit  Corporate  Home Office\n",
       "0   959.984   335.9944          0            0\n",
       "1  1799.970   701.9883          0            0\n",
       "2  1199.976   434.9913          0            0\n",
       "3  2999.950  1379.9770          0            1\n",
       "4  1199.976   434.9913          0            0"
      ]
     },
     "execution_count": 38,
     "metadata": {},
     "output_type": "execute_result"
    }
   ],
   "source": [
    "# turn to dummy variable \n",
    "cat = pd.get_dummies(copiers['Segment'], drop_first = True)\n",
    "#cat2 = pd.get_dummies(copiers['Ship.Mode'], drop_first = True)\n",
    "num = copiers[['Sales','Profit']]\n",
    "\n",
    "# re-join with `pd.concat()`\n",
    "copiers_new = pd.concat([num, cat], axis=1)\n",
    "copiers_new.head()"
   ]
  },
  {
   "cell_type": "markdown",
   "metadata": {},
   "source": [
    "#### Membuat model multiple linear regression"
   ]
  },
  {
   "cell_type": "code",
   "execution_count": 39,
   "metadata": {
    "ExecuteTime": {
     "end_time": "2021-12-10T01:30:40.044008Z",
     "start_time": "2021-12-10T01:30:40.030078Z"
    }
   },
   "outputs": [],
   "source": [
    "X = copiers_new.drop('Profit', axis=1)"
   ]
  },
  {
   "cell_type": "code",
   "execution_count": 40,
   "metadata": {
    "ExecuteTime": {
     "end_time": "2021-12-10T01:30:40.059942Z",
     "start_time": "2021-12-10T01:30:40.045970Z"
    }
   },
   "outputs": [
    {
     "data": {
      "text/html": [
       "<div>\n",
       "<style scoped>\n",
       "    .dataframe tbody tr th:only-of-type {\n",
       "        vertical-align: middle;\n",
       "    }\n",
       "\n",
       "    .dataframe tbody tr th {\n",
       "        vertical-align: top;\n",
       "    }\n",
       "\n",
       "    .dataframe thead th {\n",
       "        text-align: right;\n",
       "    }\n",
       "</style>\n",
       "<table border=\"1\" class=\"dataframe\">\n",
       "  <thead>\n",
       "    <tr style=\"text-align: right;\">\n",
       "      <th></th>\n",
       "      <th>Sales</th>\n",
       "      <th>Corporate</th>\n",
       "      <th>Home Office</th>\n",
       "    </tr>\n",
       "  </thead>\n",
       "  <tbody>\n",
       "    <tr>\n",
       "      <th>0</th>\n",
       "      <td>959.984</td>\n",
       "      <td>0</td>\n",
       "      <td>0</td>\n",
       "    </tr>\n",
       "    <tr>\n",
       "      <th>1</th>\n",
       "      <td>1799.970</td>\n",
       "      <td>0</td>\n",
       "      <td>0</td>\n",
       "    </tr>\n",
       "  </tbody>\n",
       "</table>\n",
       "</div>"
      ],
      "text/plain": [
       "      Sales  Corporate  Home Office\n",
       "0   959.984          0            0\n",
       "1  1799.970          0            0"
      ]
     },
     "execution_count": 40,
     "metadata": {},
     "output_type": "execute_result"
    }
   ],
   "source": [
    "X.head(2)"
   ]
  },
  {
   "cell_type": "code",
   "execution_count": 41,
   "metadata": {
    "ExecuteTime": {
     "end_time": "2021-12-10T01:30:40.090849Z",
     "start_time": "2021-12-10T01:30:40.062050Z"
    },
    "scrolled": false
   },
   "outputs": [
    {
     "name": "stderr",
     "output_type": "stream",
     "text": [
      "C:\\Users\\dyahn\\anaconda3\\lib\\site-packages\\statsmodels\\tsa\\tsatools.py:130: FutureWarning: In a future version of pandas all arguments of concat except for the argument 'objs' will be keyword-only\n",
      "  x = pd.concat(x[::order], 1)\n"
     ]
    },
    {
     "data": {
      "text/html": [
       "<table class=\"simpletable\">\n",
       "<caption>OLS Regression Results</caption>\n",
       "<tr>\n",
       "  <th>Dep. Variable:</th>         <td>Profit</td>      <th>  R-squared:         </th> <td>   0.886</td>\n",
       "</tr>\n",
       "<tr>\n",
       "  <th>Model:</th>                   <td>OLS</td>       <th>  Adj. R-squared:    </th> <td>   0.880</td>\n",
       "</tr>\n",
       "<tr>\n",
       "  <th>Method:</th>             <td>Least Squares</td>  <th>  F-statistic:       </th> <td>   150.7</td>\n",
       "</tr>\n",
       "<tr>\n",
       "  <th>Date:</th>             <td>Fri, 10 Dec 2021</td> <th>  Prob (F-statistic):</th> <td>2.39e-27</td>\n",
       "</tr>\n",
       "<tr>\n",
       "  <th>Time:</th>                 <td>08:30:40</td>     <th>  Log-Likelihood:    </th> <td> -396.73</td>\n",
       "</tr>\n",
       "<tr>\n",
       "  <th>No. Observations:</th>      <td>    62</td>      <th>  AIC:               </th> <td>   801.5</td>\n",
       "</tr>\n",
       "<tr>\n",
       "  <th>Df Residuals:</th>          <td>    58</td>      <th>  BIC:               </th> <td>   810.0</td>\n",
       "</tr>\n",
       "<tr>\n",
       "  <th>Df Model:</th>              <td>     3</td>      <th>                     </th>     <td> </td>   \n",
       "</tr>\n",
       "<tr>\n",
       "  <th>Covariance Type:</th>      <td>nonrobust</td>    <th>                     </th>     <td> </td>   \n",
       "</tr>\n",
       "</table>\n",
       "<table class=\"simpletable\">\n",
       "<tr>\n",
       "       <td></td>          <th>coef</th>     <th>std err</th>      <th>t</th>      <th>P>|t|</th>  <th>[0.025</th>    <th>0.975]</th>  \n",
       "</tr>\n",
       "<tr>\n",
       "  <th>const</th>       <td> -132.0709</td> <td>   35.433</td> <td>   -3.727</td> <td> 0.000</td> <td> -202.999</td> <td>  -61.143</td>\n",
       "</tr>\n",
       "<tr>\n",
       "  <th>Sales</th>       <td>    0.4179</td> <td>    0.020</td> <td>   20.585</td> <td> 0.000</td> <td>    0.377</td> <td>    0.459</td>\n",
       "</tr>\n",
       "<tr>\n",
       "  <th>Corporate</th>   <td>   44.2994</td> <td>   44.272</td> <td>    1.001</td> <td> 0.321</td> <td>  -44.320</td> <td>  132.919</td>\n",
       "</tr>\n",
       "<tr>\n",
       "  <th>Home Office</th> <td>   61.8840</td> <td>   52.981</td> <td>    1.168</td> <td> 0.248</td> <td>  -44.169</td> <td>  167.937</td>\n",
       "</tr>\n",
       "</table>\n",
       "<table class=\"simpletable\">\n",
       "<tr>\n",
       "  <th>Omnibus:</th>       <td> 2.417</td> <th>  Durbin-Watson:     </th> <td>   2.348</td>\n",
       "</tr>\n",
       "<tr>\n",
       "  <th>Prob(Omnibus):</th> <td> 0.299</td> <th>  Jarque-Bera (JB):  </th> <td>   1.779</td>\n",
       "</tr>\n",
       "<tr>\n",
       "  <th>Skew:</th>          <td>-0.404</td> <th>  Prob(JB):          </th> <td>   0.411</td>\n",
       "</tr>\n",
       "<tr>\n",
       "  <th>Kurtosis:</th>      <td> 3.189</td> <th>  Cond. No.          </th> <td>5.08e+03</td>\n",
       "</tr>\n",
       "</table><br/><br/>Warnings:<br/>[1] Standard Errors assume that the covariance matrix of the errors is correctly specified.<br/>[2] The condition number is large, 5.08e+03. This might indicate that there are<br/>strong multicollinearity or other numerical problems."
      ],
      "text/plain": [
       "<class 'statsmodels.iolib.summary.Summary'>\n",
       "\"\"\"\n",
       "                            OLS Regression Results                            \n",
       "==============================================================================\n",
       "Dep. Variable:                 Profit   R-squared:                       0.886\n",
       "Model:                            OLS   Adj. R-squared:                  0.880\n",
       "Method:                 Least Squares   F-statistic:                     150.7\n",
       "Date:                Fri, 10 Dec 2021   Prob (F-statistic):           2.39e-27\n",
       "Time:                        08:30:40   Log-Likelihood:                -396.73\n",
       "No. Observations:                  62   AIC:                             801.5\n",
       "Df Residuals:                      58   BIC:                             810.0\n",
       "Df Model:                           3                                         \n",
       "Covariance Type:            nonrobust                                         \n",
       "===============================================================================\n",
       "                  coef    std err          t      P>|t|      [0.025      0.975]\n",
       "-------------------------------------------------------------------------------\n",
       "const        -132.0709     35.433     -3.727      0.000    -202.999     -61.143\n",
       "Sales           0.4179      0.020     20.585      0.000       0.377       0.459\n",
       "Corporate      44.2994     44.272      1.001      0.321     -44.320     132.919\n",
       "Home Office    61.8840     52.981      1.168      0.248     -44.169     167.937\n",
       "==============================================================================\n",
       "Omnibus:                        2.417   Durbin-Watson:                   2.348\n",
       "Prob(Omnibus):                  0.299   Jarque-Bera (JB):                1.779\n",
       "Skew:                          -0.404   Prob(JB):                        0.411\n",
       "Kurtosis:                       3.189   Cond. No.                     5.08e+03\n",
       "==============================================================================\n",
       "\n",
       "Warnings:\n",
       "[1] Standard Errors assume that the covariance matrix of the errors is correctly specified.\n",
       "[2] The condition number is large, 5.08e+03. This might indicate that there are\n",
       "strong multicollinearity or other numerical problems.\n",
       "\"\"\""
      ]
     },
     "execution_count": 41,
     "metadata": {},
     "output_type": "execute_result"
    }
   ],
   "source": [
    "Y = copiers_new['Profit']\n",
    "X = sm.add_constant(copiers_new.drop('Profit', axis=1))\n",
    "\n",
    "lm_multiple = sm.OLS(Y, X).fit()\n",
    "lm_multiple.summary()"
   ]
  },
  {
   "cell_type": "markdown",
   "metadata": {},
   "source": [
    "**[Example]**\n",
    "\n",
    "> Terdapat category golongan darah A, AB, B, dan O\n",
    "\n",
    "> Cara menginterpretasikan model apabila memiliki lebih dari 2 kategori :\n",
    "\n",
    "> y = b0 + 1.96* gol.darahA + 0.97* gol.darahB + 1.39* gol.darahO\n",
    "\n",
    "> - slope gol.darahA = 1.96, nilai y ketika golongan darah nya adalah A sebesar **b0 + 1.96**\n",
    "> - slope gol.darahB = 0.97, nilai y ketika golongan darah nya adalah B sebesar **b0 + 0.97**\n",
    "> - slope gol.darahO = 1.39, nilai y ketika golongan darah nya adalah O sebesar **b0 + 1.39**\n",
    "> - nilai y ketika golongan darah nya adalah AB sebesar **b0 saja** (b0 + est. gol.darahA * 0 + est. gol.darahB * 0 + est. gol.darahO * 0)"
   ]
  },
  {
   "cell_type": "markdown",
   "metadata": {},
   "source": [
    "📝 **Interpretasi model:**\n",
    "\n",
    "1. Model linier regresi untuk kasus Profit prediction adalah `Profit = -132.071 + 0.418 Sales + 44.299 Segment_Corporate + 61.884 Segment_Home_Office`\n",
    "   - `Sales`: Seyiap kenaikan sales sebesar 1 USD akan meningkatkan profit sebesar 0.418\n",
    "   - `Segment_Corporate`: Nilai profit ketika segmentnya adalah Corporate maka sebesar (Profit = -132.071 + (0.418*Sales) + (44.299 * Segment_Corporate) + 0 )\n",
    "   - `Segment_Home_Office`: Nilai profit ketika segmentnya adalah Home_Office maka sebesar (Profit = -132.071 + (0.418*Sales) + (0) + (61.884 * Segment Home_Office)\n",
    "   - `Segment_Consumer` : Nilai profit ketika segmentnya adalah Consumer maka sebesar (Profit = -132.071 + (0.418*Sales) + 0 + 0)\n",
    "   - `intercept`: Nilai profit akan menjadi -132.071 ketika semua nilai prediktornya adalah 0\n",
    "2. Signifikansi prediktor (bandingkan nilai p-value dengan alpha, note: signifikan jika p-value < alpha)\n",
    "- H0 : Variable predictor tidak significant terhadap target \n",
    "- H1 : Variable predictor significant terhadap target\n",
    "\n",
    "    Variable predictor dapat dikatakan significat terhadapt target ketika p-value < 0.05 (menolak H0) :\n",
    "    Category Segment : p-value > 0.05 (gagal tolak H0 / terima H0)\n",
    "   - Sales siginificant terhadap Profit\n",
    "   - Segment tidak significant terhadap profit\n",
    "\n",
    "note: untuk prediktor kategorik, dianggap signifikan mempengaruhi target jika salah satu kategori signifikan"
   ]
  },
  {
   "cell_type": "markdown",
   "metadata": {},
   "source": [
    "### R-Squared vs. Adj. R-Squared"
   ]
  },
  {
   "cell_type": "markdown",
   "metadata": {},
   "source": [
    "Perbedaan R-Squared dan Adj. R-Squared:\n",
    "\n",
    "- **R-Squared**: Seberapa baik model menjelaskan data, dengan mengukur seberapa besar informasi (variansi) dari target dapat dijelaskan oleh prediktor. Sehingga, jelas ketika **prediktor bertambah**, informasi (variansi) yang dirangkum semakin banyak atau dengan kata lain jelas nilai **R-Squared akan meningkat**.\n",
    "- **Adj. R- Squared**: tidak demikian pada adj. r-squred, karena disesuaikan dengan jumlah prediktor yang digunakan. Adj. r-squared akan meningkat hanya jika prediktor baru yang ditambahkan mengarah pada hasil prediksi yang lebih baik (prediktor signifikan mempengaruhi target)\n",
    "\n",
    "   Formula Adj. R-Squared: $R^2_{adj} = 1-(1-R^2)\\frac{n-1}{n-p-1}$"
   ]
  },
  {
   "cell_type": "code",
   "execution_count": 42,
   "metadata": {
    "ExecuteTime": {
     "end_time": "2021-12-10T01:30:40.105979Z",
     "start_time": "2021-12-10T01:30:40.092844Z"
    }
   },
   "outputs": [
    {
     "name": "stdout",
     "output_type": "stream",
     "text": [
      "Adjusted R-Squared single linear regression:  0.8809\n",
      "Adjusted R-Squared multiple linear regression:  0.8805\n"
     ]
    }
   ],
   "source": [
    "print('Adjusted R-Squared single linear regression: ',(lm_outlier.rsquared_adj).round(4))\n",
    "print('Adjusted R-Squared multiple linear regression: ',(lm_multiple.rsquared_adj).round(4))"
   ]
  },
  {
   "cell_type": "code",
   "execution_count": 43,
   "metadata": {
    "ExecuteTime": {
     "end_time": "2021-12-10T01:30:40.121767Z",
     "start_time": "2021-12-10T01:30:40.107805Z"
    }
   },
   "outputs": [
    {
     "name": "stdout",
     "output_type": "stream",
     "text": [
      "R-Squared single linear regression:  0.8828\n",
      "R-Squared multiple linear regression:  0.8863\n"
     ]
    }
   ],
   "source": [
    "print('R-Squared single linear regression: ',(lm_outlier.rsquared).round(4))\n",
    "print('R-Squared multiple linear regression: ',(lm_multiple.rsquared).round(4))"
   ]
  },
  {
   "cell_type": "markdown",
   "metadata": {},
   "source": [
    "#### Membuat model multiple linear regression ke-2"
   ]
  },
  {
   "cell_type": "code",
   "execution_count": 44,
   "metadata": {
    "ExecuteTime": {
     "end_time": "2021-12-10T01:30:40.136801Z",
     "start_time": "2021-12-10T01:30:40.123762Z"
    }
   },
   "outputs": [
    {
     "data": {
      "text/html": [
       "<div>\n",
       "<style scoped>\n",
       "    .dataframe tbody tr th:only-of-type {\n",
       "        vertical-align: middle;\n",
       "    }\n",
       "\n",
       "    .dataframe tbody tr th {\n",
       "        vertical-align: top;\n",
       "    }\n",
       "\n",
       "    .dataframe thead th {\n",
       "        text-align: right;\n",
       "    }\n",
       "</style>\n",
       "<table border=\"1\" class=\"dataframe\">\n",
       "  <thead>\n",
       "    <tr style=\"text-align: right;\">\n",
       "      <th></th>\n",
       "      <th>Sales</th>\n",
       "      <th>Quantity</th>\n",
       "      <th>Profit</th>\n",
       "    </tr>\n",
       "  </thead>\n",
       "  <tbody>\n",
       "    <tr>\n",
       "      <th>0</th>\n",
       "      <td>959.984</td>\n",
       "      <td>2</td>\n",
       "      <td>335.9944</td>\n",
       "    </tr>\n",
       "    <tr>\n",
       "      <th>1</th>\n",
       "      <td>1799.970</td>\n",
       "      <td>3</td>\n",
       "      <td>701.9883</td>\n",
       "    </tr>\n",
       "  </tbody>\n",
       "</table>\n",
       "</div>"
      ],
      "text/plain": [
       "      Sales  Quantity    Profit\n",
       "0   959.984         2  335.9944\n",
       "1  1799.970         3  701.9883"
      ]
     },
     "execution_count": 44,
     "metadata": {},
     "output_type": "execute_result"
    }
   ],
   "source": [
    "copiers_new_update = copiers[['Sales', 'Quantity', 'Profit']]\n",
    "copiers_new_update.head(2)"
   ]
  },
  {
   "cell_type": "code",
   "execution_count": 45,
   "metadata": {
    "ExecuteTime": {
     "end_time": "2021-12-10T01:30:40.167720Z",
     "start_time": "2021-12-10T01:30:40.138963Z"
    },
    "scrolled": false
   },
   "outputs": [
    {
     "name": "stderr",
     "output_type": "stream",
     "text": [
      "C:\\Users\\dyahn\\anaconda3\\lib\\site-packages\\statsmodels\\tsa\\tsatools.py:130: FutureWarning: In a future version of pandas all arguments of concat except for the argument 'objs' will be keyword-only\n",
      "  x = pd.concat(x[::order], 1)\n"
     ]
    },
    {
     "data": {
      "text/html": [
       "<table class=\"simpletable\">\n",
       "<caption>OLS Regression Results</caption>\n",
       "<tr>\n",
       "  <th>Dep. Variable:</th>         <td>Profit</td>      <th>  R-squared:         </th> <td>   0.894</td>\n",
       "</tr>\n",
       "<tr>\n",
       "  <th>Model:</th>                   <td>OLS</td>       <th>  Adj. R-squared:    </th> <td>   0.890</td>\n",
       "</tr>\n",
       "<tr>\n",
       "  <th>Method:</th>             <td>Least Squares</td>  <th>  F-statistic:       </th> <td>   248.8</td>\n",
       "</tr>\n",
       "<tr>\n",
       "  <th>Date:</th>             <td>Fri, 10 Dec 2021</td> <th>  Prob (F-statistic):</th> <td>1.77e-29</td>\n",
       "</tr>\n",
       "<tr>\n",
       "  <th>Time:</th>                 <td>08:30:40</td>     <th>  Log-Likelihood:    </th> <td> -394.57</td>\n",
       "</tr>\n",
       "<tr>\n",
       "  <th>No. Observations:</th>      <td>    62</td>      <th>  AIC:               </th> <td>   795.1</td>\n",
       "</tr>\n",
       "<tr>\n",
       "  <th>Df Residuals:</th>          <td>    59</td>      <th>  BIC:               </th> <td>   801.5</td>\n",
       "</tr>\n",
       "<tr>\n",
       "  <th>Df Model:</th>              <td>     2</td>      <th>                     </th>     <td> </td>   \n",
       "</tr>\n",
       "<tr>\n",
       "  <th>Covariance Type:</th>      <td>nonrobust</td>    <th>                     </th>     <td> </td>   \n",
       "</tr>\n",
       "</table>\n",
       "<table class=\"simpletable\">\n",
       "<tr>\n",
       "      <td></td>        <th>coef</th>     <th>std err</th>      <th>t</th>      <th>P>|t|</th>  <th>[0.025</th>    <th>0.975]</th>  \n",
       "</tr>\n",
       "<tr>\n",
       "  <th>const</th>    <td>  -54.6342</td> <td>   39.326</td> <td>   -1.389</td> <td> 0.170</td> <td> -133.324</td> <td>   24.056</td>\n",
       "</tr>\n",
       "<tr>\n",
       "  <th>Sales</th>    <td>    0.4859</td> <td>    0.032</td> <td>   15.351</td> <td> 0.000</td> <td>    0.423</td> <td>    0.549</td>\n",
       "</tr>\n",
       "<tr>\n",
       "  <th>Quantity</th> <td>  -43.3435</td> <td>   17.371</td> <td>   -2.495</td> <td> 0.015</td> <td>  -78.102</td> <td>   -8.585</td>\n",
       "</tr>\n",
       "</table>\n",
       "<table class=\"simpletable\">\n",
       "<tr>\n",
       "  <th>Omnibus:</th>       <td> 2.232</td> <th>  Durbin-Watson:     </th> <td>   2.435</td>\n",
       "</tr>\n",
       "<tr>\n",
       "  <th>Prob(Omnibus):</th> <td> 0.328</td> <th>  Jarque-Bera (JB):  </th> <td>   1.543</td>\n",
       "</tr>\n",
       "<tr>\n",
       "  <th>Skew:</th>          <td>-0.127</td> <th>  Prob(JB):          </th> <td>   0.462</td>\n",
       "</tr>\n",
       "<tr>\n",
       "  <th>Kurtosis:</th>      <td> 3.730</td> <th>  Cond. No.          </th> <td>3.67e+03</td>\n",
       "</tr>\n",
       "</table><br/><br/>Warnings:<br/>[1] Standard Errors assume that the covariance matrix of the errors is correctly specified.<br/>[2] The condition number is large, 3.67e+03. This might indicate that there are<br/>strong multicollinearity or other numerical problems."
      ],
      "text/plain": [
       "<class 'statsmodels.iolib.summary.Summary'>\n",
       "\"\"\"\n",
       "                            OLS Regression Results                            \n",
       "==============================================================================\n",
       "Dep. Variable:                 Profit   R-squared:                       0.894\n",
       "Model:                            OLS   Adj. R-squared:                  0.890\n",
       "Method:                 Least Squares   F-statistic:                     248.8\n",
       "Date:                Fri, 10 Dec 2021   Prob (F-statistic):           1.77e-29\n",
       "Time:                        08:30:40   Log-Likelihood:                -394.57\n",
       "No. Observations:                  62   AIC:                             795.1\n",
       "Df Residuals:                      59   BIC:                             801.5\n",
       "Df Model:                           2                                         \n",
       "Covariance Type:            nonrobust                                         \n",
       "==============================================================================\n",
       "                 coef    std err          t      P>|t|      [0.025      0.975]\n",
       "------------------------------------------------------------------------------\n",
       "const        -54.6342     39.326     -1.389      0.170    -133.324      24.056\n",
       "Sales          0.4859      0.032     15.351      0.000       0.423       0.549\n",
       "Quantity     -43.3435     17.371     -2.495      0.015     -78.102      -8.585\n",
       "==============================================================================\n",
       "Omnibus:                        2.232   Durbin-Watson:                   2.435\n",
       "Prob(Omnibus):                  0.328   Jarque-Bera (JB):                1.543\n",
       "Skew:                          -0.127   Prob(JB):                        0.462\n",
       "Kurtosis:                       3.730   Cond. No.                     3.67e+03\n",
       "==============================================================================\n",
       "\n",
       "Warnings:\n",
       "[1] Standard Errors assume that the covariance matrix of the errors is correctly specified.\n",
       "[2] The condition number is large, 3.67e+03. This might indicate that there are\n",
       "strong multicollinearity or other numerical problems.\n",
       "\"\"\""
      ]
     },
     "execution_count": 45,
     "metadata": {},
     "output_type": "execute_result"
    }
   ],
   "source": [
    "Y = copiers_new_update['Profit']\n",
    "X = sm.add_constant(copiers_new_update.drop('Profit', axis=1))\n",
    "\n",
    "lm_multiple_new = sm.OLS(Y, X).fit()\n",
    "lm_multiple_new.summary()"
   ]
  },
  {
   "cell_type": "code",
   "execution_count": 46,
   "metadata": {
    "ExecuteTime": {
     "end_time": "2021-12-10T01:30:40.182680Z",
     "start_time": "2021-12-10T01:30:40.169641Z"
    }
   },
   "outputs": [
    {
     "name": "stdout",
     "output_type": "stream",
     "text": [
      "R-Squared multiple linear regression update:  0.894\n",
      "R-Squared multiple linear regression:  0.8863\n",
      "Adjusted R-Squared multiple linear regression update:  0.8904\n",
      "Adjusted R-Squared multiple linear regression:  0.8805\n"
     ]
    }
   ],
   "source": [
    "print('R-Squared multiple linear regression update: ',(lm_multiple_new.rsquared).round(4))\n",
    "print('R-Squared multiple linear regression: ',(lm_multiple.rsquared).round(4))\n",
    "\n",
    "print('Adjusted R-Squared multiple linear regression update: ',(lm_multiple_new.rsquared_adj).round(4))\n",
    "print('Adjusted R-Squared multiple linear regression: ',(lm_multiple.rsquared_adj).round(4))"
   ]
  },
  {
   "cell_type": "markdown",
   "metadata": {},
   "source": [
    "### Predicting"
   ]
  },
  {
   "cell_type": "code",
   "execution_count": 47,
   "metadata": {
    "ExecuteTime": {
     "end_time": "2021-12-10T01:30:40.197826Z",
     "start_time": "2021-12-10T01:30:40.184635Z"
    }
   },
   "outputs": [
    {
     "data": {
      "text/html": [
       "<div>\n",
       "<style scoped>\n",
       "    .dataframe tbody tr th:only-of-type {\n",
       "        vertical-align: middle;\n",
       "    }\n",
       "\n",
       "    .dataframe tbody tr th {\n",
       "        vertical-align: top;\n",
       "    }\n",
       "\n",
       "    .dataframe thead th {\n",
       "        text-align: right;\n",
       "    }\n",
       "</style>\n",
       "<table border=\"1\" class=\"dataframe\">\n",
       "  <thead>\n",
       "    <tr style=\"text-align: right;\">\n",
       "      <th></th>\n",
       "      <th>actual</th>\n",
       "      <th>pred_model</th>\n",
       "      <th>pred_model_update</th>\n",
       "    </tr>\n",
       "  </thead>\n",
       "  <tbody>\n",
       "    <tr>\n",
       "      <th>0</th>\n",
       "      <td>335.9944</td>\n",
       "      <td>269.145351</td>\n",
       "      <td>325.113844</td>\n",
       "    </tr>\n",
       "    <tr>\n",
       "      <th>1</th>\n",
       "      <td>701.9883</td>\n",
       "      <td>620.209584</td>\n",
       "      <td>689.901044</td>\n",
       "    </tr>\n",
       "    <tr>\n",
       "      <th>2</th>\n",
       "      <td>434.9913</td>\n",
       "      <td>369.447746</td>\n",
       "      <td>398.377157</td>\n",
       "    </tr>\n",
       "    <tr>\n",
       "      <th>3</th>\n",
       "      <td>1379.9770</td>\n",
       "      <td>1183.613946</td>\n",
       "      <td>1186.257890</td>\n",
       "    </tr>\n",
       "    <tr>\n",
       "      <th>4</th>\n",
       "      <td>434.9913</td>\n",
       "      <td>369.447746</td>\n",
       "      <td>398.377157</td>\n",
       "    </tr>\n",
       "  </tbody>\n",
       "</table>\n",
       "</div>"
      ],
      "text/plain": [
       "      actual   pred_model  pred_model_update\n",
       "0   335.9944   269.145351         325.113844\n",
       "1   701.9883   620.209584         689.901044\n",
       "2   434.9913   369.447746         398.377157\n",
       "3  1379.9770  1183.613946        1186.257890\n",
       "4   434.9913   369.447746         398.377157"
      ]
     },
     "execution_count": 47,
     "metadata": {},
     "output_type": "execute_result"
    }
   ],
   "source": [
    "pred_model = lm_multiple.fittedvalues \n",
    "\n",
    "pred_model_update = lm_multiple_new.fittedvalues\n",
    "\n",
    "prediction = pd.DataFrame({\n",
    "    'actual': copiers['Profit'],\n",
    "    'pred_model': pred_model, # ketika segment terlibat dalam model\n",
    "    'pred_model_update': pred_model_update # ketika melibatkan quantity dan menghapus segment\n",
    "})\n",
    "prediction.head()"
   ]
  },
  {
   "cell_type": "markdown",
   "metadata": {},
   "source": [
    "### Evaluation"
   ]
  },
  {
   "cell_type": "code",
   "execution_count": 48,
   "metadata": {
    "ExecuteTime": {
     "end_time": "2021-12-10T01:30:40.213573Z",
     "start_time": "2021-12-10T01:30:40.200557Z"
    }
   },
   "outputs": [],
   "source": [
    "from statsmodels.tools.eval_measures import rmse\n",
    "from statsmodels.tools.eval_measures import meanabs\n",
    "\n",
    "rmse_multiple1 = rmse(prediction['actual'], prediction['pred_model'])\n",
    "rmse_multiple2 = rmse(prediction['actual'], prediction['pred_model_update'])\n",
    "mae_multiple1 = meanabs(prediction['actual'], prediction['pred_model'])\n",
    "mae_multiple2 = meanabs(prediction['actual'], prediction['pred_model_update'])"
   ]
  },
  {
   "cell_type": "code",
   "execution_count": 49,
   "metadata": {
    "ExecuteTime": {
     "end_time": "2021-12-10T01:30:40.229045Z",
     "start_time": "2021-12-10T01:30:40.216515Z"
    }
   },
   "outputs": [
    {
     "data": {
      "text/html": [
       "<div>\n",
       "<style scoped>\n",
       "    .dataframe tbody tr th:only-of-type {\n",
       "        vertical-align: middle;\n",
       "    }\n",
       "\n",
       "    .dataframe tbody tr th {\n",
       "        vertical-align: top;\n",
       "    }\n",
       "\n",
       "    .dataframe thead th {\n",
       "        text-align: right;\n",
       "    }\n",
       "</style>\n",
       "<table border=\"1\" class=\"dataframe\">\n",
       "  <thead>\n",
       "    <tr style=\"text-align: right;\">\n",
       "      <th></th>\n",
       "      <th>model</th>\n",
       "      <th>rmse</th>\n",
       "      <th>mae</th>\n",
       "    </tr>\n",
       "  </thead>\n",
       "  <tbody>\n",
       "    <tr>\n",
       "      <th>0</th>\n",
       "      <td>lm_multiple</td>\n",
       "      <td>145.46320</td>\n",
       "      <td>113.556058</td>\n",
       "    </tr>\n",
       "    <tr>\n",
       "      <th>1</th>\n",
       "      <td>lm_multiple_new</td>\n",
       "      <td>140.47366</td>\n",
       "      <td>101.275693</td>\n",
       "    </tr>\n",
       "  </tbody>\n",
       "</table>\n",
       "</div>"
      ],
      "text/plain": [
       "             model       rmse         mae\n",
       "0      lm_multiple  145.46320  113.556058\n",
       "1  lm_multiple_new  140.47366  101.275693"
      ]
     },
     "execution_count": 49,
     "metadata": {},
     "output_type": "execute_result"
    }
   ],
   "source": [
    "pd.DataFrame({\n",
    "    'model': ['lm_multiple', 'lm_multiple_new'],\n",
    "    'rmse': [rmse_multiple1, rmse_multiple2],\n",
    "    'mae': [mae_multiple1, mae_multiple2]\n",
    "})"
   ]
  },
  {
   "cell_type": "markdown",
   "metadata": {},
   "source": [
    "**SUMMARY OF DAY 2 :**\n",
    "\n",
    "1. Model evaluation yang terdapat pada Linear Regression adalah :\n",
    "    - RMSE (Root Mean Squared Error) : cocok digunakan untuk data yang memiliki outlier\n",
    "    - MAE (Mean Absolout Error) : bisa digunakan ketika data kita tidak memiliki outlier\n",
    "\n",
    "2. Multiple Linear Regression \n",
    "    - Mengubah data yang bersifat categorical kedalam bentuk numerical\n",
    "    - Bisa menggunakan one hot encoding / dummy variable. Disarankan menggunakan dummy variable ( kolom yang terbentuk n-1 ) dikarenakan one hot encoding akan menyebabkan multicolinearity (hubungan yang kuat antara variable predictor)\n",
    "    - R-Squared dan Adj. R-Squared :\n",
    "        - R-Squared : berapa % variansi variable target yang dijelaskan oleh predictor yang terlibat. Semakin banyak variable predictor maka R-Squared semakin meningkat\n",
    "        - Adj. R-Squared : Akan meningkat ketika variable predictor significant terhadap variable target, sedangkan ketika variable predictor tidak significant bisa jadi nilai Adj.R-Squared turun atau tetap.\n",
    "\n",
    "**END OF DAY 2**\n",
    "\n",
    "---\n",
    "\n",
    "**START OF DAY 3**"
   ]
  },
  {
   "cell_type": "markdown",
   "metadata": {},
   "source": [
    "# Assumption Checking\n",
    "\n",
    "Limitasi dari pemodelan linear regresi adalah terdapat beberapa asumsi yang perlu dipenuhi agar model linear regresi dikatakan model yang baik. \n",
    "Pendekatan Ordinary Least Square/Linear Regression dikatakan BLUE (Best Linear Unbiased Estimator) ketika memenuhi beberapa uji asumsi berikut:\n",
    "1. **Linearity**: antara x dan y nya ada hubungan linear  \n",
    "    - Bisa dilihat dari R-squared model, jika R-squared kecil, maka kemungkinan antara prediktor dan target, tidak ada hubungan linear\n",
    "2. **Normality of Residual**: Residual nya berdistribusi normal \n",
    "    - Saat berdistribusi normal, error berada di sekitar 0\n",
    "3. **No-Heteroscedasticity**: Variansi residual konstan (tidak membentuk sebuah pola)  \n",
    "4. **Little to No-Multicollinearity**: antar variabel prediktor nya harus independence (tidak mempunyai hubungan)  \n"
   ]
  },
  {
   "cell_type": "markdown",
   "metadata": {},
   "source": [
    "## Linearity\n",
    "\n",
    "**Dilakukan sebelum membuat model**. Untuk menguji apakah variabel target dan prediktor memiliki hubungan linear. Dapat dilihat dengan nilai korelasi. \n",
    "\n",
    "pearson correlation = $$r =  \\frac{{}\\sum_{i=1}^{n} (x_i - \\overline{x})(y_i - \\overline{y})}\n",
    "{\\sqrt{\\sum_{i=1}^{n} (x_i - \\overline{x})^2(y_i - \\overline{y})^2}}$$\n",
    "\n",
    "\n",
    "Linearity artinya target variabel dengan prediktornya memiliki hubungan yang linear atau hubungannya bersifat garis lurus. Selain itu, efek atau nilai koefisien antar variabel bersifat additive. Jika linearity ini tidak terpenuhi, maka otomatis semua nilai koefisien yang kita dapatkan tidak valid karena model berasumsi bahwa pola yang akan kita buat adalah linear."
   ]
  },
  {
   "cell_type": "code",
   "execution_count": 50,
   "metadata": {
    "ExecuteTime": {
     "end_time": "2021-12-10T02:27:18.418830Z",
     "start_time": "2021-12-10T02:27:18.349806Z"
    }
   },
   "outputs": [
    {
     "data": {
      "text/html": [
       "<div>\n",
       "<style scoped>\n",
       "    .dataframe tbody tr th:only-of-type {\n",
       "        vertical-align: middle;\n",
       "    }\n",
       "\n",
       "    .dataframe tbody tr th {\n",
       "        vertical-align: top;\n",
       "    }\n",
       "\n",
       "    .dataframe thead th {\n",
       "        text-align: right;\n",
       "    }\n",
       "</style>\n",
       "<table border=\"1\" class=\"dataframe\">\n",
       "  <thead>\n",
       "    <tr style=\"text-align: right;\">\n",
       "      <th></th>\n",
       "      <th>Sales</th>\n",
       "      <th>Quantity</th>\n",
       "      <th>Profit</th>\n",
       "    </tr>\n",
       "  </thead>\n",
       "  <tbody>\n",
       "    <tr>\n",
       "      <th>Sales</th>\n",
       "      <td>1.000000</td>\n",
       "      <td>0.797954</td>\n",
       "      <td>0.939578</td>\n",
       "    </tr>\n",
       "    <tr>\n",
       "      <th>Quantity</th>\n",
       "      <td>0.797954</td>\n",
       "      <td>1.000000</td>\n",
       "      <td>0.685993</td>\n",
       "    </tr>\n",
       "    <tr>\n",
       "      <th>Profit</th>\n",
       "      <td>0.939578</td>\n",
       "      <td>0.685993</td>\n",
       "      <td>1.000000</td>\n",
       "    </tr>\n",
       "  </tbody>\n",
       "</table>\n",
       "</div>"
      ],
      "text/plain": [
       "             Sales  Quantity    Profit\n",
       "Sales     1.000000  0.797954  0.939578\n",
       "Quantity  0.797954  1.000000  0.685993\n",
       "Profit    0.939578  0.685993  1.000000"
      ]
     },
     "execution_count": 50,
     "metadata": {},
     "output_type": "execute_result"
    }
   ],
   "source": [
    "copiers_new_update.corr()"
   ]
  },
  {
   "cell_type": "markdown",
   "metadata": {
    "ExecuteTime": {
     "end_time": "2021-12-01T08:22:31.479014Z",
     "start_time": "2021-12-01T08:22:31.397691Z"
    }
   },
   "source": [
    "Selain menggunakan method `corr()`, kita bisa melihatnya berdasarkan visualisasi."
   ]
  },
  {
   "cell_type": "code",
   "execution_count": 51,
   "metadata": {
    "ExecuteTime": {
     "end_time": "2021-12-10T02:28:09.221771Z",
     "start_time": "2021-12-10T02:28:08.852004Z"
    },
    "scrolled": true
   },
   "outputs": [
    {
     "data": {
      "text/plain": [
       "Text(0.5, 1.0, 'Correlation Heatmap')"
      ]
     },
     "execution_count": 51,
     "metadata": {},
     "output_type": "execute_result"
    },
    {
     "data": {
      "image/png": "[encoded data removed]",
      "text/plain": [
       "<Figure size 432x288 with 2 Axes>"
      ]
     },
     "metadata": {
      "needs_background": "light"
     },
     "output_type": "display_data"
    }
   ],
   "source": [
    "import seaborn as sns\n",
    "heatmap = sns.heatmap(copiers_new_update.corr(), cmap='RdBu_r', vmin=-1, vmax=1, annot=True)\n",
    "heatmap.set_title('Correlation Heatmap', fontdict={'fontsize':12}, pad=12)"
   ]
  },
  {
   "cell_type": "code",
   "execution_count": 1,
   "metadata": {
    "ExecuteTime": {
     "end_time": "2021-12-10T02:29:10.444829Z",
     "start_time": "2021-12-10T02:29:10.252202Z"
    },
    "scrolled": true
   },
   "outputs": [
    {
     "ename": "NameError",
     "evalue": "name 'linearity_test' is not defined",
     "output_type": "error",
     "traceback": [
      "\u001b[1;31m---------------------------------------------------------------------------\u001b[0m",
      "\u001b[1;31mNameError\u001b[0m                                 Traceback (most recent call last)",
      "\u001b[1;32m<ipython-input-1-32d1f8dae454>\u001b[0m in \u001b[0;36m<module>\u001b[1;34m\u001b[0m\n\u001b[1;32m----> 1\u001b[1;33m \u001b[0mlinearity_test\u001b[0m\u001b[1;33m(\u001b[0m\u001b[0mlm_multiple_new\u001b[0m\u001b[1;33m,\u001b[0m \u001b[0mY\u001b[0m\u001b[1;33m)\u001b[0m\u001b[1;33m\u001b[0m\u001b[1;33m\u001b[0m\u001b[0m\n\u001b[0m",
      "\u001b[1;31mNameError\u001b[0m: name 'linearity_test' is not defined"
     ]
    }
   ],
   "source": [
    "linearity_test(lm_multiple_new, Y)"
   ]
  },
  {
   "cell_type": "markdown",
   "metadata": {},
   "source": [
    "Bagaimana apabila ada yang tidak linear?\n",
    "\n",
    "1. Exclude variable tersebut dalam model\n",
    "2. Apabila mayoritas variable predictor tidak linear, maka bisa mengganti model."
   ]
  },
  {
   "cell_type": "markdown",
   "metadata": {},
   "source": [
    "## Normality of Residual\n",
    "\n",
    "Harapannya ketika membuat model linear regression, error yang dihasilkan berdistribusi normal. Artinya error banyak berkumpul disekitar angka 0. Untuk mengecek residual menyebar normal, pengujian yang paling sering dilakukan adalah Shapiro test:\n",
    "- $H_0$: Residual berdistribusi normal\n",
    "- $H_1$: Residual tidak berdistribusi normal\n",
    "\n",
    "> Recall materi practical statistics, apabila kita ingin mendapat kesimpulan residual homogen (tidak membentuk pola) maka **p-value yang kita dapatkan harus lebih besar dari pada alpha.**\n",
    "\n",
    "Jika asumsi normalitas tidak terpenuhi, maka hasil uji signifikansi serta nilai standard error dari intercept dan slope setiap prediktor yang dihasilkan bersifat bias atau tidak mencerminkan nilai sebenarnya. Jika residual memiliki distribusi yang tidak normal, bisa lakukan **transformasi/scaling data pada target variabel** atau **menambahkan sample data**."
   ]
  },
  {
   "cell_type": "code",
   "execution_count": 53,
   "metadata": {
    "ExecuteTime": {
     "end_time": "2021-12-10T02:41:29.335719Z",
     "start_time": "2021-12-10T02:41:29.302144Z"
    }
   },
   "outputs": [
    {
     "data": {
      "text/html": [
       "<div>\n",
       "<style scoped>\n",
       "    .dataframe tbody tr th:only-of-type {\n",
       "        vertical-align: middle;\n",
       "    }\n",
       "\n",
       "    .dataframe tbody tr th {\n",
       "        vertical-align: top;\n",
       "    }\n",
       "\n",
       "    .dataframe thead th {\n",
       "        text-align: right;\n",
       "    }\n",
       "</style>\n",
       "<table border=\"1\" class=\"dataframe\">\n",
       "  <thead>\n",
       "    <tr style=\"text-align: right;\">\n",
       "      <th></th>\n",
       "      <th>Prediction</th>\n",
       "      <th>Actual</th>\n",
       "      <th>Residual</th>\n",
       "    </tr>\n",
       "  </thead>\n",
       "  <tbody>\n",
       "    <tr>\n",
       "      <th>0</th>\n",
       "      <td>325.113844</td>\n",
       "      <td>335.9944</td>\n",
       "      <td>10.880556</td>\n",
       "    </tr>\n",
       "    <tr>\n",
       "      <th>1</th>\n",
       "      <td>689.901044</td>\n",
       "      <td>701.9883</td>\n",
       "      <td>12.087256</td>\n",
       "    </tr>\n",
       "    <tr>\n",
       "      <th>2</th>\n",
       "      <td>398.377157</td>\n",
       "      <td>434.9913</td>\n",
       "      <td>36.614143</td>\n",
       "    </tr>\n",
       "    <tr>\n",
       "      <th>3</th>\n",
       "      <td>1186.257890</td>\n",
       "      <td>1379.9770</td>\n",
       "      <td>193.719110</td>\n",
       "    </tr>\n",
       "    <tr>\n",
       "      <th>4</th>\n",
       "      <td>398.377157</td>\n",
       "      <td>434.9913</td>\n",
       "      <td>36.614143</td>\n",
       "    </tr>\n",
       "  </tbody>\n",
       "</table>\n",
       "</div>"
      ],
      "text/plain": [
       "    Prediction     Actual    Residual\n",
       "0   325.113844   335.9944   10.880556\n",
       "1   689.901044   701.9883   12.087256\n",
       "2   398.377157   434.9913   36.614143\n",
       "3  1186.257890  1379.9770  193.719110\n",
       "4   398.377157   434.9913   36.614143"
      ]
     },
     "execution_count": 53,
     "metadata": {},
     "output_type": "execute_result"
    }
   ],
   "source": [
    "pd.DataFrame({\n",
    "    'Prediction': lm_multiple_new.fittedvalues,\n",
    "    'Actual': copiers_new_update['Profit'],\n",
    "    'Residual': lm_multiple_new.resid\n",
    "}).head()"
   ]
  },
  {
   "cell_type": "markdown",
   "metadata": {},
   "source": [
    "Untuk melakukan pengujian asumsi normality of residual bisa menggunakan visualisasi histogram."
   ]
  },
  {
   "cell_type": "code",
   "execution_count": 54,
   "metadata": {
    "ExecuteTime": {
     "end_time": "2021-12-10T02:41:47.743166Z",
     "start_time": "2021-12-10T02:41:47.535873Z"
    },
    "scrolled": true
   },
   "outputs": [
    {
     "data": {
      "text/plain": [
       "<AxesSubplot:>"
      ]
     },
     "execution_count": 54,
     "metadata": {},
     "output_type": "execute_result"
    },
    {
     "data": {
      "image/png": "[encoded data removed]",
      "text/plain": [
       "<Figure size 432x288 with 1 Axes>"
      ]
     },
     "metadata": {
      "needs_background": "light"
     },
     "output_type": "display_data"
    }
   ],
   "source": [
    "lm_multiple_new.resid.hist()"
   ]
  },
  {
   "cell_type": "markdown",
   "metadata": {},
   "source": [
    "Selain itu bisa juga menggunakan pengujian statistik yaitu **Shapiro Test**."
   ]
  },
  {
   "cell_type": "code",
   "execution_count": 55,
   "metadata": {
    "ExecuteTime": {
     "end_time": "2021-12-10T02:42:23.665312Z",
     "start_time": "2021-12-10T02:42:23.648989Z"
    }
   },
   "outputs": [
    {
     "data": {
      "text/plain": [
       "ShapiroResult(statistic=0.9664881825447083, pvalue=0.08819911628961563)"
      ]
     },
     "execution_count": 55,
     "metadata": {},
     "output_type": "execute_result"
    }
   ],
   "source": [
    "from scipy.stats import shapiro\n",
    "\n",
    "shapiro(lm_multiple_new.resid)"
   ]
  },
  {
   "cell_type": "markdown",
   "metadata": {},
   "source": [
    "nilai p-value adalah 0.088 > alpha (0.05) -> Gagal tolak H0 / Terima H0 -> Residualnya terdistribusi normal."
   ]
  },
  {
   "cell_type": "markdown",
   "metadata": {},
   "source": [
    "Nilai p-value yang kita harapkan pada uji shapiro test yaitu **p-value > alpha**."
   ]
  },
  {
   "cell_type": "code",
   "execution_count": null,
   "metadata": {
    "ExecuteTime": {
     "end_time": "2021-12-09T06:47:21.927517Z",
     "start_time": "2021-12-09T06:47:21.901176Z"
    }
   },
   "outputs": [],
   "source": [
    "name = {0 : 'Statistics',\n",
    "       1: 'p-value'}\n",
    "\n",
    "pd.DataFrame({shapiro(lm_multiple_new.resid)}).rename(columns = name)"
   ]
  },
  {
   "cell_type": "markdown",
   "metadata": {},
   "source": [
    "Handling asumsi yang tidak terpenuhi untuk normality of residuals yaitu dengan cara:\n",
    "- menambahkan data\n",
    "- take out outlier -> kalau ada nilai outlier\n",
    "- transformasi pada target varibel (y) -> dengan nilai log"
   ]
  },
  {
   "cell_type": "markdown",
   "metadata": {},
   "source": [
    "## No Heteroscedasticity (Homoscedasticity)\n",
    "\n",
    "Homocesdasticity menunjukkan bahwa residual atau error bersifat konstan atau tidak membentuk pola tertentu. Jika error membentuk pola tertentu seperti garis linear atau mengerucut, maka kita sebut dengan `Heterocesdasticity` dan akan berpengaruh pada nilai standard error pada estimate/koefisien prediktor yan bias (terlalu sempit atau terlalu lebar).\n",
    "\n",
    "Homocesdasticity bisa dicek secara visual dengan melihat apakah ada pola antara hasil prediksi dari data dengan nilai residualnya. Pada plot berikut terlihat bahwa tidak terdapat pola tertentu sehingga kita bisa menyimpulkan bahwa model sudah memiliki error yang konstan.\n",
    "\n",
    "Berikut adalah beberapa pola yang dapat terbentuk dan menyebabkan `Heteroscesdasticity`.\n",
    "\n",
    "![](assets/heteroscedasticity.png)"
   ]
  },
  {
   "cell_type": "markdown",
   "metadata": {},
   "source": [
    "Pada `lm_multiple_new` yang kita miliki, kita bisa memvisualisasikan sebaran dari residual yang ada dengan menggunakan scatter plot."
   ]
  },
  {
   "cell_type": "code",
   "execution_count": 57,
   "metadata": {
    "ExecuteTime": {
     "end_time": "2021-12-10T02:50:19.976699Z",
     "start_time": "2021-12-10T02:50:19.775044Z"
    }
   },
   "outputs": [
    {
     "data": {
      "text/plain": [
       "Text(0.5, 0, 'Nilai Prediksi')"
      ]
     },
     "execution_count": 57,
     "metadata": {},
     "output_type": "execute_result"
    },
    {
     "data": {
      "image/png": "[encoded data removed]",
      "text/plain": [
       "<Figure size 432x288 with 1 Axes>"
      ]
     },
     "metadata": {
      "needs_background": "light"
     },
     "output_type": "display_data"
    }
   ],
   "source": [
    "plt.scatter(y = lm_multiple_new.resid, x = lm_multiple_new.fittedvalues)\n",
    "plt.axhline(y = 0, color = 'r')\n",
    "plt.ylabel('Residual')\n",
    "plt.xlabel('Nilai Prediksi')"
   ]
  },
  {
   "cell_type": "markdown",
   "metadata": {},
   "source": [
    "Untuk mengecek terjadinya heteroscedasticity kita dapat menggunakan Breusch-Pagan test:\n",
    "- $H_0$: residual homogen(tidak membentuk sebuah pola/acak)\n",
    "- $H_1$: residual heteros (membentuk sebuah pola)\n",
    "\n",
    "> Recall materi practical statistics, apabila kita ingin mendapat kesimpulan residual homogen (tidak membentuk pola) maka **p-value yang kita dapatkan harus lebih besar dari pada alpha**.\n",
    "\n",
    "Kita bisa menggunakan method `het_breuschpagan()` dari library `statsmodels`."
   ]
  },
  {
   "cell_type": "code",
   "execution_count": 58,
   "metadata": {
    "ExecuteTime": {
     "end_time": "2021-12-10T02:52:08.252175Z",
     "start_time": "2021-12-10T02:52:08.230564Z"
    }
   },
   "outputs": [
    {
     "data": {
      "text/plain": [
       "[('Lagrange multiplier statistics', 23.92905956297605),\n",
       " ('p-value', 6.3660601438097795e-06),\n",
       " ('f-value', 18.541891768486476),\n",
       " ('f p-value', 5.648804012055128e-07)]"
      ]
     },
     "execution_count": 58,
     "metadata": {},
     "output_type": "execute_result"
    }
   ],
   "source": [
    "from statsmodels.compat import lzip\n",
    "import statsmodels.stats.api as sms\n",
    "\n",
    "name = ['Lagrange multiplier statistics', 'p-value', 'f-value', 'f p-value']\n",
    "\n",
    "test = sms.het_breuschpagan(lm_multiple_new.resid, lm_multiple_new.model.exog)\n",
    "lzip(name, test)"
   ]
  },
  {
   "cell_type": "markdown",
   "metadata": {},
   "source": [
    "p-value < alpha : Error tidak homogen, cenderung membentuk pola."
   ]
  },
  {
   "cell_type": "markdown",
   "metadata": {},
   "source": [
    "Cara untuk mengatasi heteroscedasticity :\n",
    "\n",
    "1. Menambahkan variable predictor \n",
    "2. Menambah jumlah data\n",
    "3. log transformasi -> predictor\n",
    "4. Mengganti model dengan Random Forest (tree based model)"
   ]
  },
  {
   "cell_type": "markdown",
   "metadata": {},
   "source": [
    "## Little to No Multicolinearity\n",
    "\n",
    "Harapannya pada model linear regression, tidak terjadi multikolinearitas. Multikolinearitas terjadi ketika antar variabel prediktor yang digunakan pada model memiliki hubungan yang kuat. Ada atau tidak multikolinearitas dapat dilihat dari nilai VIF(Variance Inflation Factor). \n",
    "\n",
    "VIF formula :\n",
    "\n",
    "$$VIF =  \\frac{1}{1-R^2_i}$$\n",
    "\n",
    "dimana $R^2$ merupakan nilai r-squared pada setiap prediktor $i$. VIF nilainya dari 1 sampai dengan tak hingga. **Semakin besar nilai VIF maka akan semakin besar juga indikasi multicolinearity**. Beberapa peneliti mengatakan untuk menentukan adanya multicolinearity, VIF dibagi menjadi beberapa nilai berikut:\n",
    "- 1 = tidak berkorelasi antar prediktornya\n",
    "- antara 1 dan 5 = korelasinya moderate\n",
    "- Lebih besar 5 = paling kuat berkorelasi antar prediktornya\n",
    "- Biasanya VIF lebih besar 10 adalah yang menunjukkan variabel prediktor sangat berkorelasi kuat.\n",
    "\n",
    "Ketika nilai VIF lebih dari 10 artinya terjadi multicolinearitas. harapannya mendapatkan VIF < 10"
   ]
  },
  {
   "cell_type": "code",
   "execution_count": 59,
   "metadata": {
    "ExecuteTime": {
     "end_time": "2021-12-10T03:04:19.853300Z",
     "start_time": "2021-12-10T03:04:19.818139Z"
    },
    "scrolled": true
   },
   "outputs": [
    {
     "name": "stderr",
     "output_type": "stream",
     "text": [
      "C:\\Users\\dyahn\\anaconda3\\lib\\site-packages\\statsmodels\\tsa\\tsatools.py:130: FutureWarning: In a future version of pandas all arguments of concat except for the argument 'objs' will be keyword-only\n",
      "  x = pd.concat(x[::order], 1)\n"
     ]
    },
    {
     "data": {
      "text/plain": [
       "const       4.623932\n",
       "Sales       2.752777\n",
       "Quantity    2.752777\n",
       "dtype: float64"
      ]
     },
     "execution_count": 59,
     "metadata": {},
     "output_type": "execute_result"
    }
   ],
   "source": [
    "from statsmodels.stats.outliers_influence import variance_inflation_factor as vif\n",
    "import statsmodels.api as sm\n",
    "\n",
    "x = copiers_new_update.drop(columns = 'Profit')\n",
    "\n",
    "xc = sm.add_constant(x)\n",
    "vif = [vif(xc.values, i) for i in range(len(xc.columns))]\n",
    "pd.Series(data=vif, index = xc.columns).sort_values(ascending=False)"
   ]
  },
  {
   "cell_type": "code",
   "execution_count": 60,
   "metadata": {
    "ExecuteTime": {
     "end_time": "2021-12-10T03:05:30.367473Z",
     "start_time": "2021-12-10T03:05:30.353096Z"
    }
   },
   "outputs": [
    {
     "data": {
      "text/html": [
       "<div>\n",
       "<style scoped>\n",
       "    .dataframe tbody tr th:only-of-type {\n",
       "        vertical-align: middle;\n",
       "    }\n",
       "\n",
       "    .dataframe tbody tr th {\n",
       "        vertical-align: top;\n",
       "    }\n",
       "\n",
       "    .dataframe thead th {\n",
       "        text-align: right;\n",
       "    }\n",
       "</style>\n",
       "<table border=\"1\" class=\"dataframe\">\n",
       "  <thead>\n",
       "    <tr style=\"text-align: right;\">\n",
       "      <th></th>\n",
       "      <th>Sales</th>\n",
       "      <th>Quantity</th>\n",
       "      <th>Profit</th>\n",
       "    </tr>\n",
       "  </thead>\n",
       "  <tbody>\n",
       "    <tr>\n",
       "      <th>Sales</th>\n",
       "      <td>1.000000</td>\n",
       "      <td>0.797954</td>\n",
       "      <td>0.939578</td>\n",
       "    </tr>\n",
       "    <tr>\n",
       "      <th>Quantity</th>\n",
       "      <td>0.797954</td>\n",
       "      <td>1.000000</td>\n",
       "      <td>0.685993</td>\n",
       "    </tr>\n",
       "    <tr>\n",
       "      <th>Profit</th>\n",
       "      <td>0.939578</td>\n",
       "      <td>0.685993</td>\n",
       "      <td>1.000000</td>\n",
       "    </tr>\n",
       "  </tbody>\n",
       "</table>\n",
       "</div>"
      ],
      "text/plain": [
       "             Sales  Quantity    Profit\n",
       "Sales     1.000000  0.797954  0.939578\n",
       "Quantity  0.797954  1.000000  0.685993\n",
       "Profit    0.939578  0.685993  1.000000"
      ]
     },
     "execution_count": 60,
     "metadata": {},
     "output_type": "execute_result"
    }
   ],
   "source": [
    "copiers_new_update.corr()"
   ]
  },
  {
   "cell_type": "markdown",
   "metadata": {},
   "source": [
    "Jika terjadi multicollinearity, yang bisa dilakukan adalah:\n",
    "- Membuang salah satu variabel\n",
    "- Membuat variabel baru, dari rata-rata nilai kedua variabel\n",
    "\n",
    "> Ketika nilai VIF > 10 maka **ada hubungan yang kuat antar prediktor**. Yang diingkan ketika membuat model, nilai VIF < 10 agar **tidak ada hubungan antar prediktor**."
   ]
  },
  {
   "cell_type": "markdown",
   "metadata": {},
   "source": [
    "**Reference:**\n",
    "\n",
    "[Verifikasi Uji Asumsi Pada Linear Regression](https://towardsdatascience.com/verifying-the-assumptions-of-linear-regression-in-python-and-r-f4cd2907d4c0)"
   ]
  }
 ],
 "metadata": {
  "kernelspec": {
   "display_name": "Python 3",
   "language": "python",
   "name": "python3"
  },
  "language_info": {
   "codemirror_mode": {
    "name": "ipython",
    "version": 3
   },
   "file_extension": ".py",
   "mimetype": "text/x-python",
   "name": "python",
   "nbconvert_exporter": "python",
   "pygments_lexer": "ipython3",
   "version": "3.8.8"
  },
  "toc": {
   "base_numbering": 1,
   "nav_menu": {},
   "number_sections": true,
   "sideBar": true,
   "skip_h1_title": false,
   "title_cell": "Table of Contents",
   "title_sidebar": "Contents",
   "toc_cell": false,
   "toc_position": {},
   "toc_section_display": true,
   "toc_window_display": false
  }
 },
 "nbformat": 4,
 "nbformat_minor": 4
}
